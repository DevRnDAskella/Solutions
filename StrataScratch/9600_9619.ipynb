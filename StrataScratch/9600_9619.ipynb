{
 "cells": [
  {
   "metadata": {},
   "cell_type": "markdown",
   "source": [
    "#### ID 9613\n",
    "\n",
    "```Find the date when Apple's opening stock price reached its maximum```"
   ],
   "id": "de787b9543cf4c29"
  },
  {
   "metadata": {
    "SqlCellData": {
     "variableName$1": "df_sql"
    }
   },
   "cell_type": "code",
   "outputs": [],
   "execution_count": null,
   "source": [
    "%%sql\n",
    "SELECT date\n",
    "FROM aapl_historical_stock_price\n",
    "WHERE open = (SELECT MAX(open) FROM aapl_historical_stock_price)"
   ],
   "id": "9bbf26e4a112ac71"
  },
  {
   "metadata": {},
   "cell_type": "code",
   "outputs": [],
   "execution_count": null,
   "source": [
    "df = aapl_historical_stock_price\n",
    "\n",
    "max_open = df['open'].max()\n",
    "\n",
    "df.query('open == @max_open')['date'].dt.date"
   ],
   "id": "b29a7d63ae78a7e"
  }
 ],
 "metadata": {
  "kernelspec": {
   "display_name": "Python 3",
   "language": "python",
   "name": "python3"
  },
  "language_info": {
   "codemirror_mode": {
    "name": "ipython",
    "version": 2
   },
   "file_extension": ".py",
   "mimetype": "text/x-python",
   "name": "python",
   "nbconvert_exporter": "python",
   "pygments_lexer": "ipython2",
   "version": "2.7.6"
  }
 },
 "nbformat": 4,
 "nbformat_minor": 5
}
