{
 "cells": [
  {
   "metadata": {},
   "cell_type": "markdown",
   "source": [
    "#### ID 10139\n",
    "\n",
    "```Find the number of speakers of each language by country. Output the country, language, and the corresponding number of speakers. Output the result based on the country in ascending order.```"
   ],
   "id": "b045d140d8f53917"
  },
  {
   "metadata": {
    "SqlCellData": {
     "variableName$1": "df_sql"
    }
   },
   "cell_type": "code",
   "outputs": [],
   "execution_count": null,
   "source": [
    "%%sql\n",
    "SELECT location, language, COUNT(DISTINCT user_id) AS n_speakers\n",
    "FROM playbook_events pe\n",
    "         JOIN playbook_users pu USING (user_id)\n",
    "GROUP BY location, language\n",
    "ORDER BY location"
   ],
   "id": "67eaed030a03c666"
  },
  {
   "metadata": {},
   "cell_type": "code",
   "outputs": [],
   "execution_count": null,
   "source": [
    "pd.merge(playbook_events, playbook_users, how='inner', on='user_id').groupby(['location', 'language'],\n",
    "                                                                             as_index=False).agg(\n",
    "    n_speakers=('user_id', 'nunique')).sort_values('location')"
   ],
   "id": "ba80a918df38e875"
  }
 ],
 "metadata": {
  "kernelspec": {
   "display_name": "Python 3",
   "language": "python",
   "name": "python3"
  },
  "language_info": {
   "codemirror_mode": {
    "name": "ipython",
    "version": 2
   },
   "file_extension": ".py",
   "mimetype": "text/x-python",
   "name": "python",
   "nbconvert_exporter": "python",
   "pygments_lexer": "ipython2",
   "version": "2.7.6"
  }
 },
 "nbformat": 4,
 "nbformat_minor": 5
}
