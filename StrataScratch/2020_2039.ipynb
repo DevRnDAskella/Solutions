{
 "cells": [
  {
   "metadata": {},
   "cell_type": "markdown",
   "source": [
    "#### ID 2021\n",
    "\n",
    "```Redfin helps clients to find agents. Each client will have a unique request_id and each request_id has several calls. For each request_id, the first call is an “initial call” and all the following calls are “update calls”.  What's the average call duration for all initial calls?```"
   ],
   "id": "e046d6d96b8c8769"
  },
  {
   "metadata": {
    "SqlCellData": {
     "variableName$1": "df_sql"
    }
   },
   "cell_type": "code",
   "outputs": [],
   "execution_count": null,
   "source": [
    "%%sql\n",
    "WITH cte AS (SELECT request_id,\n",
    "                    call_duration,\n",
    "                    RANK() OVER (PARTITION BY request_id ORDER BY created_on) AS rnk\n",
    "             FROM redfin_call_tracking)\n",
    "SELECT AVG(call_duration)\n",
    "FROM cte\n",
    "WHERE rnk = 1"
   ],
   "id": "caddac188ffe4d9c"
  },
  {
   "metadata": {},
   "cell_type": "code",
   "outputs": [],
   "execution_count": null,
   "source": [
    "df = redfin_call_tracking\n",
    "df['rnk'] = df.groupby('request_id')['created_on'].rank(method='first', ascending=True)\n",
    "df.query('rnk == 1')['call_duration'].mean()"
   ],
   "id": "ab7c28cbd6b19a57"
  },
  {
   "metadata": {},
   "cell_type": "markdown",
   "source": [
    "#### ID 2022\n",
    "\n",
    "```Redfin helps clients to find agents. Each client will have a unique request_id and each request_id has several calls. For each request_id, the first call is an “initial call” and all the following calls are “update calls”.  What's the average call duration for all update calls?```"
   ],
   "id": "f4c7eb4eb0af9bc5"
  },
  {
   "metadata": {
    "SqlCellData": {
     "variableName$1": "df_sql1"
    }
   },
   "cell_type": "code",
   "outputs": [],
   "execution_count": null,
   "source": [
    "%%sql\n",
    "SELECT AVG(call_duration)\n",
    "FROM (SELECT call_duration,\n",
    "             DENSE_RANK() OVER (PARTITION BY request_id ORDER BY created_on) AS rnk\n",
    "      FROM redfin_call_tracking) t1\n",
    "WHERE rnk > 1"
   ],
   "id": "456ab3a3a4d918ca"
  },
  {
   "metadata": {},
   "cell_type": "code",
   "outputs": [],
   "execution_count": null,
   "source": [
    "df = redfin_call_tracking\n",
    "df['rnk'] = df.sort_values('created_on').groupby('request_id')['created_on'].rank(method='dense')\n",
    "df.query('rnk > 1')['call_duration'].mean()"
   ],
   "id": "e3179bcd454e9ff0"
  },
  {
   "metadata": {},
   "cell_type": "markdown",
   "source": [
    "#### 2023\n",
    "\n",
    "```Redfin helps clients to find agents. Each client will have a unique request_id and each request_id has several calls. For each request_id, the first call is an “initial call” and all the following calls are “update calls”.  How many customers have called 3 or more times between 3 PM and 6 PM (initial and update calls combined)?```"
   ],
   "id": "f5d31959691ce546"
  },
  {
   "metadata": {
    "SqlCellData": {
     "variableName$1": "df_sql2"
    }
   },
   "cell_type": "code",
   "outputs": [],
   "execution_count": null,
   "source": [
    "%%sql\n",
    "WITH total_calls AS (SELECT request_id, COUNT(call_duration) AS cnt\n",
    "             FROM redfin_call_tracking\n",
    "             WHERE EXTRACT(HOUR FROM created_on) BETWEEN 15 AND 18\n",
    "             GROUP BY request_id\n",
    "             HAVING COUNT(call_duration) >= 3)\n",
    "SELECT COUNT(request_id)\n",
    "FROM total_calls"
   ],
   "id": "5b743141618738c9"
  },
  {
   "metadata": {},
   "cell_type": "code",
   "outputs": [],
   "execution_count": null,
   "source": [
    "df = redfin_call_tracking\n",
    "df[(df['created_on'].dt.hour >= 15) & (df['created_on'].dt.hour <= 18)].groupby('request_id', as_index=False).agg(total_cnt=('call_duration', 'count')).query('total_cnt >= 3')['request_id'].count()"
   ],
   "id": "c7552b6160af938f"
  },
  {
   "metadata": {},
   "cell_type": "markdown",
   "source": [
    "#### ID 2025\n",
    "\n",
    "```Write a query that returns a number of users who are exclusive to only one client. Output the client_id and number of exclusive users.```"
   ],
   "id": "2a3fae490f63f1e9"
  },
  {
   "metadata": {
    "SqlCellData": {
     "variableName$1": "df_sql3"
    }
   },
   "cell_type": "code",
   "outputs": [],
   "execution_count": null,
   "source": [
    "%%sql\n",
    "WITH distinct_users AS (SELECT user_id, COUNT(DISTINCT client_id)\n",
    "                        FROM fact_events\n",
    "                        GROUP BY user_id\n",
    "                        HAVING COUNT(DISTINCT client_id) = 1)\n",
    "\n",
    "SELECT client_id, COUNT(DISTINCT fe.user_id)\n",
    "FROM fact_events fe\n",
    "         JOIN distinct_users du ON fe.user_id = du.user_id\n",
    "GROUP BY client_id"
   ],
   "id": "27a40b3bf7db5fc1"
  },
  {
   "metadata": {},
   "cell_type": "code",
   "outputs": [],
   "execution_count": null,
   "source": [
    "df = fact_events\n",
    "grouped_users = df.groupby('user_id', as_index=False).agg(cnt=('client_id', 'nunique')).query('cnt == 1')['user_id'].to_list()\n",
    "df.query('user_id.isin(@grouped_users)').groupby('client_id', as_index=False).agg(cnt_users=('user_id', 'nunique'))"
   ],
   "id": "4e89094c194c1686"
  }
 ],
 "metadata": {
  "kernelspec": {
   "display_name": "Python 3",
   "language": "python",
   "name": "python3"
  },
  "language_info": {
   "codemirror_mode": {
    "name": "ipython",
    "version": 2
   },
   "file_extension": ".py",
   "mimetype": "text/x-python",
   "name": "python",
   "nbconvert_exporter": "python",
   "pygments_lexer": "ipython2",
   "version": "2.7.6"
  }
 },
 "nbformat": 4,
 "nbformat_minor": 5
}
