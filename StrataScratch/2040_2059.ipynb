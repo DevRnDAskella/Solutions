{
 "cells": [
  {
   "metadata": {},
   "cell_type": "markdown",
   "source": [
    "#### ID 2040\n",
    "\n",
    "```Summarize the number of customers and transactions for each month in 2017, keeping transactions that were greater or equal to $5.```"
   ],
   "id": "e7f82338f9ce7e3a"
  },
  {
   "metadata": {
    "SqlCellData": {
     "variableName$1": "df_sql"
    }
   },
   "cell_type": "code",
   "outputs": [],
   "execution_count": null,
   "source": [
    "%%sql\n",
    "WITH cte AS (SELECT transaction_id, SUM(sales)\n",
    "             FROM wfm_transactions\n",
    "             WHERE EXTRACT(YEAR FROM transaction_date) = 2017\n",
    "             GROUP BY transaction_id\n",
    "             HAVING SUM(sales) >= 5)\n",
    "SELECT EXTRACT(MONTH FROM transaction_date) AS month,\n",
    "       COUNT(DISTINCT customer_id)          AS customers,\n",
    "       COUNT(DISTINCT transaction_id)       AS transactions\n",
    "FROM cte\n",
    "         JOIN wfm_transactions USING (transaction_id)\n",
    "GROUP BY month\n",
    "ORDER BY month"
   ],
   "id": "e6d7dd379d9bcf8d"
  },
  {
   "metadata": {},
   "cell_type": "code",
   "outputs": [],
   "execution_count": null,
   "source": [
    "df = wfm_transactions\n",
    "df['year'] = df['transaction_date'].dt.year\n",
    "df['month'] = df['transaction_date'].dt.month\n",
    "transactions_list = df.query('year == 2017').groupby('transaction_id', as_index=False).agg(total_sales=('sales', 'sum')).query('total_sales >= 5')['transaction_id'].to_list()\n",
    "df.query('transaction_id.isin(@transactions_list)').groupby('month', as_index=False).agg(customers=('customer_id', 'nunique'), transactions=('transaction_id', 'nunique'))"
   ],
   "id": "5bab7d367317961d"
  },
  {
   "metadata": {},
   "cell_type": "markdown",
   "source": [
    "#### ID 2041\n",
    "\n",
    "```You work for a multinational company that wants to calculate total sales across all their countries they do business in. You have 2 tables, one is a record of sales for all countries and currencies the company deals with, and the other holds currency exchange rate information. Calculate the total sales, per quarter, for the first 2 quarters in 2020, and report the sales in USD currency.```"
   ],
   "id": "51dd5093cfd4e18a"
  },
  {
   "metadata": {
    "SqlCellData": {
     "variableName$1": "df_sql2"
    }
   },
   "cell_type": "code",
   "outputs": [],
   "execution_count": null,
   "source": [
    "%%sql\n",
    "SELECT EXTRACT(QUARTER FROM date)        AS quarter,\n",
    "       SUM(sales_amount * exchange_rate) AS total_sales\n",
    "FROM sf_exchange_rate er\n",
    "         JOIN sf_sales_amount sa\n",
    "              ON er.date = sa.sales_date AND sa.currency = er.source_currency\n",
    "WHERE EXTRACT(QUARTER FROM date) IN (1, 2)\n",
    "GROUP BY quarter"
   ],
   "id": "25d9d68a1a66c79c"
  },
  {
   "metadata": {},
   "cell_type": "code",
   "outputs": [],
   "execution_count": null,
   "source": [
    "df = pd.merge(sf_sales_amount, sf_exchange_rate, how='inner', right_on=['date', 'source_currency'], left_on=['sales_date', 'currency'])\n",
    "\n",
    "df['amount_sales'] = df['sales_amount'] * df['exchange_rate']\n",
    "df['year'] = df['sales_date'].dt.year\n",
    "df['quarter'] = df['sales_date'].dt.quarter\n",
    "\n",
    "df.query('year == 2020 & quarter.isin([1, 2])').groupby('quarter', as_index=False).agg(total_sales=('amount_sales', 'sum'))"
   ],
   "id": "b94954a046968d17"
  },
  {
   "metadata": {},
   "cell_type": "markdown",
   "source": [
    "#### ID 2043\n",
    "\n",
    "```Return all employees who have never had an annual review. Your output should include the employee's first name, last name, hiring date, and termination date. List the most recently hired employees first.```"
   ],
   "id": "b46bb0ceb62803d9"
  },
  {
   "metadata": {
    "SqlCellData": {
     "variableName$1": "df_sql1"
    }
   },
   "cell_type": "code",
   "outputs": [],
   "execution_count": null,
   "source": [
    "%%sql\n",
    "SELECT first_name,\n",
    "       last_name,\n",
    "       hire_date,\n",
    "       termination_date\n",
    "FROM uber_employees\n",
    "WHERE id NOT IN (SELECT emp_id FROM uber_annual_review)\n",
    "ORDER BY hire_date DESC"
   ],
   "id": "2c06a66017b8b572"
  },
  {
   "metadata": {},
   "cell_type": "code",
   "outputs": [],
   "execution_count": null,
   "source": [
    "employees_list = uber_annual_review['emp_id'].to_list()\n",
    "df = uber_employees\n",
    "df.query('~id.isin(@employees_list)')[['first_name', 'last_name', 'hire_date', 'termination_date']].sort_values('hire_date', ascending=False)"
   ],
   "id": "62763a9d3cbc28bf"
  }
 ],
 "metadata": {
  "kernelspec": {
   "display_name": "Python 3",
   "language": "python",
   "name": "python3"
  },
  "language_info": {
   "codemirror_mode": {
    "name": "ipython",
    "version": 2
   },
   "file_extension": ".py",
   "mimetype": "text/x-python",
   "name": "python",
   "nbconvert_exporter": "python",
   "pygments_lexer": "ipython2",
   "version": "2.7.6"
  }
 },
 "nbformat": 4,
 "nbformat_minor": 5
}
