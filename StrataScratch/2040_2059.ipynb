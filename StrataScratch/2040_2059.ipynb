{
 "cells": [
  {
   "metadata": {},
   "cell_type": "markdown",
   "source": [
    "#### ID 2040\n",
    "\n",
    "```Summarize the number of customers and transactions for each month in 2017, keeping transactions that were greater or equal to $5.```"
   ],
   "id": "e7f82338f9ce7e3a"
  },
  {
   "metadata": {
    "SqlCellData": {
     "variableName$1": "df_sql"
    }
   },
   "cell_type": "code",
   "outputs": [],
   "execution_count": null,
   "source": [
    "%%sql\n",
    "WITH cte AS (SELECT transaction_id, SUM(sales)\n",
    "             FROM wfm_transactions\n",
    "             WHERE EXTRACT(YEAR FROM transaction_date) = 2017\n",
    "             GROUP BY transaction_id\n",
    "             HAVING SUM(sales) >= 5)\n",
    "SELECT EXTRACT(MONTH FROM transaction_date) AS month,\n",
    "       COUNT(DISTINCT customer_id)          AS customers,\n",
    "       COUNT(DISTINCT transaction_id)       AS transactions\n",
    "FROM cte\n",
    "         JOIN wfm_transactions USING (transaction_id)\n",
    "GROUP BY month\n",
    "ORDER BY month"
   ],
   "id": "e6d7dd379d9bcf8d"
  },
  {
   "metadata": {},
   "cell_type": "code",
   "outputs": [],
   "execution_count": null,
   "source": [
    "df = wfm_transactions\n",
    "df['year'] = df['transaction_date'].dt.year\n",
    "df['month'] = df['transaction_date'].dt.month\n",
    "transactions_list = df.query('year == 2017').groupby('transaction_id', as_index=False).agg(total_sales=('sales', 'sum')).query('total_sales >= 5')['transaction_id'].to_list()\n",
    "df.query('transaction_id.isin(@transactions_list)').groupby('month', as_index=False).agg(customers=('customer_id', 'nunique'), transactions=('transaction_id', 'nunique'))"
   ],
   "id": "5bab7d367317961d"
  },
  {
   "metadata": {},
   "cell_type": "markdown",
   "source": [
    "#### ID 2041\n",
    "\n",
    "```You work for a multinational company that wants to calculate total sales across all their countries they do business in. You have 2 tables, one is a record of sales for all countries and currencies the company deals with, and the other holds currency exchange rate information. Calculate the total sales, per quarter, for the first 2 quarters in 2020, and report the sales in USD currency.```"
   ],
   "id": "51dd5093cfd4e18a"
  },
  {
   "metadata": {
    "SqlCellData": {
     "variableName$1": "df_sql2"
    }
   },
   "cell_type": "code",
   "outputs": [],
   "execution_count": null,
   "source": [
    "%%sql\n",
    "SELECT EXTRACT(QUARTER FROM date)        AS quarter,\n",
    "       SUM(sales_amount * exchange_rate) AS total_sales\n",
    "FROM sf_exchange_rate er\n",
    "         JOIN sf_sales_amount sa\n",
    "              ON er.date = sa.sales_date AND sa.currency = er.source_currency\n",
    "WHERE EXTRACT(QUARTER FROM date) IN (1, 2)\n",
    "GROUP BY quarter"
   ],
   "id": "25d9d68a1a66c79c"
  },
  {
   "metadata": {},
   "cell_type": "code",
   "outputs": [],
   "execution_count": null,
   "source": [
    "df = pd.merge(sf_sales_amount, sf_exchange_rate, how='inner', right_on=['date', 'source_currency'], left_on=['sales_date', 'currency'])\n",
    "\n",
    "df['amount_sales'] = df['sales_amount'] * df['exchange_rate']\n",
    "df['year'] = df['sales_date'].dt.year\n",
    "df['quarter'] = df['sales_date'].dt.quarter\n",
    "\n",
    "df.query('year == 2020 & quarter.isin([1, 2])').groupby('quarter', as_index=False).agg(total_sales=('amount_sales', 'sum'))"
   ],
   "id": "b94954a046968d17"
  },
  {
   "metadata": {},
   "cell_type": "markdown",
   "source": [
    "#### ID 2042\n",
    "\n",
    "```Find employees who have worked for Uber for more than 2 years (730 days) and check to see if they're still part of the company. Output 'Yes' if they are and 'No' if they are not. Use May 1, 2021 as your date of reference when calculating whether they have worked for more than 2 years since their hire date. Output the first name, last name, whether or not the employee is still working for Uber, and the number of years at the company.```"
   ],
   "id": "2e371279be1eb7bf"
  },
  {
   "metadata": {
    "SqlCellData": {
     "variableName$1": "df_sql3"
    }
   },
   "cell_type": "code",
   "outputs": [],
   "execution_count": null,
   "source": [
    "%%sql\n",
    "SELECT first_name,\n",
    "       last_name,\n",
    "       CASE\n",
    "           WHEN termination_date IS NOT NULL THEN\n",
    "               DATE_PART('day', termination_date::TIMESTAMP - hire_date::TIMESTAMP) *\n",
    "               1.0 / 365\n",
    "           ELSE\n",
    "               DATE_PART('day', '2021-05-01'::TIMESTAMP - hire_date::TIMESTAMP) * 1.0 /\n",
    "               365\n",
    "           END           AS years_spent,\n",
    "       CASE\n",
    "           WHEN termination_date IS NULL THEN 'Yes'\n",
    "           ELSE 'No' END AS still_employed\n",
    "FROM uber_employees\n",
    "WHERE (COALESCE(termination_date, '2021-05-01') - hire_date) > 730"
   ],
   "id": "ddbd9f08b357804c"
  },
  {
   "metadata": {
    "jupyter": {
     "is_executing": true
    }
   },
   "cell_type": "code",
   "source": "# TODO",
   "id": "919e66919102e1e6",
   "outputs": [],
   "execution_count": null
  },
  {
   "metadata": {},
   "cell_type": "markdown",
   "source": [
    "#### ID 2043\n",
    "\n",
    "```Return all employees who have never had an annual review. Your output should include the employee's first name, last name, hiring date, and termination date. List the most recently hired employees first.```"
   ],
   "id": "b46bb0ceb62803d9"
  },
  {
   "metadata": {
    "SqlCellData": {
     "variableName$1": "df_sql1"
    }
   },
   "cell_type": "code",
   "outputs": [],
   "execution_count": null,
   "source": [
    "%%sql\n",
    "SELECT first_name,\n",
    "       last_name,\n",
    "       hire_date,\n",
    "       termination_date\n",
    "FROM uber_employees\n",
    "WHERE id NOT IN (SELECT emp_id FROM uber_annual_review)\n",
    "ORDER BY hire_date DESC"
   ],
   "id": "2c06a66017b8b572"
  },
  {
   "metadata": {},
   "cell_type": "code",
   "outputs": [],
   "execution_count": null,
   "source": [
    "employees_list = uber_annual_review['emp_id'].to_list()\n",
    "df = uber_employees\n",
    "df.query('~id.isin(@employees_list)')[['first_name', 'last_name', 'hire_date', 'termination_date']].sort_values('hire_date', ascending=False)"
   ],
   "id": "62763a9d3cbc28bf"
  },
  {
   "metadata": {},
   "cell_type": "markdown",
   "source": [
    "#### ID 2045\n",
    "\n",
    "```Write a query to calculate the longest period (in days) that the company has gone without hiring anyone. Also, calculate the longest period without firing anyone. Limit yourself to dates inside the table (last hiring/termination date should be the latest hiring /termination date from table), don't go into future.```"
   ],
   "id": "cb9273287cb2f471"
  },
  {
   "metadata": {
    "SqlCellData": {
     "variableName$1": "df_sql4"
    }
   },
   "cell_type": "code",
   "outputs": [],
   "execution_count": null,
   "source": [
    "%%sql\n",
    "WITH prev_hire_termination AS (SELECT hire_date,\n",
    "                    LAG(hire_date, 1) OVER (ORDER BY hire_date)               AS prev_hire_date,\n",
    "                    termination_date,\n",
    "                    LAG(termination_date, 1)\n",
    "                    OVER (ORDER BY termination_date)                          AS prev_termination_date\n",
    "             FROM uber_employees)\n",
    "SELECT MAX(hire_date - prev_hire_date)               AS max_hire,\n",
    "       MAX(termination_date - prev_termination_date) AS max_fire\n",
    "FROM prev_hire_termination;"
   ],
   "id": "57a1a49eb9ad43bc"
  },
  {
   "metadata": {},
   "cell_type": "code",
   "outputs": [],
   "execution_count": null,
   "source": [
    "df = uber_employees\n",
    "df['prev_hire_date'] = df.sort_values('hire_date')['hire_date'].shift(1)\n",
    "df['prev_termination_date'] = df.sort_values('termination_date')['termination_date'].shift(1)\n",
    "df['diff_hire_date'] = (df['hire_date'] - df['prev_hire_date']) / (60 * 60 * 24)\n",
    "df['diff_termination_date'] = (df['termination_date'] - df['prev_termination_date']) / (60 * 60 * 24)\n",
    "df[['diff_hire_date', 'diff_termination_date']].agg(['max'])"
   ],
   "id": "a5dd3ea4d85edb46"
  }
 ],
 "metadata": {
  "kernelspec": {
   "display_name": "Python 3",
   "language": "python",
   "name": "python3"
  },
  "language_info": {
   "codemirror_mode": {
    "name": "ipython",
    "version": 2
   },
   "file_extension": ".py",
   "mimetype": "text/x-python",
   "name": "python",
   "nbconvert_exporter": "python",
   "pygments_lexer": "ipython2",
   "version": "2.7.6"
  }
 },
 "nbformat": 4,
 "nbformat_minor": 5
}
