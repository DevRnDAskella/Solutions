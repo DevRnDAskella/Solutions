{
 "cells": [
  {
   "metadata": {},
   "cell_type": "markdown",
   "source": [
    "#### ID 2040\n",
    "\n",
    "```Summarize the number of customers and transactions for each month in 2017, keeping transactions that were greater or equal to $5.```"
   ],
   "id": "e7f82338f9ce7e3a"
  },
  {
   "metadata": {
    "SqlCellData": {
     "variableName$1": "df_sql"
    }
   },
   "cell_type": "code",
   "outputs": [],
   "execution_count": null,
   "source": [
    "%%sql\n",
    "WITH cte AS (SELECT transaction_id, SUM(sales)\n",
    "             FROM wfm_transactions\n",
    "             WHERE EXTRACT(YEAR FROM transaction_date) = 2017\n",
    "             GROUP BY transaction_id\n",
    "             HAVING SUM(sales) >= 5)\n",
    "SELECT EXTRACT(MONTH FROM transaction_date) AS month,\n",
    "       COUNT(DISTINCT customer_id)          AS customers,\n",
    "       COUNT(DISTINCT transaction_id)       AS transactions\n",
    "FROM cte\n",
    "         JOIN wfm_transactions USING (transaction_id)\n",
    "GROUP BY month\n",
    "ORDER BY month"
   ],
   "id": "e6d7dd379d9bcf8d"
  },
  {
   "metadata": {},
   "cell_type": "code",
   "outputs": [],
   "execution_count": null,
   "source": [
    "df = wfm_transactions\n",
    "df['year'] = df['transaction_date'].dt.year\n",
    "df['month'] = df['transaction_date'].dt.month\n",
    "transactions_list = df.query('year == 2017').groupby('transaction_id', as_index=False).agg(total_sales=('sales', 'sum')).query('total_sales >= 5')['transaction_id'].to_list()\n",
    "df.query('transaction_id.isin(@transactions_list)').groupby('month', as_index=False).agg(customers=('customer_id', 'nunique'), transactions=('transaction_id', 'nunique'))"
   ],
   "id": "5bab7d367317961d"
  }
 ],
 "metadata": {
  "kernelspec": {
   "display_name": "Python 3",
   "language": "python",
   "name": "python3"
  },
  "language_info": {
   "codemirror_mode": {
    "name": "ipython",
    "version": 2
   },
   "file_extension": ".py",
   "mimetype": "text/x-python",
   "name": "python",
   "nbconvert_exporter": "python",
   "pygments_lexer": "ipython2",
   "version": "2.7.6"
  }
 },
 "nbformat": 4,
 "nbformat_minor": 5
}
