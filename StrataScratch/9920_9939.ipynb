{
 "cells": [
  {
   "metadata": {},
   "cell_type": "markdown",
   "source": [
    "#### ID 9922\n",
    "\n",
    "```Find the number of patrons that have made the highest checkouts up to 10 (excluding 10).\n",
    "Output the number of patrons along with the corresponding total checkouts. Sort records based on the total checkouts in descending order.```"
   ],
   "id": "c7e56abaa7585c7b"
  },
  {
   "metadata": {
    "SqlCellData": {
     "variableName$1": "df_sql"
    }
   },
   "cell_type": "code",
   "outputs": [],
   "execution_count": null,
   "source": [
    "%%sql\n",
    "SELECT total_checkouts, COUNT(*) AS n_patrons\n",
    "FROM library_usage\n",
    "WHERE total_checkouts < 10\n",
    "GROUP BY total_checkouts\n",
    "ORDER BY total_checkouts DESC"
   ],
   "id": "5951434be1ca9489"
  },
  {
   "metadata": {},
   "cell_type": "code",
   "outputs": [],
   "execution_count": null,
   "source": [
    "df = library_usage\n",
    "\n",
    "df.query('total_checkouts < 10').groupby('total_checkouts', as_index=False).agg(\n",
    "    n_patrons=('patron_type_code', 'count')).sort_values('total_checkouts', ascending=False)"
   ],
   "id": "c0b5caea070833c"
  }
 ],
 "metadata": {
  "kernelspec": {
   "display_name": "Python 3",
   "language": "python",
   "name": "python3"
  },
  "language_info": {
   "codemirror_mode": {
    "name": "ipython",
    "version": 2
   },
   "file_extension": ".py",
   "mimetype": "text/x-python",
   "name": "python",
   "nbconvert_exporter": "python",
   "pygments_lexer": "ipython2",
   "version": "2.7.6"
  }
 },
 "nbformat": 4,
 "nbformat_minor": 5
}
