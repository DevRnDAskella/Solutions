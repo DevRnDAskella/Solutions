{
 "cells": [
  {
   "metadata": {},
   "cell_type": "markdown",
   "source": [
    "#### ID 2141\n",
    "\n",
    "```Amazon's information technology department is looking for information on employees' most recent logins. The output should include all information related to each employee's most recent login.```"
   ],
   "id": "1d171831a4f4b39"
  },
  {
   "metadata": {
    "SqlCellData": {
     "variableName$1": "df_sql2"
    }
   },
   "cell_type": "code",
   "outputs": [],
   "execution_count": null,
   "source": [
    "%%sql\n",
    "WITH cte\n",
    "         AS (SELECT DENSE_RANK()\n",
    "                    OVER (PARTITION BY worker_id ORDER BY login_timestamp DESC),\n",
    "                    id,\n",
    "                    worker_id,\n",
    "                    login_timestamp,\n",
    "                    ip_address,\n",
    "                    country,\n",
    "                    region,\n",
    "                    city,\n",
    "                    device_type\n",
    "             FROM worker_logins)\n",
    "SELECT id,\n",
    "       worker_id,\n",
    "       login_timestamp,\n",
    "       ip_address,\n",
    "       country,\n",
    "       region,\n",
    "       city,\n",
    "       device_type\n",
    "FROM cte\n",
    "WHERE dense_rank = 1\n",
    "ORDER BY id"
   ],
   "id": "b3b958e0453002bf"
  },
  {
   "metadata": {},
   "cell_type": "code",
   "outputs": [],
   "execution_count": null,
   "source": [
    "df = worker_logins\n",
    "\n",
    "df['rnk'] = df.groupby('worker_id')['login_timestamp'].rank(method='first', ascending=False)\n",
    "\n",
    "df.query('rnk == 1').drop(columns=['rnk'])"
   ],
   "id": "a43990171f40938"
  },
  {
   "metadata": {},
   "cell_type": "markdown",
   "source": [
    "#### ID 2142\n",
    "\n",
    "```You've been asked by Amazon to find the shipment_id and weight of the third heaviest shipment. Output the shipment_id, and total_weight for that shipment_id. In the event of a tie, do not skip ranks.```"
   ],
   "id": "356029f1d31d7f88"
  },
  {
   "metadata": {
    "SqlCellData": {
     "variableName$1": "df_sql3"
    }
   },
   "cell_type": "code",
   "outputs": [],
   "execution_count": null,
   "source": [
    "%%sql\n",
    "WITH cte AS (SELECT shipment_id,\n",
    "                    SUM(weight) AS total_weight,\n",
    "                    DENSE_RANK() OVER (ORDER BY SUM(weight) DESC)\n",
    "             FROM amazon_shipment\n",
    "             GROUP BY shipment_id)\n",
    "SELECT shipment_id, total_weight\n",
    "FROM cte\n",
    "WHERE dense_rank = 3"
   ],
   "id": "d0a78b83f217ac9d"
  },
  {
   "metadata": {},
   "cell_type": "code",
   "outputs": [],
   "execution_count": null,
   "source": [
    "df = amazon_shipment\n",
    "\n",
    "grouped_df = df.groupby('shipment_id', as_index=False).agg(total_weight=('weight', 'sum'))\n",
    "\n",
    "grouped_df['rnk'] = grouped_df['total_weight'].rank(method='dense', ascending=False)\n",
    "\n",
    "grouped_df.query('rnk == 3').drop(columns=['rnk'])"
   ],
   "id": "bf4b6358ed6b93af"
  },
  {
   "metadata": {},
   "cell_type": "markdown",
   "source": [
    "#### ID 2151\n",
    "\n",
    "```You have been asked to find the number of employees hired between the months of January and July in the year 2022 inclusive. Your output should contain the number of employees hired in this given time frame.```"
   ],
   "id": "e147377bc939c673"
  },
  {
   "metadata": {
    "SqlCellData": {
     "variableName$1": "df_sql5"
    }
   },
   "cell_type": "code",
   "outputs": [],
   "execution_count": null,
   "source": [
    "%%sql\n",
    "SELECT COUNT(id) AS hired_emp\n",
    "FROM employees\n",
    "WHERE DATE_TRUNC('month', joining_date) BETWEEN '2022-01-01' AND '2022-07-01'"
   ],
   "id": "fa7c053b45596950"
  },
  {
   "metadata": {},
   "cell_type": "code",
   "outputs": [],
   "execution_count": null,
   "source": [
    "df = employees\n",
    "\n",
    "df[df['joining_date'].dt.to_period('M').between('2022-01-01', '2022-07-01')]['id'].count()"
   ],
   "id": "dc09424f88bcfa14"
  },
  {
   "metadata": {},
   "cell_type": "markdown",
   "source": [
    "#### ID 2156\n",
    "\n",
    "```You have been tasked with finding the worker IDs of individuals who logged in between the 13th to the 19th inclusive of December 2021. In your output, provide the unique worker IDs for the dates requested.'```"
   ],
   "id": "ae5b0f8efb62a0c9"
  },
  {
   "metadata": {
    "SqlCellData": {
     "variableName$1": "df_sql4"
    }
   },
   "cell_type": "code",
   "outputs": [],
   "execution_count": null,
   "source": [
    "%%sql\n",
    "SELECT DISTINCT worker_id\n",
    "FROM worker_logins\n",
    "WHERE login_timestamp BETWEEN '2021-12-13' AND '2021-12-20'"
   ],
   "id": "2380c2c3d1067fd6"
  },
  {
   "metadata": {},
   "cell_type": "code",
   "outputs": [],
   "execution_count": null,
   "source": [
    "df = worker_logins\n",
    "\n",
    "df.query('login_timestamp.between(\"2021-12-13\", \"2021-12-19\")')['worker_id'].drop_duplicates()"
   ],
   "id": "a3e18311e87ad080"
  },
  {
   "metadata": {},
   "cell_type": "markdown",
   "source": [
    "#### ID 2159\n",
    "\n",
    "```You have been asked to get a list of all the sign up IDs with transaction start dates in either April or May. Since a sign up ID can be used for multiple transactions only output the unique ID. Your output should contain a list of non duplicated sign-up IDs.```"
   ],
   "id": "9a4bcd0d2759dbb8"
  },
  {
   "metadata": {
    "SqlCellData": {
     "variableName$1": "df_sql"
    }
   },
   "cell_type": "code",
   "outputs": [],
   "execution_count": null,
   "source": [
    "%%sql\n",
    "SELECT DISTINCT signup_id\n",
    "FROM transactions\n",
    "WHERE DATE_TRUNC('month', transaction_start_date)::DATE IN ('2020-04-01', '2020-05-01')"
   ],
   "id": "87a6b9a77f8998e1"
  },
  {
   "metadata": {},
   "cell_type": "code",
   "outputs": [],
   "execution_count": null,
   "source": [
    "df = transactions\n",
    "\n",
    "df.query('transaction_start_date >= \"2020-04-01\" & transaction_start_date < \"2020-06-01\"')['signup_id'].unique()"
   ],
   "id": "86ff2770bb7defb2"
  },
  {
   "metadata": {},
   "cell_type": "markdown",
   "source": [
    "#### ID 2160\n",
    "\n",
    "```The sales division is investigating their sales for the past month in Oregon. Calculate the total revenue generated from Oregon-based customers for April.```"
   ],
   "id": "b0d924580a3c409c"
  },
  {
   "metadata": {
    "SqlCellData": {
     "variableName$1": "df_sql1"
    }
   },
   "cell_type": "code",
   "outputs": [],
   "execution_count": null,
   "source": [
    "%%sql\n",
    "SELECT SUM(cost_in_dollars * units_sold) AS total_sales\n",
    "FROM online_orders AS oo\n",
    "         JOIN online_customers AS oc ON oo.customer_id = oc.id\n",
    "WHERE state ILIKE 'oregon'\n",
    "  AND DATE_TRUNC('month', date) = '2022-04-01'"
   ],
   "id": "7fde100d304b2da2"
  },
  {
   "metadata": {},
   "cell_type": "code",
   "outputs": [],
   "execution_count": null,
   "source": [
    "df = pd.merge(online_orders, online_customers, how='inner', left_on='customer_id', right_on='id')\n",
    "\n",
    "df['sales'] = df['cost_in_dollars'] * df['units_sold']\n",
    "\n",
    "df.query('state == \"Oregon\" & date.between(\"2022-04-01\", \"2022-04-30\")')['sales'].sum()"
   ],
   "id": "bf2e2f575dc5e9e9"
  }
 ],
 "metadata": {
  "kernelspec": {
   "display_name": "Python 3",
   "language": "python",
   "name": "python3"
  },
  "language_info": {
   "codemirror_mode": {
    "name": "ipython",
    "version": 2
   },
   "file_extension": ".py",
   "mimetype": "text/x-python",
   "name": "python",
   "nbconvert_exporter": "python",
   "pygments_lexer": "ipython2",
   "version": "2.7.6"
  }
 },
 "nbformat": 4,
 "nbformat_minor": 5
}
