{
 "cells": [
  {
   "metadata": {},
   "cell_type": "markdown",
   "source": [
    "#### ID 2140\n",
    "\n",
    "```American Express is reviewing their customers' transactions, and you have been tasked with locating the customer who has the third highest total transaction amount. The output should include the customer's id, as well as their first name and last name. For ranking the customers, use type of ranking with no gaps between subsequent ranks.```"
   ],
   "id": "429406300ddf0eeb"
  },
  {
   "metadata": {
    "SqlCellData": {
     "variableName$1": "df_sql6"
    }
   },
   "cell_type": "code",
   "outputs": [],
   "execution_count": null,
   "source": [
    "%%sql\n",
    "WITH cte AS (SELECT cust_id,\n",
    "                    SUM(total_order_cost)                              AS total_cost,\n",
    "                    DENSE_RANK() OVER (ORDER BY SUM(total_order_cost)) AS rnk\n",
    "             FROM card_orders\n",
    "             GROUP BY cust_id)\n",
    "SELECT cust_id, first_name, last_name\n",
    "FROM cte\n",
    "         JOIN customers AS c ON cte.cust_id = c.id\n",
    "WHERE rnk = 3"
   ],
   "id": "8b0e96eda5a3b0c4"
  },
  {
   "metadata": {},
   "cell_type": "code",
   "outputs": [],
   "execution_count": null,
   "source": [
    "df = card_orders\n",
    "\n",
    "groped_df = df.groupby('cust_id', as_index=False).agg(total_cost=('total_order_cost', 'sum'))\n",
    "\n",
    "groped_df['rnk'] = groped_df['total_cost'].rank(method='dense')\n",
    "\n",
    "groped_df.query('rnk == 3').merge(customers, how='inner', left_on='cust_id', right_on='id')[\n",
    "    ['id', 'first_name', 'last_name']]"
   ],
   "id": "9567340f177446b6"
  },
  {
   "metadata": {},
   "cell_type": "markdown",
   "source": [
    "#### ID 2141\n",
    "\n",
    "```Amazon's information technology department is looking for information on employees' most recent logins. The output should include all information related to each employee's most recent login.```"
   ],
   "id": "1d171831a4f4b39"
  },
  {
   "metadata": {
    "SqlCellData": {
     "variableName$1": "df_sql2"
    }
   },
   "cell_type": "code",
   "outputs": [],
   "execution_count": null,
   "source": [
    "%%sql\n",
    "WITH cte\n",
    "         AS (SELECT DENSE_RANK()\n",
    "                    OVER (PARTITION BY worker_id ORDER BY login_timestamp DESC),\n",
    "                    id,\n",
    "                    worker_id,\n",
    "                    login_timestamp,\n",
    "                    ip_address,\n",
    "                    country,\n",
    "                    region,\n",
    "                    city,\n",
    "                    device_type\n",
    "             FROM worker_logins)\n",
    "SELECT id,\n",
    "       worker_id,\n",
    "       login_timestamp,\n",
    "       ip_address,\n",
    "       country,\n",
    "       region,\n",
    "       city,\n",
    "       device_type\n",
    "FROM cte\n",
    "WHERE dense_rank = 1\n",
    "ORDER BY id"
   ],
   "id": "b3b958e0453002bf"
  },
  {
   "metadata": {},
   "cell_type": "code",
   "outputs": [],
   "execution_count": null,
   "source": [
    "df = worker_logins\n",
    "\n",
    "df['rnk'] = df.groupby('worker_id')['login_timestamp'].rank(method='first', ascending=False)\n",
    "\n",
    "df.query('rnk == 1').drop(columns=['rnk'])"
   ],
   "id": "a43990171f40938"
  },
  {
   "metadata": {},
   "cell_type": "markdown",
   "source": [
    "#### ID 2142\n",
    "\n",
    "```You've been asked by Amazon to find the shipment_id and weight of the third heaviest shipment. Output the shipment_id, and total_weight for that shipment_id. In the event of a tie, do not skip ranks.```"
   ],
   "id": "356029f1d31d7f88"
  },
  {
   "metadata": {
    "SqlCellData": {
     "variableName$1": "df_sql3"
    }
   },
   "cell_type": "code",
   "outputs": [],
   "execution_count": null,
   "source": [
    "%%sql\n",
    "WITH cte AS (SELECT shipment_id,\n",
    "                    SUM(weight) AS total_weight,\n",
    "                    DENSE_RANK() OVER (ORDER BY SUM(weight) DESC)\n",
    "             FROM amazon_shipment\n",
    "             GROUP BY shipment_id)\n",
    "SELECT shipment_id, total_weight\n",
    "FROM cte\n",
    "WHERE dense_rank = 3"
   ],
   "id": "d0a78b83f217ac9d"
  },
  {
   "metadata": {},
   "cell_type": "code",
   "outputs": [],
   "execution_count": null,
   "source": [
    "df = amazon_shipment\n",
    "\n",
    "grouped_df = df.groupby('shipment_id', as_index=False).agg(total_weight=('weight', 'sum'))\n",
    "\n",
    "grouped_df['rnk'] = grouped_df['total_weight'].rank(method='dense', ascending=False)\n",
    "\n",
    "grouped_df.query('rnk == 3').drop(columns=['rnk'])"
   ],
   "id": "bf4b6358ed6b93af"
  },
  {
   "metadata": {},
   "cell_type": "markdown",
   "source": [
    "#### ID 2143\n",
    "\n",
    "```Bank of Ireland has requested that you detect invalid transactions in December 2022. An invalid transaction is one that occurs outside of the bank's normal business hours. The following are the hours of operation for all branches: Monday - Friday 09:00 - 16:00 Saturday & Sunday Closed Irish Public Holidays 25th and 26th December Determine the transaction ids of all invalid transactions.```"
   ],
   "id": "f56785e72f6bb395"
  },
  {
   "metadata": {
    "SqlCellData": {
     "variableName$1": "df_sql7"
    }
   },
   "cell_type": "code",
   "outputs": [],
   "execution_count": null,
   "source": [
    "%%sql\n",
    "SELECT transaction_id\n",
    "FROM boi_transactions\n",
    "WHERE transaction_id IN (SELECT transaction_id\n",
    "                             FROM boi_transactions\n",
    "                             WHERE EXTRACT(MONTH FROM time_stamp) = 12\n",
    "                               AND EXTRACT(DAY FROM time_stamp) IN (25, 26)\n",
    "                             UNION\n",
    "                             SELECT transaction_id\n",
    "                             FROM boi_transactions\n",
    "                             WHERE EXTRACT(DOW FROM time_stamp) IN (6, 0)\n",
    "                             UNION\n",
    "                             SELECT transaction_id\n",
    "                             FROM boi_transactions\n",
    "                             WHERE EXTRACT(DOW FROM time_stamp) BETWEEN 1 AND 5\n",
    "                               AND EXTRACT(HOUR FROM time_stamp) NOT BETWEEN 9 AND 15)"
   ],
   "id": "efcef4d9a8b9104c"
  },
  {
   "metadata": {},
   "cell_type": "code",
   "outputs": [],
   "execution_count": null,
   "source": [
    "df = boi_transactions\n",
    "\n",
    "holidays = df.query('time_stamp.dt.month == 12 & time_stamp.dt.day in ([25, 26])')['transaction_id'].to_list()\n",
    "\n",
    "weekends = df.query('time_stamp.dt.dayofweek in ([5, 6])')['transaction_id'].to_list()\n",
    "\n",
    "non_work_hours = df.query('time_stamp.dt.dayofweek.between(0, 4) & ~time_stamp.dt.hour.between(9, 15)')[\n",
    "    'transaction_id'].to_list()\n",
    "\n",
    "combined_list = holidays + weekends + non_work_hours\n",
    "\n",
    "df.query('transaction_id.isin(@combined_list)')['transaction_id']"
   ],
   "id": "487ccbda0d621216"
  },
  {
   "metadata": {},
   "cell_type": "markdown",
   "source": [
    "#### ID 2144\n",
    "\n",
    "```A major airline has enlisted Tata Consultancy's help to improve customer satisfaction on its flights. Their goal is to increase customer satisfaction among people between the ages of 30 and 40. You've been tasked with calculating the customer satisfaction average for this age group across all three flight classes for 2022. Return the class with the average of satisfaction rounded to the nearest whole number. Note: Only survey results from flights in 2022 are included in the dataset.```"
   ],
   "id": "236a9e64fef731b1"
  },
  {
   "metadata": {
    "SqlCellData": {
     "variableName$1": "df_sql8"
    }
   },
   "cell_type": "code",
   "outputs": [],
   "execution_count": null,
   "source": [
    "%%sql\n",
    "SELECT class, ROUND(AVG(satisfaction)) AS pc_score\n",
    "FROM survey_results AS sr\n",
    "         JOIN loyalty_customers AS lc ON sr.cust_id = lc.cust_id\n",
    "WHERE age BETWEEN 30 AND 39\n",
    "GROUP BY class"
   ],
   "id": "ab8312a1ae2b234e"
  },
  {
   "metadata": {},
   "cell_type": "code",
   "outputs": [],
   "execution_count": null,
   "source": [
    "df = pd.merge(survey_results, loyalty_customers, how='inner', on='cust_id')\n",
    "\n",
    "df.query('age.between(30, 39)').groupby('class', as_index=False).agg(avg_score=('satisfaction', 'mean')).round()"
   ],
   "id": "eed181d7a21a92c9"
  },
  {
   "metadata": {},
   "cell_type": "markdown",
   "source": [
    "#### ID 2151\n",
    "\n",
    "```You have been asked to find the number of employees hired between the months of January and July in the year 2022 inclusive. Your output should contain the number of employees hired in this given time frame.```"
   ],
   "id": "e147377bc939c673"
  },
  {
   "metadata": {
    "SqlCellData": {
     "variableName$1": "df_sql5"
    }
   },
   "cell_type": "code",
   "outputs": [],
   "execution_count": null,
   "source": [
    "%%sql\n",
    "SELECT COUNT(id) AS hired_emp\n",
    "FROM employees\n",
    "WHERE DATE_TRUNC('month', joining_date) BETWEEN '2022-01-01' AND '2022-07-01'"
   ],
   "id": "fa7c053b45596950"
  },
  {
   "metadata": {},
   "cell_type": "code",
   "outputs": [],
   "execution_count": null,
   "source": [
    "df = employees\n",
    "\n",
    "df[df['joining_date'].dt.to_period('M').between('2022-01-01', '2022-07-01')]['id'].count()"
   ],
   "id": "dc09424f88bcfa14"
  },
  {
   "metadata": {},
   "cell_type": "markdown",
   "source": [
    "#### ID 2156\n",
    "\n",
    "```You have been tasked with finding the worker IDs of individuals who logged in between the 13th to the 19th inclusive of December 2021. In your output, provide the unique worker IDs for the dates requested.'```"
   ],
   "id": "ae5b0f8efb62a0c9"
  },
  {
   "metadata": {
    "SqlCellData": {
     "variableName$1": "df_sql4"
    }
   },
   "cell_type": "code",
   "outputs": [],
   "execution_count": null,
   "source": [
    "%%sql\n",
    "SELECT DISTINCT worker_id\n",
    "FROM worker_logins\n",
    "WHERE login_timestamp BETWEEN '2021-12-13' AND '2021-12-20'"
   ],
   "id": "2380c2c3d1067fd6"
  },
  {
   "metadata": {},
   "cell_type": "code",
   "outputs": [],
   "execution_count": null,
   "source": [
    "df = worker_logins\n",
    "\n",
    "df.query('login_timestamp.between(\"2021-12-13\", \"2021-12-19\")')['worker_id'].drop_duplicates()"
   ],
   "id": "a3e18311e87ad080"
  },
  {
   "metadata": {},
   "cell_type": "markdown",
   "source": [
    "#### ID 2159\n",
    "\n",
    "```You have been asked to get a list of all the sign up IDs with transaction start dates in either April or May. Since a sign up ID can be used for multiple transactions only output the unique ID. Your output should contain a list of non duplicated sign-up IDs.```"
   ],
   "id": "9a4bcd0d2759dbb8"
  },
  {
   "metadata": {
    "SqlCellData": {
     "variableName$1": "df_sql"
    }
   },
   "cell_type": "code",
   "outputs": [],
   "execution_count": null,
   "source": [
    "%%sql\n",
    "SELECT DISTINCT signup_id\n",
    "FROM transactions\n",
    "WHERE DATE_TRUNC('month', transaction_start_date)::DATE IN ('2020-04-01', '2020-05-01')"
   ],
   "id": "87a6b9a77f8998e1"
  },
  {
   "metadata": {},
   "cell_type": "code",
   "outputs": [],
   "execution_count": null,
   "source": [
    "df = transactions\n",
    "\n",
    "df.query('transaction_start_date >= \"2020-04-01\" & transaction_start_date < \"2020-06-01\"')['signup_id'].unique()"
   ],
   "id": "86ff2770bb7defb2"
  },
  {
   "metadata": {},
   "cell_type": "markdown",
   "source": [
    "#### ID 2160\n",
    "\n",
    "```The sales division is investigating their sales for the past month in Oregon. Calculate the total revenue generated from Oregon-based customers for April.```"
   ],
   "id": "b0d924580a3c409c"
  },
  {
   "metadata": {
    "SqlCellData": {
     "variableName$1": "df_sql1"
    }
   },
   "cell_type": "code",
   "outputs": [],
   "execution_count": null,
   "source": [
    "%%sql\n",
    "SELECT SUM(cost_in_dollars * units_sold) AS total_sales\n",
    "FROM online_orders AS oo\n",
    "         JOIN online_customers AS oc ON oo.customer_id = oc.id\n",
    "WHERE state ILIKE 'oregon'\n",
    "  AND DATE_TRUNC('month', date) = '2022-04-01'"
   ],
   "id": "7fde100d304b2da2"
  },
  {
   "metadata": {},
   "cell_type": "code",
   "outputs": [],
   "execution_count": null,
   "source": [
    "df = pd.merge(online_orders, online_customers, how='inner', left_on='customer_id', right_on='id')\n",
    "\n",
    "df['sales'] = df['cost_in_dollars'] * df['units_sold']\n",
    "\n",
    "df.query('state == \"Oregon\" & date.between(\"2022-04-01\", \"2022-04-30\")')['sales'].sum()"
   ],
   "id": "bf2e2f575dc5e9e9"
  }
 ],
 "metadata": {
  "kernelspec": {
   "display_name": "Python 3",
   "language": "python",
   "name": "python3"
  },
  "language_info": {
   "codemirror_mode": {
    "name": "ipython",
    "version": 2
   },
   "file_extension": ".py",
   "mimetype": "text/x-python",
   "name": "python",
   "nbconvert_exporter": "python",
   "pygments_lexer": "ipython2",
   "version": "2.7.6"
  }
 },
 "nbformat": 4,
 "nbformat_minor": 5
}
