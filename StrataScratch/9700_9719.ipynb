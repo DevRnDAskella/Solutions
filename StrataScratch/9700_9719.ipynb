{
 "cells": [
  {
   "metadata": {},
   "cell_type": "markdown",
   "source": [
    "#### ID 9717\n",
    "\n",
    "```Find all businesses which have low-risk safety violations.```"
   ],
   "id": "af30982be2a13ef4"
  },
  {
   "metadata": {
    "SqlCellData": {
     "variableName$1": "df_sql1"
    }
   },
   "cell_type": "code",
   "outputs": [],
   "execution_count": null,
   "source": [
    "%%sql\n",
    "SELECT DISTINCT business_name\n",
    "FROM sf_restaurant_health_violations\n",
    "WHERE risk_category = 'Low Risk'"
   ],
   "id": "e1b201126dad8933"
  },
  {
   "metadata": {},
   "cell_type": "code",
   "outputs": [],
   "execution_count": null,
   "source": [
    "df = sf_restaurant_health_violations\n",
    "\n",
    "df.query('risk_category == \"Low Risk\"')['business_name'].drop_duplicates()"
   ],
   "id": "859f18369c364e4"
  },
  {
   "metadata": {},
   "cell_type": "markdown",
   "source": [
    "#### ID 9718\n",
    "\n",
    "```Find all businesses which have a phone number.```"
   ],
   "id": "5d837712c3520545"
  },
  {
   "metadata": {
    "SqlCellData": {
     "variableName$1": "df_sql2"
    }
   },
   "cell_type": "code",
   "outputs": [],
   "execution_count": null,
   "source": [
    "%%sql\n",
    "SELECT DISTINCT business_name\n",
    "FROM sf_restaurant_health_violations\n",
    "WHERE business_phone_number IS NOT NULL"
   ],
   "id": "b36f0524bf15b188"
  },
  {
   "metadata": {},
   "cell_type": "code",
   "outputs": [],
   "execution_count": null,
   "source": [
    "df = sf_restaurant_health_violations\n",
    "\n",
    "df.query('~business_phone_number.isnull()')['business_name'].drop_duplicates()"
   ],
   "id": "d9774ec3d70219c1"
  },
  {
   "metadata": {},
   "cell_type": "markdown",
   "source": [
    "#### ID 9719\n",
    "\n",
    "```Find all business postal codes of restaurants with issues related to the water (violation description contains substring \"water\").```"
   ],
   "id": "4f8c0f9caa704a92"
  },
  {
   "metadata": {
    "SqlCellData": {
     "variableName$1": "df_sql"
    }
   },
   "cell_type": "code",
   "outputs": [],
   "execution_count": null,
   "source": [
    "%%sql\n",
    "SELECT DISTINCT business_postal_code\n",
    "FROM sf_restaurant_health_violations\n",
    "WHERE violation_description ILIKE '%water%'"
   ],
   "id": "ed752f4bc4a720a7"
  },
  {
   "metadata": {},
   "cell_type": "code",
   "outputs": [],
   "execution_count": null,
   "source": [
    "df = sf_restaurant_health_violations\n",
    "\n",
    "df.query('~violation_description.isnull() & violation_description.str.contains(\"water\")')['business_postal_code'].drop_duplicates()"
   ],
   "id": "c6520394b89ca89f"
  }
 ],
 "metadata": {
  "kernelspec": {
   "display_name": "Python 3",
   "language": "python",
   "name": "python3"
  },
  "language_info": {
   "codemirror_mode": {
    "name": "ipython",
    "version": 2
   },
   "file_extension": ".py",
   "mimetype": "text/x-python",
   "name": "python",
   "nbconvert_exporter": "python",
   "pygments_lexer": "ipython2",
   "version": "2.7.6"
  }
 },
 "nbformat": 4,
 "nbformat_minor": 5
}
