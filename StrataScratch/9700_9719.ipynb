{
 "cells": [
  {
   "metadata": {},
   "cell_type": "markdown",
   "source": [
    "#### ID 9702\n",
    "\n",
    "```Count the number of unique facilities per municipality zip code along with the number of inspections. Output the result along with the number of inspections per each municipality zip code. Sort the result based on the number of inspections in descending order.```"
   ],
   "id": "fd590d4ce579d69a"
  },
  {
   "metadata": {
    "SqlCellData": {
     "variableName$1": "df_sql4"
    }
   },
   "cell_type": "code",
   "outputs": [],
   "execution_count": null,
   "source": [
    "%%sql\n",
    "SELECT facility_zip,\n",
    "       COUNT(DISTINCT facility_id) AS no_facilities,\n",
    "       COUNT(*)                    AS no_inspections\n",
    "FROM los_angeles_restaurant_health_inspections\n",
    "GROUP BY facility_zip\n",
    "ORDER BY no_inspections DESC"
   ],
   "id": "4db9b9c196643ba0"
  },
  {
   "metadata": {},
   "cell_type": "code",
   "outputs": [],
   "execution_count": null,
   "source": [
    "df = los_angeles_restaurant_health_inspections\n",
    "\n",
    "df.groupby('facility_zip').agg(no_facilities=('facility_id', 'nunique'),\n",
    "                               no_inspections=('facility_id', 'count')).sort_values('no_inspections', ascending=False)"
   ],
   "id": "46a0bf027793fa4a"
  },
  {
   "metadata": {},
   "cell_type": "markdown",
   "source": [
    "#### ID 9703\n",
    "\n",
    "```Find the most common grade earned by bakeries.```"
   ],
   "id": "dee4a4914523fdc9"
  },
  {
   "metadata": {
    "SqlCellData": {
     "variableName$1": "df_sql5"
    }
   },
   "cell_type": "code",
   "outputs": [],
   "execution_count": null,
   "source": [
    "%%sql\n",
    "WITH cte AS (SELECT grade,\n",
    "                    COUNT(*)                                      n_bakeries,\n",
    "                    DENSE_RANK() OVER (ORDER BY COUNT(*) DESC) AS rnk\n",
    "             FROM los_angeles_restaurant_health_inspections\n",
    "             WHERE facility_name ILIKE '%BAKERY%'\n",
    "             GROUP BY grade)\n",
    "SELECT grade\n",
    "FROM cte\n",
    "WHERE rnk = 1"
   ],
   "id": "daae4efd97447e1d"
  },
  {
   "metadata": {},
   "cell_type": "code",
   "outputs": [],
   "execution_count": null,
   "source": [
    "df = los_angeles_restaurant_health_inspections\n",
    "\n",
    "df.query('facility_name.str.contains(\"bakery\", regex=True, case=False)').groupby('grade', as_index=False).agg(\n",
    "    n_bakeries=('serial_number', 'count')).nlargest(1, 'n_bakeries', keep='all')['grade']"
   ],
   "id": "a6b36138f736c9ed"
  },
  {
   "metadata": {},
   "cell_type": "markdown",
   "source": [
    "### ID 9704\n",
    "\n",
    "```Find the number of inspections per day. Output the result along with the date of the activity. Order results based on the activity date in the ascending order.```"
   ],
   "id": "c0083bcb79beb0d3"
  },
  {
   "metadata": {
    "SqlCellData": {
     "variableName$1": "df_sql6"
    }
   },
   "cell_type": "code",
   "outputs": [],
   "execution_count": null,
   "source": [
    "%%sql\n",
    "SELECT activity_date, COUNT(*) AS n_inspections\n",
    "FROM los_angeles_restaurant_health_inspections\n",
    "GROUP BY activity_date\n",
    "ORDER BY activity_date"
   ],
   "id": "7b0cd2cea8e7e79e"
  },
  {
   "metadata": {},
   "cell_type": "code",
   "outputs": [],
   "execution_count": null,
   "source": [
    "f = los_angeles_restaurant_health_inspections\n",
    "\n",
    "df['new_activity_date'] = df['activity_date'].dt.date\n",
    "\n",
    "df.groupby('new_activity_date', as_index=False).agg(n_inspections=('activity_date', 'count')).sort_values(\n",
    "    'new_activity_date')"
   ],
   "id": "412e0ffa32a1567c"
  },
  {
   "metadata": {},
   "cell_type": "markdown",
   "source": [
    "#### ID 9707\n",
    "\n",
    "```Find the mean of inspections scores between 91 and 100. Assuming that the scores are normally distributed.```"
   ],
   "id": "f0a9cc257ff187c2"
  },
  {
   "metadata": {
    "SqlCellData": {
     "variableName$1": "df_sql3"
    }
   },
   "cell_type": "code",
   "outputs": [],
   "execution_count": null,
   "source": [
    "%%sql\n",
    "SELECT AVG(score) AS avg_score\n",
    "FROM los_angeles_restaurant_health_inspections\n",
    "WHERE score BETWEEN 91 AND 100"
   ],
   "id": "ad988215f9c99996"
  },
  {
   "metadata": {},
   "cell_type": "code",
   "outputs": [],
   "execution_count": null,
   "source": [
    "df = los_angeles_restaurant_health_inspections\n",
    "\n",
    "df.query('score.between(91, 100)')['score'].mean()"
   ],
   "id": "41caeed46173b95c"
  },
  {
   "metadata": {},
   "cell_type": "markdown",
   "source": [
    "#### ID 9717\n",
    "\n",
    "```Find all businesses which have low-risk safety violations.```"
   ],
   "id": "af30982be2a13ef4"
  },
  {
   "metadata": {
    "SqlCellData": {
     "variableName$1": "df_sql1"
    }
   },
   "cell_type": "code",
   "outputs": [],
   "execution_count": null,
   "source": [
    "%%sql\n",
    "SELECT DISTINCT business_name\n",
    "FROM sf_restaurant_health_violations\n",
    "WHERE risk_category = 'Low Risk'"
   ],
   "id": "e1b201126dad8933"
  },
  {
   "metadata": {},
   "cell_type": "code",
   "outputs": [],
   "execution_count": null,
   "source": [
    "df = sf_restaurant_health_violations\n",
    "\n",
    "df.query('risk_category == \"Low Risk\"')['business_name'].drop_duplicates()"
   ],
   "id": "859f18369c364e4"
  },
  {
   "metadata": {},
   "cell_type": "markdown",
   "source": [
    "#### ID 9718\n",
    "\n",
    "```Find all businesses which have a phone number.```"
   ],
   "id": "5d837712c3520545"
  },
  {
   "metadata": {
    "SqlCellData": {
     "variableName$1": "df_sql2"
    }
   },
   "cell_type": "code",
   "outputs": [],
   "execution_count": null,
   "source": [
    "%%sql\n",
    "SELECT DISTINCT business_name\n",
    "FROM sf_restaurant_health_violations\n",
    "WHERE business_phone_number IS NOT NULL"
   ],
   "id": "b36f0524bf15b188"
  },
  {
   "metadata": {},
   "cell_type": "code",
   "outputs": [],
   "execution_count": null,
   "source": [
    "df = sf_restaurant_health_violations\n",
    "\n",
    "df.query('~business_phone_number.isnull()')['business_name'].drop_duplicates()"
   ],
   "id": "d9774ec3d70219c1"
  },
  {
   "metadata": {},
   "cell_type": "markdown",
   "source": [
    "#### ID 9719\n",
    "\n",
    "```Find all business postal codes of restaurants with issues related to the water (violation description contains substring \"water\").```"
   ],
   "id": "4f8c0f9caa704a92"
  },
  {
   "metadata": {
    "SqlCellData": {
     "variableName$1": "df_sql"
    }
   },
   "cell_type": "code",
   "outputs": [],
   "execution_count": null,
   "source": [
    "%%sql\n",
    "SELECT DISTINCT business_postal_code\n",
    "FROM sf_restaurant_health_violations\n",
    "WHERE violation_description ILIKE '%water%'"
   ],
   "id": "ed752f4bc4a720a7"
  },
  {
   "metadata": {},
   "cell_type": "code",
   "outputs": [],
   "execution_count": null,
   "source": [
    "df = sf_restaurant_health_violations\n",
    "\n",
    "df.query('~violation_description.isnull() & violation_description.str.contains(\"water\")')[\n",
    "    'business_postal_code'].drop_duplicates()"
   ],
   "id": "c6520394b89ca89f"
  }
 ],
 "metadata": {
  "kernelspec": {
   "display_name": "Python 3",
   "language": "python",
   "name": "python3"
  },
  "language_info": {
   "codemirror_mode": {
    "name": "ipython",
    "version": 2
   },
   "file_extension": ".py",
   "mimetype": "text/x-python",
   "name": "python",
   "nbconvert_exporter": "python",
   "pygments_lexer": "ipython2",
   "version": "2.7.6"
  }
 },
 "nbformat": 4,
 "nbformat_minor": 5
}
