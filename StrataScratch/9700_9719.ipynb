{
 "cells": [
  {
   "metadata": {},
   "cell_type": "markdown",
   "source": [
    "#### ID 9719\n",
    "\n",
    "```Find all business postal codes of restaurants with issues related to the water (violation description contains substring \"water\").```"
   ],
   "id": "4f8c0f9caa704a92"
  },
  {
   "metadata": {
    "SqlCellData": {
     "variableName$1": "df_sql"
    }
   },
   "cell_type": "code",
   "outputs": [],
   "execution_count": null,
   "source": [
    "%%sql\n",
    "SELECT DISTINCT business_postal_code\n",
    "FROM sf_restaurant_health_violations\n",
    "WHERE violation_description ILIKE '%water%'"
   ],
   "id": "ed752f4bc4a720a7"
  },
  {
   "metadata": {},
   "cell_type": "code",
   "outputs": [],
   "execution_count": null,
   "source": [
    "df = sf_restaurant_health_violations\n",
    "\n",
    "df.query('~violation_description.isnull() & violation_description.str.contains(\"water\")')['business_postal_code'].drop_duplicates()"
   ],
   "id": "c6520394b89ca89f"
  }
 ],
 "metadata": {
  "kernelspec": {
   "display_name": "Python 3",
   "language": "python",
   "name": "python3"
  },
  "language_info": {
   "codemirror_mode": {
    "name": "ipython",
    "version": 2
   },
   "file_extension": ".py",
   "mimetype": "text/x-python",
   "name": "python",
   "nbconvert_exporter": "python",
   "pygments_lexer": "ipython2",
   "version": "2.7.6"
  }
 },
 "nbformat": 4,
 "nbformat_minor": 5
}
