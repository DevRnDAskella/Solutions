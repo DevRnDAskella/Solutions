{
 "cells": [
  {
   "metadata": {},
   "cell_type": "markdown",
   "source": [
    "#### ID 9765\n",
    "\n",
    "```List all interactions of user with id 4 on either day 0 or 2.```"
   ],
   "id": "6487cdbc2f49567a"
  },
  {
   "metadata": {
    "SqlCellData": {
     "variableName$1": "df_sql"
    }
   },
   "cell_type": "code",
   "outputs": [],
   "execution_count": null,
   "source": [
    "%%sql\n",
    "SELECT day, user1, user2\n",
    "FROM facebook_user_interactions\n",
    "WHERE day IN (0, 2)\n",
    "  AND (user1 = 4 OR user2 = 4)"
   ],
   "id": "327c49e8c6b0998f"
  },
  {
   "metadata": {},
   "cell_type": "code",
   "outputs": [],
   "execution_count": null,
   "source": [
    "df = facebook_user_interactions\n",
    "\n",
    "df.query('(user1 == 4 | user2 == 4) & (day.isin([0, 2]))')"
   ],
   "id": "a1c795c9a4091a6f"
  }
 ],
 "metadata": {
  "kernelspec": {
   "display_name": "Python 3",
   "language": "python",
   "name": "python3"
  },
  "language_info": {
   "codemirror_mode": {
    "name": "ipython",
    "version": 2
   },
   "file_extension": ".py",
   "mimetype": "text/x-python",
   "name": "python",
   "nbconvert_exporter": "python",
   "pygments_lexer": "ipython2",
   "version": "2.7.6"
  }
 },
 "nbformat": 4,
 "nbformat_minor": 5
}
