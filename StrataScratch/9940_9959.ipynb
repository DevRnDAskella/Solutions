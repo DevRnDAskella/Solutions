{
 "cells": [
  {
   "metadata": {},
   "cell_type": "markdown",
   "source": [
    "#### ID 9951\n",
    "\n",
    "```Find the number of athletes who participated in the Olympics that hosted in European cities. European cities: Berlin, Athina, Lillehammer, London, Albertville and Paris.```"
   ],
   "id": "a3cbbbdabf7160fe"
  },
  {
   "metadata": {
    "SqlCellData": {
     "variableName$1": "df_sql"
    }
   },
   "cell_type": "code",
   "outputs": [],
   "execution_count": null,
   "source": [
    "%%sql\n",
    "SELECT COUNT(DISTINCT name) AS n_athletes\n",
    "FROM olympics_athletes_events\n",
    "WHERE city IN ('Berlin', 'Athina', 'Lillehammer', 'London', 'Albertville', 'Paris')"
   ],
   "id": "cbc0c5598ed0c9f7"
  },
  {
   "metadata": {},
   "cell_type": "code",
   "outputs": [],
   "execution_count": null,
   "source": [
    "df = olympics_athletes_events\n",
    "\n",
    "df[df['city'].isin(['Berlin', 'Athina', 'Lillehammer', 'London', 'Paris', 'Albertville'])]['name'].nunique()"
   ],
   "id": "d7605a582caa019d"
  }
 ],
 "metadata": {
  "kernelspec": {
   "display_name": "Python 3",
   "language": "python",
   "name": "python3"
  },
  "language_info": {
   "codemirror_mode": {
    "name": "ipython",
    "version": 2
   },
   "file_extension": ".py",
   "mimetype": "text/x-python",
   "name": "python",
   "nbconvert_exporter": "python",
   "pygments_lexer": "ipython2",
   "version": "2.7.6"
  }
 },
 "nbformat": 4,
 "nbformat_minor": 5
}
