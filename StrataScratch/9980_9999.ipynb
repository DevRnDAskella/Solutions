{
 "cells": [
  {
   "metadata": {},
   "cell_type": "markdown",
   "source": [
    "#### ID 9984\n",
    "\n",
    "```Find the ratio and the difference between the highest and lowest total pay for each job title.  Another condition is to remove rows total pay equal to zero from the calculation. Output the job title along with the corresponding difference, ratio, highest total pay, and the lowest total pay. Sort records based on the ratio in descending order.```"
   ],
   "id": "ca849bb1554d1741"
  },
  {
   "metadata": {
    "SqlCellData": {
     "variableName$1": "df_sql"
    }
   },
   "cell_type": "code",
   "outputs": [],
   "execution_count": null,
   "source": [
    "%%sql\n",
    "SELECT DISTINCT jobtitle,\n",
    "                MAX(totalpay) OVER (PARTITION BY jobtitle) -\n",
    "                MIN(totalpay) OVER (PARTITION BY jobtitle) AS difference,\n",
    "                MAX(totalpay) OVER (PARTITION BY jobtitle) /\n",
    "                MIN(totalpay) OVER (PARTITION BY jobtitle) AS ratio,\n",
    "                MAX(totalpay) OVER (PARTITION BY jobtitle) AS max_totalpay,\n",
    "                MIN(totalpay) OVER (PARTITION BY jobtitle) AS min_totalpay\n",
    "FROM sf_public_salaries\n",
    "WHERE totalpay != 0\n",
    "ORDER BY ratio DESC"
   ],
   "id": "36ac82347cadca89"
  },
  {
   "metadata": {},
   "cell_type": "code",
   "outputs": [],
   "execution_count": null,
   "source": [
    "df = sf_public_salaries\n",
    "\n",
    "df = df[df['totalpay'] > 0]\n",
    "\n",
    "df['min_pay'] = df.groupby('jobtitle')['totalpay'].transform('min')\n",
    "\n",
    "df['max_pay'] = df.groupby('jobtitle')['totalpay'].transform('max')\n",
    "\n",
    "df['difference'] = df['max_pay'] - df['min_pay']\n",
    "\n",
    "df['ratio'] = df['max_pay'] / df['min_pay']\n",
    "\n",
    "df[['jobtitle', 'min_pay', 'max_pay', 'difference', 'ratio']].drop_duplicates().sort_values('ratio', ascending=False)"
   ],
   "id": "17406cfa52424ce"
  }
 ],
 "metadata": {
  "kernelspec": {
   "display_name": "Python 3",
   "language": "python",
   "name": "python3"
  },
  "language_info": {
   "codemirror_mode": {
    "name": "ipython",
    "version": 2
   },
   "file_extension": ".py",
   "mimetype": "text/x-python",
   "name": "python",
   "nbconvert_exporter": "python",
   "pygments_lexer": "ipython2",
   "version": "2.7.6"
  }
 },
 "nbformat": 4,
 "nbformat_minor": 5
}
