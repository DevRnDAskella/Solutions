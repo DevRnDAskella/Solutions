{
 "cells": [
  {
   "metadata": {},
   "cell_type": "markdown",
   "source": [
    "#### ID 10351\n",
    "\n",
    "```Find the email activity rank for each user. Email activity rank is defined by the total number of emails sent. The user with the highest number of emails sent will have a rank of 1, and so on. Output the user, total emails, and their activity rank. Order records by the total emails in descending order. Sort users with the same number of emails in alphabetical order. In your rankings, return a unique value (i.e., a unique rank) even if multiple users have the same number of emails. For tie breaker use alphabetical order of the user usernames.```"
   ],
   "id": "37c2e48d7dfb399a"
  },
  {
   "metadata": {
    "SqlCellData": {
     "variableName$1": "df_sql"
    }
   },
   "cell_type": "code",
   "outputs": [],
   "execution_count": null,
   "source": [
    "%%sql\n",
    "SELECT from_user,\n",
    "       COUNT(from_user)                                                  AS total_emails,\n",
    "       ROW_NUMBER() OVER (ORDER BY COUNT(from_user) DESC, from_user ASC) AS rnk\n",
    "FROM google_gmail_emails\n",
    "GROUP BY from_user\n",
    "ORDER BY total_emails DESC"
   ],
   "id": "ea9741bb0ad8f901"
  },
  {
   "metadata": {},
   "cell_type": "code",
   "outputs": [],
   "execution_count": null,
   "source": [
    "df = google_gmail_emails\n",
    "result = df.groupby('from_user', as_index=False).agg(total_emails=('from_user', 'count'))\n",
    "result['rnk'] = result.sort_values(['total_emails', 'from_user'], ascending=[False, True])['total_emails'].rank(method='first', ascending=False)\n",
    "result.sort_values('rnk')"
   ],
   "id": "49af19c735392ece"
  },
  {
   "metadata": {},
   "cell_type": "markdown",
   "source": [
    "#### ID 10356\n",
    "\n",
    "```Find doctors with the last name of 'Johnson' in the employee list. The output should contain both their first and last names.```"
   ],
   "id": "9ee2fc295e42652f"
  },
  {
   "metadata": {
    "SqlCellData": {
     "variableName$1": "df_sql1"
    }
   },
   "cell_type": "code",
   "outputs": [],
   "execution_count": null,
   "source": [
    "%%sql\n",
    "SELECT el.first_name, el.last_name\n",
    "FROM employee_list el\n",
    "WHERE last_name = 'Johnson'\n",
    "  AND profession = 'Doctor'"
   ],
   "id": "4b168774fda6c836"
  },
  {
   "metadata": {},
   "cell_type": "code",
   "outputs": [],
   "execution_count": null,
   "source": [
    "df = employee_list\n",
    "df.query('profession == \"Doctor\" and last_name == \"Johnson\"').filter(items=['first_name', 'last_name'])"
   ],
   "id": "3d1ed97d7e2de88b"
  }
 ],
 "metadata": {
  "kernelspec": {
   "display_name": "Python 3",
   "language": "python",
   "name": "python3"
  },
  "language_info": {
   "codemirror_mode": {
    "name": "ipython",
    "version": 2
   },
   "file_extension": ".py",
   "mimetype": "text/x-python",
   "name": "python",
   "nbconvert_exporter": "python",
   "pygments_lexer": "ipython2",
   "version": "2.7.6"
  }
 },
 "nbformat": 4,
 "nbformat_minor": 5
}
