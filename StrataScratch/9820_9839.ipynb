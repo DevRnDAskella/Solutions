{
 "cells": [
  {
   "metadata": {},
   "cell_type": "markdown",
   "source": [
    "#### ID 9829\n",
    "\n",
    "```Find the position of the lower case letter 'a' in the first name of the worker 'Amitah'.```"
   ],
   "id": "ce4552905caaf39c"
  },
  {
   "metadata": {
    "SqlCellData": {
     "variableName$1": "df_sql"
    }
   },
   "cell_type": "code",
   "outputs": [],
   "execution_count": null,
   "source": [
    "%%sql\n",
    "SELECT POSITION('a' IN first_name)\n",
    "FROM worker\n",
    "WHERE first_name = 'Amitah'"
   ],
   "id": "7120b375da92e9bc"
  },
  {
   "metadata": {},
   "cell_type": "code",
   "outputs": [],
   "execution_count": null,
   "source": [
    "df = worker\n",
    "\n",
    "df.query('first_name == \"Amitah\"')['first_name'].str.find('a')"
   ],
   "id": "d50d25176e02c9f7"
  }
 ],
 "metadata": {
  "kernelspec": {
   "display_name": "Python 3",
   "language": "python",
   "name": "python3"
  },
  "language_info": {
   "codemirror_mode": {
    "name": "ipython",
    "version": 2
   },
   "file_extension": ".py",
   "mimetype": "text/x-python",
   "name": "python",
   "nbconvert_exporter": "python",
   "pygments_lexer": "ipython2",
   "version": "2.7.6"
  }
 },
 "nbformat": 4,
 "nbformat_minor": 5
}
