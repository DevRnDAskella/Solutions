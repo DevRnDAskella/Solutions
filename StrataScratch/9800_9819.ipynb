{
 "cells": [
  {
   "metadata": {},
   "cell_type": "markdown",
   "source": [
    "#### ID 9801\n",
    "\n",
    "```Find the number of USA companies that are on the list.```"
   ],
   "id": "f44d1da0c313bfd0"
  },
  {
   "metadata": {
    "SqlCellData": {
     "variableName$1": "df_sql1"
    }
   },
   "cell_type": "code",
   "outputs": [],
   "execution_count": null,
   "source": [
    "%%sql\n",
    "SELECT COUNT(DISTINCT company) AS n_us_companies\n",
    "FROM forbes_global_2010_2014\n",
    "WHERE country LIKE 'United States%'"
   ],
   "id": "709effbbfb328100"
  },
  {
   "metadata": {},
   "cell_type": "code",
   "outputs": [],
   "execution_count": null,
   "source": [
    "df = forbes_global_2010_2014\n",
    "\n",
    "df.query('country.str.contains(\"United States\")')['company'].nunique()"
   ],
   "id": "48c3ffa9a71e7344"
  },
  {
   "metadata": {},
   "cell_type": "markdown",
   "source": [
    "#### ID 9806\n",
    "\n",
    "```Find all records with words that start with the letter 'g'. Output words1 and words2 if any of them satisfies the condition.```"
   ],
   "id": "f086fdca92630aa2"
  },
  {
   "metadata": {
    "SqlCellData": {
     "variableName$1": "df_sql"
    }
   },
   "cell_type": "code",
   "outputs": [],
   "execution_count": null,
   "source": [
    "%%sql\n",
    "SELECT words1, words2\n",
    "FROM google_word_lists\n",
    "WHERE (LOWER(words1) LIKE 'g%' OR LOWER(words1) LIKE '%,g%')\n",
    "   OR (LOWER(words2) LIKE 'g%' OR LOWER(words2) LIKE '%,g%');"
   ],
   "id": "6ffcde3290d06bac"
  },
  {
   "metadata": {},
   "cell_type": "code",
   "outputs": [],
   "execution_count": null,
   "source": [
    "df = google_word_lists\n",
    "\n",
    "df.query('words1.str.contains(\"^g|,g\", case=False, regex=True) | words2.str.contains(\"^g|,g\", case=False, regex=True)')"
   ],
   "id": "f262078320d3a068"
  }
 ],
 "metadata": {
  "kernelspec": {
   "display_name": "Python 3",
   "language": "python",
   "name": "python3"
  },
  "language_info": {
   "codemirror_mode": {
    "name": "ipython",
    "version": 2
   },
   "file_extension": ".py",
   "mimetype": "text/x-python",
   "name": "python",
   "nbconvert_exporter": "python",
   "pygments_lexer": "ipython2",
   "version": "2.7.6"
  }
 },
 "nbformat": 4,
 "nbformat_minor": 5
}
