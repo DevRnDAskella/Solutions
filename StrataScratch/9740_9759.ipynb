{
 "cells": [
  {
   "metadata": {},
   "cell_type": "markdown",
   "source": [
    "#### ID 9757\n",
    "\n",
    "```Find the genres that yielded the highest sales. Output the genre alongside its total sales. Order results based on the total sales in descending order.```"
   ],
   "id": "8d71cff445caa93"
  },
  {
   "metadata": {
    "SqlCellData": {
     "variableName$1": "df_sql2"
    }
   },
   "cell_type": "code",
   "outputs": [],
   "execution_count": null,
   "source": [
    "%%sql\n",
    "SELECT genre, SUM(total) AS total_sales\n",
    "FROM global_weekly_charts_2013_2014\n",
    "GROUP BY genre\n",
    "ORDER BY total_sales DESC"
   ],
   "id": "aa766d2cd0c959f7"
  },
  {
   "metadata": {},
   "cell_type": "code",
   "outputs": [],
   "execution_count": null,
   "source": [
    "df = global_weekly_charts_2013_2014\n",
    "\n",
    "df.groupby('genre', as_index=False).agg(total_sales=('total', 'sum')).sort_values('total_sales', ascending=False)"
   ],
   "id": "964858af342d6298"
  },
  {
   "metadata": {},
   "cell_type": "markdown",
   "source": [
    "#### ID 9758\n",
    "\n",
    "```Find the best publishers based on total sales made by each publisher. Output publishers alongside their total sales. Order records based on the sales in descending order.```"
   ],
   "id": "7c6f82de43cbaadc"
  },
  {
   "metadata": {
    "SqlCellData": {
     "variableName$1": "df_sql1"
    }
   },
   "cell_type": "code",
   "outputs": [],
   "execution_count": null,
   "source": [
    "%%sql\n",
    "SELECT publisher, SUM(total) AS total_sales\n",
    "FROM global_weekly_charts_2013_2014\n",
    "GROUP BY publisher\n",
    "ORDER BY total_sales DESC"
   ],
   "id": "127a87e70150b3e1"
  },
  {
   "metadata": {},
   "cell_type": "code",
   "outputs": [],
   "execution_count": null,
   "source": [
    "df = global_weekly_charts_2013_2014\n",
    "\n",
    "df.groupby('publisher', as_index=False).agg(total_sales=('total', 'sum')).sort_values('total_sales', ascending=False)"
   ],
   "id": "9913afe07dc3a5a0"
  }
 ],
 "metadata": {
  "kernelspec": {
   "display_name": "Python 3",
   "language": "python",
   "name": "python3"
  },
  "language_info": {
   "codemirror_mode": {
    "name": "ipython",
    "version": 2
   },
   "file_extension": ".py",
   "mimetype": "text/x-python",
   "name": "python",
   "nbconvert_exporter": "python",
   "pygments_lexer": "ipython2",
   "version": "2.7.6"
  }
 },
 "nbformat": 4,
 "nbformat_minor": 5
}
