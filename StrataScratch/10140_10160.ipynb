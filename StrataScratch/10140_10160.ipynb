{
 "cells": [
  {
   "metadata": {},
   "cell_type": "markdown",
   "source": [
    "#### ID 10144\n",
    "\n",
    "```Find the average weight of medal-winning Judo players of each team with a minimum age of 20 and a maximum age of 30. Consider players at the age of 20 and 30 too. Output the team along with the average player weight.```"
   ],
   "id": "31a69c868df249d2"
  },
  {
   "metadata": {
    "SqlCellData": {
     "variableName$1": "df_sql"
    }
   },
   "cell_type": "code",
   "outputs": [],
   "execution_count": null,
   "source": [
    "%%sql\n",
    "SELECT team, AVG(weight) AS average_player_weight\n",
    "FROM olympics_athletes_events\n",
    "WHERE sport = 'Judo'\n",
    "  AND age BETWEEN 20 AND 30\n",
    "GROUP BY team"
   ],
   "id": "395e9b5ac0c30aab"
  },
  {
   "metadata": {},
   "cell_type": "code",
   "outputs": [],
   "execution_count": null,
   "source": [
    "df = olympics_athletes_events\n",
    "\n",
    "df[(df['sport'] == 'Judo') & (df['age'].between(20, 30))].groupby('team', as_index=False).agg(\n",
    "    avg_weight=('weight', 'mean'))"
   ],
   "id": "6e0493ff8884864e"
  }
 ],
 "metadata": {
  "kernelspec": {
   "display_name": "Python 3",
   "language": "python",
   "name": "python3"
  },
  "language_info": {
   "codemirror_mode": {
    "name": "ipython",
    "version": 2
   },
   "file_extension": ".py",
   "mimetype": "text/x-python",
   "name": "python",
   "nbconvert_exporter": "python",
   "pygments_lexer": "ipython2",
   "version": "2.7.6"
  }
 },
 "nbformat": 4,
 "nbformat_minor": 5
}
