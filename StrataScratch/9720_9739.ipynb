{
 "cells": [
  {
   "metadata": {},
   "cell_type": "markdown",
   "source": [
    "#### ID 9720\n",
    "\n",
    "```Find the business names that scored less than 50 in inspections. Output the result along with the corresponding inspection date and the score.```"
   ],
   "id": "8d95d4d82f674109"
  },
  {
   "metadata": {
    "SqlCellData": {
     "variableName$1": "df_sql"
    }
   },
   "cell_type": "code",
   "outputs": [],
   "execution_count": null,
   "source": [
    "%%sql\n",
    "SELECT business_name, inspection_date, AVG(inspection_score) AS inspection_score\n",
    "FROM sf_restaurant_health_violations\n",
    "GROUP BY business_name, inspection_date\n",
    "HAVING AVG(inspection_score) < 50"
   ],
   "id": "2c0c88d2fab1fbaf"
  },
  {
   "metadata": {},
   "cell_type": "code",
   "outputs": [],
   "execution_count": null,
   "source": [
    "df = sf_restaurant_health_violations\n",
    "\n",
    "df.groupby(['business_name', 'inspection_date'], as_index=False).agg(inspection_score=('inspection_score', 'mean')).query('inspection_score < 50')"
   ],
   "id": "3222d6e371cc3595"
  }
 ],
 "metadata": {
  "kernelspec": {
   "display_name": "Python 3",
   "language": "python",
   "name": "python3"
  },
  "language_info": {
   "codemirror_mode": {
    "name": "ipython",
    "version": 2
   },
   "file_extension": ".py",
   "mimetype": "text/x-python",
   "name": "python",
   "nbconvert_exporter": "python",
   "pygments_lexer": "ipython2",
   "version": "2.7.6"
  }
 },
 "nbformat": 4,
 "nbformat_minor": 5
}
