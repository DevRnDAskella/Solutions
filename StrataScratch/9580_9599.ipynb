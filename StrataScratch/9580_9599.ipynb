{
 "cells": [
  {
   "metadata": {},
   "cell_type": "markdown",
   "source": [
    "#### ID 9598\n",
    "\n",
    "```Find SAT scores of students whose high school names do not end with 'HS'.```"
   ],
   "id": "9f76db7e384aa22a"
  },
  {
   "metadata": {
    "SqlCellData": {
     "variableName$1": "df_sql"
    }
   },
   "cell_type": "code",
   "outputs": [],
   "execution_count": null,
   "source": [
    "%%sql\n",
    "SELECT *\n",
    "FROM sat_scores\n",
    "WHERE NOT school ILIKE '%HS'"
   ],
   "id": "87b6d55b9dfb7770"
  },
  {
   "metadata": {},
   "cell_type": "code",
   "outputs": [],
   "execution_count": null,
   "source": [
    "df = sat_scores\n",
    "\n",
    "df.query('~school.str.contains(\"HS$\", regex=True)')"
   ],
   "id": "e183d71f57ba3877"
  }
 ],
 "metadata": {
  "kernelspec": {
   "display_name": "Python 3",
   "language": "python",
   "name": "python3"
  },
  "language_info": {
   "codemirror_mode": {
    "name": "ipython",
    "version": 2
   },
   "file_extension": ".py",
   "mimetype": "text/x-python",
   "name": "python",
   "nbconvert_exporter": "python",
   "pygments_lexer": "ipython2",
   "version": "2.7.6"
  }
 },
 "nbformat": 4,
 "nbformat_minor": 5
}
