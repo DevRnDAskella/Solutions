{
 "cells": [
  {
   "metadata": {},
   "cell_type": "markdown",
   "source": [
    "#### ID 2120\n",
    "\n",
    "```The marketing team is evaluating the performance of their previously ran promotions.They are especially interested in comparing the sales on the first day vs. the last day of each promotion. Segment the results by promotion and find the percentage of transactions that happened on the first and last day of each. Your output should contain the promotion ID, percentage of transactions on the first day, and percentage of transactions on the last day.```"
   ],
   "id": "f20e8461beb57150"
  },
  {
   "metadata": {
    "SqlCellData": {
     "variableName$1": "df_sql3"
    }
   },
   "cell_type": "code",
   "outputs": [],
   "execution_count": null,
   "source": [
    "%%sql\n",
    "SELECT oo.promotion_id,\n",
    "       100.0 * AVG(CASE WHEN date = start_date THEN 1 ELSE 0 END) AS pct_first_day,\n",
    "       100.0 * AVG(CASE WHEN date = end_date THEN 1 ELSE 0 END)   AS pct_first_day\n",
    "FROM online_sales_promotions AS osp\n",
    "         JOIN online_orders AS oo ON osp.promotion_id = oo.promotion_id\n",
    "GROUP BY oo.promotion_id"
   ],
   "id": "38af7052e9bb24bf"
  },
  {
   "metadata": {},
   "cell_type": "code",
   "outputs": [],
   "execution_count": null,
   "source": [
    "df = pd.merge(online_sales_promotions, online_orders, how='inner', on='promotion_id')\n",
    "\n",
    "# df['is_start'] = df.apply(lambda row: 1 if row['start_date'] == row['date'] else 0, axis=1)\n",
    "# df['is_end'] = df.apply(lambda row: 1 if row['end_date'] == row['date'] else 0, axis=1)\n",
    "\n",
    "df['is_start'] = (df['start_date'] == df['date']).astype('int')\n",
    "df['is_end'] = (df['end_date'] == df['date']).astype('int')\n",
    "\n",
    "result = df.groupby('promotion_id', as_index=False).agg(\n",
    "    is_start_date=pd.NamedAgg(column='is_start', aggfunc=lambda series: series.mean() * 100),\n",
    "    is_end_date=pd.NamedAgg(column='is_end', aggfunc=lambda series: series.mean() * 100)\n",
    ")"
   ],
   "id": "b1a8e813249fc5d5"
  },
  {
   "metadata": {},
   "cell_type": "markdown",
   "source": [
    "#### ID 2127\n",
    "\n",
    "```Calculate the sales revenue for the year 2021.```"
   ],
   "id": "cddbc42dacbbcf8a"
  },
  {
   "metadata": {
    "SqlCellData": {
     "variableName$1": "df_sql1"
    }
   },
   "cell_type": "code",
   "outputs": [],
   "execution_count": null,
   "source": [
    "%%sql\n",
    "SELECT SUM(order_total) AS revenue\n",
    "FROM amazon_sales\n",
    "WHERE DATE_TRUNC('year', order_date) = '2021-01-01'"
   ],
   "id": "80296c865005437c"
  },
  {
   "metadata": {},
   "cell_type": "code",
   "outputs": [],
   "execution_count": null,
   "source": [
    "df = amazon_sales\n",
    "\n",
    "df['year'] = df['order_date'].dt.year\n",
    "\n",
    "df.query('year == 2021')['order_total'].sum()"
   ],
   "id": "d236e207d34f8217"
  },
  {
   "metadata": {},
   "cell_type": "markdown",
   "source": [
    "#### ID 2129\n",
    "\n",
    "```You are given a list of posts of a Facebook user. Find the average number of likes.```"
   ],
   "id": "7f15c927b83f6988"
  },
  {
   "metadata": {
    "SqlCellData": {
     "variableName$1": "df_sql2"
    }
   },
   "cell_type": "code",
   "outputs": [],
   "execution_count": null,
   "source": [
    "%%sql\n",
    "SELECT AVG(no_of_likes) AS avg_likes\n",
    "FROM fb_posts"
   ],
   "id": "375a495d964c7ee3"
  },
  {
   "metadata": {},
   "cell_type": "code",
   "outputs": [],
   "execution_count": null,
   "source": [
    "df = fb_posts\n",
    "\n",
    "df['no_of_likes'].mean()"
   ],
   "id": "5ff337282ae96f51"
  }
 ],
 "metadata": {
  "kernelspec": {
   "display_name": "Python 3",
   "language": "python",
   "name": "python3"
  },
  "language_info": {
   "codemirror_mode": {
    "name": "ipython",
    "version": 2
   },
   "file_extension": ".py",
   "mimetype": "text/x-python",
   "name": "python",
   "nbconvert_exporter": "python",
   "pygments_lexer": "ipython2",
   "version": "2.7.6"
  }
 },
 "nbformat": 4,
 "nbformat_minor": 5
}
