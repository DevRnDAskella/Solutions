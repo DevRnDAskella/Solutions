{
 "cells": [
  {
   "metadata": {},
   "cell_type": "markdown",
   "source": [
    "#### ID 2127\n",
    "\n",
    "```Calculate the sales revenue for the year 2021.```"
   ],
   "id": "cddbc42dacbbcf8a"
  },
  {
   "metadata": {
    "SqlCellData": {
     "variableName$1": "df_sql1"
    }
   },
   "cell_type": "code",
   "outputs": [],
   "execution_count": null,
   "source": [
    "%%sql\n",
    "SELECT SUM(order_total) AS revenue\n",
    "FROM amazon_sales\n",
    "WHERE DATE_TRUNC('year', order_date) = '2021-01-01'"
   ],
   "id": "80296c865005437c"
  },
  {
   "metadata": {},
   "cell_type": "code",
   "outputs": [],
   "execution_count": null,
   "source": [
    "df = amazon_sales\n",
    "\n",
    "df['year'] = df['order_date'].dt.year\n",
    "\n",
    "df.query('year == 2021')['order_total'].sum()"
   ],
   "id": "d236e207d34f8217"
  }
 ],
 "metadata": {
  "kernelspec": {
   "display_name": "Python 3",
   "language": "python",
   "name": "python3"
  },
  "language_info": {
   "codemirror_mode": {
    "name": "ipython",
    "version": 2
   },
   "file_extension": ".py",
   "mimetype": "text/x-python",
   "name": "python",
   "nbconvert_exporter": "python",
   "pygments_lexer": "ipython2",
   "version": "2.7.6"
  }
 },
 "nbformat": 4,
 "nbformat_minor": 5
}
