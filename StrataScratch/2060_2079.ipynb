{
 "cells": [
  {
   "metadata": {},
   "cell_type": "markdown",
   "source": [
    "#### ID 2061\n",
    "\n",
    "```Count the number of users who made more than 5 searches in August 2021.```"
   ],
   "id": "9d20851c5241b687"
  },
  {
   "metadata": {
    "SqlCellData": {
     "variableName$1": "df_sql"
    }
   },
   "cell_type": "code",
   "outputs": [],
   "execution_count": null,
   "source": [
    "%%sql\n",
    "SELECT COUNT(user_id)\n",
    "FROM (SELECT user_id, COUNT(search_id) AS cnt\n",
    "      FROM fb_searches\n",
    "      WHERE EXTRACT(MONTH FROM date) = 8\n",
    "        AND EXTRACT(YEAR FROM date) = 2021\n",
    "      GROUP BY user_id\n",
    "      HAVING COUNT(search_id) > 5) AS sq"
   ],
   "id": "22108bd3c88d7827"
  },
  {
   "metadata": {},
   "cell_type": "code",
   "outputs": [],
   "execution_count": null,
   "source": [
    "df = fb_searches\n",
    "df.query('date.dt.year == 2021 & date.dt.month == 8').groupby('user_id', as_index=False).agg(cnt=('search_id', 'count')).query('cnt > 5')['user_id'].count()"
   ],
   "id": "c9b84ad57fa5904a"
  },
  {
   "metadata": {},
   "cell_type": "markdown",
   "source": [
    "#### ID 2062\n",
    "\n",
    "```How many searches were there in the second quarter of 2021?```"
   ],
   "id": "df592bc358596036"
  },
  {
   "metadata": {
    "SqlCellData": {
     "variableName$1": "df_sql1"
    }
   },
   "cell_type": "code",
   "outputs": [],
   "execution_count": null,
   "source": [
    "%%sql\n",
    "SELECT COUNT(*) AS result\n",
    "FROM fb_searches\n",
    "WHERE EXTRACT(QUARTER FROM date) = 2\n",
    "  AND EXTRACT(YEAR FROM date) = 2021"
   ],
   "id": "aec869f5b73ebb6a"
  },
  {
   "metadata": {},
   "cell_type": "code",
   "outputs": [],
   "execution_count": null,
   "source": [
    "df = fb_searches\n",
    "df.query('date.dt.year == 2021 & date.dt.quarter == 2')['search_id'].nunique()"
   ],
   "id": "1c0dbe3188dbcb21"
  },
  {
   "metadata": {},
   "cell_type": "markdown",
   "source": [
    "#### ID 2067\n",
    "\n",
    "```What percentage of all products are both low fat and recyclable?```"
   ],
   "id": "a9c5b603273d3e47"
  },
  {
   "metadata": {
    "SqlCellData": {
     "variableName$1": "df_sql2"
    }
   },
   "cell_type": "code",
   "outputs": [],
   "execution_count": null,
   "source": [
    "%%sql\n",
    "SELECT COUNT(product_id) FILTER (WHERE is_low_fat = 'Y' AND is_recyclable = 'Y') * 100.0 /\n",
    "       COUNT(product_id) AS percentage\n",
    "FROM facebook_products;"
   ],
   "id": "5dcd83677c793c9b"
  },
  {
   "metadata": {},
   "cell_type": "code",
   "outputs": [],
   "execution_count": null,
   "source": [
    "df = facebook_products\n",
    "cnt_products = df['product_id'].count()\n",
    "\n",
    "filtered_cnt_products = df.query('is_low_fat == \"Y\" & is_recyclable == \"Y\"')['product_id'].count()\n",
    "\n",
    "result = filtered_cnt_products * 100 / cnt_products"
   ],
   "id": "d0404ea4270ff1ac"
  }
 ],
 "metadata": {
  "kernelspec": {
   "display_name": "Python 3",
   "language": "python",
   "name": "python3"
  },
  "language_info": {
   "codemirror_mode": {
    "name": "ipython",
    "version": 2
   },
   "file_extension": ".py",
   "mimetype": "text/x-python",
   "name": "python",
   "nbconvert_exporter": "python",
   "pygments_lexer": "ipython2",
   "version": "2.7.6"
  }
 },
 "nbformat": 4,
 "nbformat_minor": 5
}
