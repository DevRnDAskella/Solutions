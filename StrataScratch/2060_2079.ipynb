{
 "cells": [
  {
   "metadata": {},
   "cell_type": "markdown",
   "source": [
    "#### ID 2060\n",
    "\n",
    "```Given a list of a company's employees, find the name of the manager from the largest department. Manager is each employee that contains word \"manager\" under their position.  Output their first and last name.```"
   ],
   "id": "675f80f0fa342e1a"
  },
  {
   "metadata": {
    "SqlCellData": {
     "variableName$1": "df_sql4"
    }
   },
   "cell_type": "code",
   "outputs": [],
   "execution_count": null,
   "source": [
    "%%sql\n",
    "WITH department_size AS (SELECT first_name,\n",
    "                                last_name,\n",
    "                                position,\n",
    "                                COUNT(id) OVER (PARTITION BY department_id) AS department_size\n",
    "                         FROM az_employees),\n",
    "     ranked AS (SELECT first_name,\n",
    "                       last_name,\n",
    "                       position,\n",
    "                       RANK() OVER (ORDER BY department_size DESC) AS rnk\n",
    "                FROM department_size)\n",
    "SELECT first_name, last_name\n",
    "FROM ranked\n",
    "WHERE rnk = 1\n",
    "  AND position ILIKE '%manager%'"
   ],
   "id": "6bee35329678c613"
  },
  {
   "metadata": {},
   "cell_type": "code",
   "outputs": [],
   "execution_count": null,
   "source": [
    "df = az_employees\n",
    "df['department_size'] = df.groupby('department_id')['id'].transform('count')\n",
    "df['rnk'] = df['department_size'].rank(method='dense', ascending=False)\n",
    "\n",
    "df.query('rnk == 1 & position.str.contains(\"manager\", case=False)')[['first_name', 'last_name']]"
   ],
   "id": "2a40465d14e4261b"
  },
  {
   "metadata": {},
   "cell_type": "markdown",
   "source": [
    "#### ID 2061\n",
    "\n",
    "```Count the number of users who made more than 5 searches in August 2021.```"
   ],
   "id": "9d20851c5241b687"
  },
  {
   "metadata": {
    "SqlCellData": {
     "variableName$1": "df_sql"
    }
   },
   "cell_type": "code",
   "outputs": [],
   "execution_count": null,
   "source": [
    "%%sql\n",
    "SELECT COUNT(user_id)\n",
    "FROM (SELECT user_id, COUNT(search_id) AS cnt\n",
    "      FROM fb_searches\n",
    "      WHERE EXTRACT(MONTH FROM date) = 8\n",
    "        AND EXTRACT(YEAR FROM date) = 2021\n",
    "      GROUP BY user_id\n",
    "      HAVING COUNT(search_id) > 5) AS sq"
   ],
   "id": "22108bd3c88d7827"
  },
  {
   "metadata": {},
   "cell_type": "code",
   "outputs": [],
   "execution_count": null,
   "source": [
    "df = fb_searches\n",
    "df.query('date.dt.year == 2021 & date.dt.month == 8').groupby('user_id', as_index=False).agg(cnt=('search_id', 'count')).query('cnt > 5')['user_id'].count()"
   ],
   "id": "c9b84ad57fa5904a"
  },
  {
   "metadata": {},
   "cell_type": "markdown",
   "source": [
    "#### ID 2062\n",
    "\n",
    "```How many searches were there in the second quarter of 2021?```"
   ],
   "id": "df592bc358596036"
  },
  {
   "metadata": {
    "SqlCellData": {
     "variableName$1": "df_sql1"
    }
   },
   "cell_type": "code",
   "outputs": [],
   "execution_count": null,
   "source": [
    "%%sql\n",
    "SELECT COUNT(*) AS result\n",
    "FROM fb_searches\n",
    "WHERE EXTRACT(QUARTER FROM date) = 2\n",
    "  AND EXTRACT(YEAR FROM date) = 2021"
   ],
   "id": "aec869f5b73ebb6a"
  },
  {
   "metadata": {},
   "cell_type": "code",
   "outputs": [],
   "execution_count": null,
   "source": [
    "df = fb_searches\n",
    "df.query('date.dt.year == 2021 & date.dt.quarter == 2')['search_id'].nunique()"
   ],
   "id": "1c0dbe3188dbcb21"
  },
  {
   "metadata": {},
   "cell_type": "markdown",
   "source": [
    "#### ID 2063\n",
    "\n",
    "```You are given a list of exchange rates from various currencies to US Dollars (USD) in different months. Show how the exchange rate of all the currencies changed in the first half of 2020. Output the currency code and the difference between values of the exchange rate between July 1, 2020 and January 1, 2020.```"
   ],
   "id": "cfdcb0e9d680ec27"
  },
  {
   "metadata": {
    "SqlCellData": {
     "variableName$1": "df_sql3"
    }
   },
   "cell_type": "code",
   "outputs": [],
   "execution_count": null,
   "source": [
    "%%sql\n",
    "SELECT source_currency,\n",
    "       AVG(exchange_rate) FILTER ( WHERE date = '2020-07-01') -\n",
    "       AVG(exchange_rate) FILTER ( WHERE date = '2020-01-01') AS difference\n",
    "FROM sf_exchange_rate\n",
    "GROUP BY source_currency"
   ],
   "id": "34407de478d1c993"
  },
  {
   "metadata": {},
   "cell_type": "code",
   "outputs": [],
   "execution_count": null,
   "source": [
    "df = sf_exchange_rate\n",
    "jan_rate_df = df.query('date == \"2020-01-01\"')\n",
    "jul_rate_df = df.query('date == \"2020-07-01\"')\n",
    "\n",
    "df = pd.merge(jul_rate_df, jan_rate_df, how='inner', on='source_currency', suffixes=['_jul', '_jan'])\n",
    "\n",
    "df['difference'] = df['exchange_rate_jul'] - df['exchange_rate_jan']\n",
    "\n",
    "df[['source_currency', 'difference']]"
   ],
   "id": "d6c1fc7ded0e2156"
  },
  {
   "metadata": {},
   "cell_type": "markdown",
   "source": [
    "#### ID 2067\n",
    "\n",
    "```What percentage of all products are both low fat and recyclable?```"
   ],
   "id": "a9c5b603273d3e47"
  },
  {
   "metadata": {
    "SqlCellData": {
     "variableName$1": "df_sql2"
    }
   },
   "cell_type": "code",
   "outputs": [],
   "execution_count": null,
   "source": [
    "%%sql\n",
    "SELECT COUNT(product_id) FILTER (WHERE is_low_fat = 'Y' AND is_recyclable = 'Y') * 100.0 /\n",
    "       COUNT(product_id) AS percentage\n",
    "FROM facebook_products;"
   ],
   "id": "5dcd83677c793c9b"
  },
  {
   "metadata": {},
   "cell_type": "code",
   "outputs": [],
   "execution_count": null,
   "source": [
    "df = facebook_products\n",
    "cnt_products = df['product_id'].count()\n",
    "\n",
    "filtered_cnt_products = df.query('is_low_fat == \"Y\" & is_recyclable == \"Y\"')['product_id'].count()\n",
    "\n",
    "result = filtered_cnt_products * 100 / cnt_products"
   ],
   "id": "d0404ea4270ff1ac"
  },
  {
   "metadata": {},
   "cell_type": "markdown",
   "source": [
    "#### ID 2069\n",
    "\n",
    "```The marketing manager wants you to evaluate how well the previously ran advertising campaigns are working. Particularly, they are interested in the promotion IDs from the online_promotions table. Find the percentage of orders with promotion IDs from the online_promotions table applied.```"
   ],
   "id": "c13abcc260ccb4b"
  },
  {
   "metadata": {
    "SqlCellData": {
     "variableName$1": "df_sql8"
    }
   },
   "cell_type": "code",
   "outputs": [],
   "execution_count": null,
   "source": [
    "%%sql\n",
    "SELECT SUM(CASE\n",
    "               WHEN promotion_id IN (SELECT promotion_id\n",
    "                                     FROM online_promotions) THEN 1\n",
    "               ELSE 0 END) * 100.0 / COUNT(*) AS percentage\n",
    "FROM online_orders"
   ],
   "id": "987f6dc9d08c36a3"
  },
  {
   "metadata": {},
   "cell_type": "code",
   "outputs": [],
   "execution_count": null,
   "source": [
    "promotion_list = online_promotions['promotion_id'].to_list()\n",
    "df = online_orders\n",
    "cnt_all_promotions = df['promotion_id'].count()\n",
    "cnt_filtered_promotions = df.query('promotion_id.isin(@promotion_list)')['promotion_id'].count()\n",
    "\n",
    "result = cnt_filtered_promotions * 100 / cnt_all_promotions"
   ],
   "id": "ce157ab8f4db2089"
  },
  {
   "metadata": {},
   "cell_type": "markdown",
   "source": [
    "#### ID 2070\n",
    "\n",
    "```The marketing department wants to launch a new promotion for the most successful product classes. Find the top 3 product classes according to their number of sales. In the event of a tie, output all results.```"
   ],
   "id": "b08e3a0236c35fa3"
  },
  {
   "metadata": {
    "SqlCellData": {
     "variableName$1": "df_sql5"
    }
   },
   "cell_type": "code",
   "outputs": [],
   "execution_count": null,
   "source": [
    "%%sql\n",
    "SELECT product_class\n",
    "FROM (SELECT product_class, RANK() OVER (ORDER BY total_sales DESC) AS rnk\n",
    "      FROM (SELECT product_class, COUNT(units_sold) AS total_sales\n",
    "            FROM online_orders\n",
    "                     LEFT JOIN online_products USING (product_id)\n",
    "            GROUP BY product_class) t1) t2\n",
    "WHERE rnk <= 3"
   ],
   "id": "178caf8676ee00c9"
  },
  {
   "metadata": {},
   "cell_type": "code",
   "outputs": [],
   "execution_count": null,
   "source": [
    "df = pd.merge(online_orders, online_products, how='left', on='product_id')\n",
    "\n",
    "df.groupby('product_class').agg(total_sales=('units_sold', 'count')).reset_index().nlargest(3, 'total_sales', keep='all')[['product_class']]"
   ],
   "id": "1801aba3b1669da3"
  },
  {
   "metadata": {},
   "cell_type": "markdown",
   "source": [
    "#### ID 2072\n",
    "\n",
    "```For each platform (e.g. Windows, iPhone, iPad etc.), calculate the number of users. Consider unique users and not individual sessions. Output the name of the platform with the corresponding number of users.```"
   ],
   "id": "69c31cb81f541639"
  },
  {
   "metadata": {
    "SqlCellData": {
     "variableName$1": "df_sql7"
    }
   },
   "cell_type": "code",
   "outputs": [],
   "execution_count": null,
   "source": [
    "%%sql\n",
    "SELECT platform, COUNT(DISTINCT user_id) AS n_users\n",
    "FROM user_sessions\n",
    "GROUP BY platform"
   ],
   "id": "16bdc8c10c6fc0e0"
  },
  {
   "metadata": {},
   "cell_type": "code",
   "outputs": [],
   "execution_count": null,
   "source": [
    "df = user_sessions\n",
    "df.groupby('platform', as_index=False).agg(n_users=('user_id', 'nunique'))"
   ],
   "id": "eb168aa1b2ad3d18"
  },
  {
   "metadata": {},
   "cell_type": "markdown",
   "source": [
    "#### ID 2075\n",
    "\n",
    "```Given the homework results of a group of students, calculate the average grade and the completion rate of each student. A homework is considered not completed if no grade has been assigned. Output first name of a student, their average grade, and completion rate in percentages. Note that it's possible for several students to have the same first name but their results should still be shown separately.```"
   ],
   "id": "31d3b8ee0604971"
  },
  {
   "metadata": {
    "SqlCellData": {
     "variableName$1": "df_sql6"
    }
   },
   "cell_type": "code",
   "outputs": [],
   "execution_count": null,
   "source": [
    "%%sql\n",
    "WITH cte AS (SELECT student_id,\n",
    "                    AVG(grade)                  AS avg_grade,\n",
    "                    COUNT(DISTINCT homework_id) FILTER (WHERE grade IS NOT NULL) * 100.0 /\n",
    "                    COUNT(DISTINCT homework_id) AS completion_rate\n",
    "             FROM allstate_homework ah\n",
    "             GROUP BY student_id)\n",
    "SELECT student_firstname, avg_grade, completion_rate\n",
    "FROM cte\n",
    "         LEFT JOIN allstate_students ast ON cte.student_id = ast.student_id"
   ],
   "id": "5c635b1916f6ab73"
  },
  {
   "metadata": {},
   "cell_type": "code",
   "outputs": [],
   "execution_count": null,
   "source": [
    "df = allstate_homework\n",
    "\n",
    "def custom_func(x):\n",
    "    return 100.0 * x.count() / x.shape[0]\n",
    "\n",
    "df.groupby('student_id', as_index=False).agg(avg_grade=('grade', 'mean'), completion_rate=('grade', custom_func)).merge(allstate_students, how='left', on='student_id')[['student_firstname', 'avg_grade', 'completion_rate']]"
   ],
   "id": "13376e1527bd5ae2"
  }
 ],
 "metadata": {
  "kernelspec": {
   "display_name": "Python 3",
   "language": "python",
   "name": "python3"
  },
  "language_info": {
   "codemirror_mode": {
    "name": "ipython",
    "version": 2
   },
   "file_extension": ".py",
   "mimetype": "text/x-python",
   "name": "python",
   "nbconvert_exporter": "python",
   "pygments_lexer": "ipython2",
   "version": "2.7.6"
  }
 },
 "nbformat": 4,
 "nbformat_minor": 5
}
