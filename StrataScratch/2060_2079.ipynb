{
 "cells": [
  {
   "metadata": {},
   "cell_type": "markdown",
   "source": [
    "#### ID 2061\n",
    "\n",
    "```Count the number of users who made more than 5 searches in August 2021.```"
   ],
   "id": "9d20851c5241b687"
  },
  {
   "metadata": {
    "SqlCellData": {
     "variableName$1": "df_sql"
    }
   },
   "cell_type": "code",
   "outputs": [],
   "execution_count": null,
   "source": [
    "%%sql\n",
    "SELECT COUNT(user_id)\n",
    "FROM (SELECT user_id, COUNT(search_id) AS cnt\n",
    "      FROM fb_searches\n",
    "      WHERE EXTRACT(MONTH FROM date) = 8\n",
    "        AND EXTRACT(YEAR FROM date) = 2021\n",
    "      GROUP BY user_id\n",
    "      HAVING COUNT(search_id) > 5) AS sq"
   ],
   "id": "22108bd3c88d7827"
  },
  {
   "metadata": {},
   "cell_type": "code",
   "outputs": [],
   "execution_count": null,
   "source": [
    "df = fb_searches\n",
    "df.query('date.dt.year == 2021 & date.dt.month == 8').groupby('user_id', as_index=False).agg(cnt=('search_id', 'count')).query('cnt > 5')['user_id'].count()"
   ],
   "id": "c9b84ad57fa5904a"
  }
 ],
 "metadata": {
  "kernelspec": {
   "display_name": "Python 3",
   "language": "python",
   "name": "python3"
  },
  "language_info": {
   "codemirror_mode": {
    "name": "ipython",
    "version": 2
   },
   "file_extension": ".py",
   "mimetype": "text/x-python",
   "name": "python",
   "nbconvert_exporter": "python",
   "pygments_lexer": "ipython2",
   "version": "2.7.6"
  }
 },
 "nbformat": 4,
 "nbformat_minor": 5
}
