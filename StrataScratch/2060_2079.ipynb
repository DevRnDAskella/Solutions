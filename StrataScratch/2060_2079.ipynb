{
 "cells": [
  {
   "metadata": {},
   "cell_type": "markdown",
   "source": [
    "#### ID 2060\n",
    "\n",
    "```Given a list of a company's employees, find the name of the manager from the largest department. Manager is each employee that contains word \"manager\" under their position.  Output their first and last name.```"
   ],
   "id": "675f80f0fa342e1a"
  },
  {
   "metadata": {
    "SqlCellData": {
     "variableName$1": "df_sql4"
    }
   },
   "cell_type": "code",
   "outputs": [],
   "execution_count": null,
   "source": [
    "%%sql\n",
    "WITH department_size AS (SELECT first_name,\n",
    "                                last_name,\n",
    "                                position,\n",
    "                                COUNT(id) OVER (PARTITION BY department_id) AS department_size\n",
    "                         FROM az_employees),\n",
    "     ranked AS (SELECT first_name,\n",
    "                       last_name,\n",
    "                       position,\n",
    "                       RANK() OVER (ORDER BY department_size DESC) AS rnk\n",
    "                FROM department_size)\n",
    "SELECT first_name, last_name\n",
    "FROM ranked\n",
    "WHERE rnk = 1\n",
    "  AND position ILIKE '%manager%'"
   ],
   "id": "6bee35329678c613"
  },
  {
   "metadata": {},
   "cell_type": "code",
   "outputs": [],
   "execution_count": null,
   "source": [
    "df = az_employees\n",
    "df['department_size'] = df.groupby('department_id')['id'].transform('count')\n",
    "df['rnk'] = df['department_size'].rank(method='dense', ascending=False)\n",
    "\n",
    "df.query('rnk == 1 & position.str.contains(\"manager\", case=False)')[['first_name', 'last_name']]"
   ],
   "id": "2a40465d14e4261b"
  },
  {
   "metadata": {},
   "cell_type": "markdown",
   "source": [
    "#### ID 2061\n",
    "\n",
    "```Count the number of users who made more than 5 searches in August 2021.```"
   ],
   "id": "9d20851c5241b687"
  },
  {
   "metadata": {
    "SqlCellData": {
     "variableName$1": "df_sql"
    }
   },
   "cell_type": "code",
   "outputs": [],
   "execution_count": null,
   "source": [
    "%%sql\n",
    "SELECT COUNT(user_id)\n",
    "FROM (SELECT user_id, COUNT(search_id) AS cnt\n",
    "      FROM fb_searches\n",
    "      WHERE EXTRACT(MONTH FROM date) = 8\n",
    "        AND EXTRACT(YEAR FROM date) = 2021\n",
    "      GROUP BY user_id\n",
    "      HAVING COUNT(search_id) > 5) AS sq"
   ],
   "id": "22108bd3c88d7827"
  },
  {
   "metadata": {},
   "cell_type": "code",
   "outputs": [],
   "execution_count": null,
   "source": [
    "df = fb_searches\n",
    "df.query('date.dt.year == 2021 & date.dt.month == 8').groupby('user_id', as_index=False).agg(\n",
    "    cnt=('search_id', 'count')).query('cnt > 5')['user_id'].count()"
   ],
   "id": "c9b84ad57fa5904a"
  },
  {
   "metadata": {},
   "cell_type": "markdown",
   "source": [
    "#### ID 2062\n",
    "\n",
    "```How many searches were there in the second quarter of 2021?```"
   ],
   "id": "df592bc358596036"
  },
  {
   "metadata": {
    "SqlCellData": {
     "variableName$1": "df_sql1"
    }
   },
   "cell_type": "code",
   "outputs": [],
   "execution_count": null,
   "source": [
    "%%sql\n",
    "SELECT COUNT(*) AS result\n",
    "FROM fb_searches\n",
    "WHERE EXTRACT(QUARTER FROM date) = 2\n",
    "  AND EXTRACT(YEAR FROM date) = 2021"
   ],
   "id": "aec869f5b73ebb6a"
  },
  {
   "metadata": {},
   "cell_type": "code",
   "outputs": [],
   "execution_count": null,
   "source": [
    "df = fb_searches\n",
    "df.query('date.dt.year == 2021 & date.dt.quarter == 2')['search_id'].nunique()"
   ],
   "id": "1c0dbe3188dbcb21"
  },
  {
   "metadata": {},
   "cell_type": "markdown",
   "source": [
    "#### ID 2063\n",
    "\n",
    "```You are given a list of exchange rates from various currencies to US Dollars (USD) in different months. Show how the exchange rate of all the currencies changed in the first half of 2020. Output the currency code and the difference between values of the exchange rate between July 1, 2020 and January 1, 2020.```"
   ],
   "id": "cfdcb0e9d680ec27"
  },
  {
   "metadata": {
    "SqlCellData": {
     "variableName$1": "df_sql3"
    }
   },
   "cell_type": "code",
   "outputs": [],
   "execution_count": null,
   "source": [
    "%%sql\n",
    "SELECT source_currency,\n",
    "       AVG(exchange_rate) FILTER ( WHERE date = '2020-07-01') -\n",
    "       AVG(exchange_rate) FILTER ( WHERE date = '2020-01-01') AS difference\n",
    "FROM sf_exchange_rate\n",
    "GROUP BY source_currency"
   ],
   "id": "34407de478d1c993"
  },
  {
   "metadata": {},
   "cell_type": "code",
   "outputs": [],
   "execution_count": null,
   "source": [
    "df = sf_exchange_rate\n",
    "jan_rate_df = df.query('date == \"2020-01-01\"')\n",
    "jul_rate_df = df.query('date == \"2020-07-01\"')\n",
    "\n",
    "df = pd.merge(jul_rate_df, jan_rate_df, how='inner', on='source_currency', suffixes=['_jul', '_jan'])\n",
    "\n",
    "df['difference'] = df['exchange_rate_jul'] - df['exchange_rate_jan']\n",
    "\n",
    "df[['source_currency', 'difference']]"
   ],
   "id": "d6c1fc7ded0e2156"
  },
  {
   "metadata": {},
   "cell_type": "markdown",
   "source": [
    "#### ID 2064\n",
    "\n",
    "```In a marathon, gun time is counted from the moment of the formal start of the race while net time is counted from the moment a runner crosses a starting line. Both variables are in seconds. You are asked to check if the interval between the two times is different for male and female runners. First, calculate the average absolute difference between the gun time and net time. Group the results by available genders (male and female). Output the absolute difference between those two values.```"
   ],
   "id": "7fa996257cb0fa2d"
  },
  {
   "metadata": {
    "SqlCellData": {
     "variableName$1": "df_sql14"
    }
   },
   "cell_type": "code",
   "outputs": [],
   "execution_count": null,
   "source": [
    "%%sql\n",
    "SELECT ABS((SELECT AVG(ABS(net_time - gun_time)) AS avg_abs_gund_and_net_times\n",
    "            FROM marathon_male) -\n",
    "           (SELECT AVG(ABS(net_time - gun_time)) AS avg_abs_gund_and_net_times\n",
    "            FROM marathon_female)) AS difference "
   ],
   "id": "7a74e82bb5865f22"
  },
  {
   "metadata": {},
   "cell_type": "code",
   "outputs": [],
   "execution_count": null,
   "source": [
    "abs((marathon_male['net_time'] - marathon_male['gun_time']).abs().mean() - (\n",
    "            marathon_female['net_time'] - marathon_female['gun_time']).abs().mean())"
   ],
   "id": "e488576cf9573304"
  },
  {
   "metadata": {},
   "cell_type": "markdown",
   "source": [
    "#### ID 2065\n",
    "\n",
    "```In a marathon, gun time is counted from the moment of the formal start of the race while net time is counted from the moment a runner crosses a starting line. Both variables are in seconds. How much net time separates Chris Doe from the 10th best net time (in ascending order)? Avoid gaps in the ranking calculation. Output absolute net time difference.```"
   ],
   "id": "83745ae781819d99"
  },
  {
   "metadata": {
    "SqlCellData": {
     "variableName$1": "df_sql13"
    }
   },
   "cell_type": "code",
   "outputs": [],
   "execution_count": null,
   "source": [
    "%%sql\n",
    "WITH chris_doe_net_time AS (SELECT net_time\n",
    "                            FROM marathon_male\n",
    "                            WHERE person_name = 'Chris Doe'),\n",
    "     top_10_net_times AS (SELECT net_time, DENSE_RANK() OVER (ORDER BY net_time) AS rnk\n",
    "                          FROM marathon_male)\n",
    "SELECT (SELECT net_time FROM chris_doe_net_time) - AVG(net_time) AS difference\n",
    "FROM top_10_net_times\n",
    "WHERE rnk = 10"
   ],
   "id": "e5a70f1abb10b8ba"
  },
  {
   "metadata": {},
   "cell_type": "code",
   "outputs": [],
   "execution_count": null,
   "source": [
    "df = marathon_male\n",
    "df['rnk'] = df['net_time'].rank(method='dense', ascending=True)\n",
    "\n",
    "(df.query('person_name == \"Chris Doe\"')['net_time'] - df.query('rnk == 10')['net_time'].mean()).values"
   ],
   "id": "eab4d09c455fb990"
  },
  {
   "metadata": {},
   "cell_type": "markdown",
   "source": [
    "#### ID 2066\n",
    "\n",
    "```Find the hometowns with the top 3 average net times. Output the hometowns and their average net time. In case there are ties in net time, return all unique hometowns.```"
   ],
   "id": "6ad0a27e79d75ce8"
  },
  {
   "metadata": {
    "SqlCellData": {
     "variableName$1": "df_sql12"
    }
   },
   "cell_type": "code",
   "outputs": [],
   "execution_count": null,
   "source": [
    "%%sql\n",
    "WITH ranked_avg_net_by_hometown AS (SELECT hometown,\n",
    "                    AVG(net_time)                                  AS avg_net_time,\n",
    "                    DENSE_RANK() OVER (ORDER BY AVG(net_time) ASC) AS rnk\n",
    "             FROM marathon_male\n",
    "             GROUP BY hometown)\n",
    "SELECT hometown, avg_net_time\n",
    "FROM ranked_avg_net_by_hometown\n",
    "WHERE rnk <= 3"
   ],
   "id": "f65257088e2f943a"
  },
  {
   "metadata": {},
   "cell_type": "code",
   "outputs": [],
   "execution_count": null,
   "source": [
    "df = marathon_male\n",
    "\n",
    "avg_net_time_by_hometown = df.groupby('hometown', as_index=False).agg(avg_net_time=('net_time', 'mean')).nsmallest(3,\n",
    "                                                                                                                   'avg_net_time',\n",
    "                                                                                                                   keep='all')"
   ],
   "id": "adc4db8d77d11813"
  },
  {
   "metadata": {},
   "cell_type": "markdown",
   "source": [
    "#### ID 2067\n",
    "\n",
    "```What percentage of all products are both low fat and recyclable?```"
   ],
   "id": "a9c5b603273d3e47"
  },
  {
   "metadata": {
    "SqlCellData": {
     "variableName$1": "df_sql2"
    }
   },
   "cell_type": "code",
   "outputs": [],
   "execution_count": null,
   "source": [
    "%%sql\n",
    "SELECT COUNT(product_id) FILTER (WHERE is_low_fat = 'Y' AND is_recyclable = 'Y') * 100.0 /\n",
    "       COUNT(product_id) AS percentage\n",
    "FROM facebook_products;"
   ],
   "id": "5dcd83677c793c9b"
  },
  {
   "metadata": {},
   "cell_type": "code",
   "outputs": [],
   "execution_count": null,
   "source": [
    "df = facebook_products\n",
    "cnt_products = df['product_id'].count()\n",
    "\n",
    "filtered_cnt_products = df.query('is_low_fat == \"Y\" & is_recyclable == \"Y\"')['product_id'].count()\n",
    "\n",
    "result = filtered_cnt_products * 100 / cnt_products"
   ],
   "id": "d0404ea4270ff1ac"
  },
  {
   "metadata": {},
   "cell_type": "markdown",
   "source": [
    "#### ID 2068\n",
    "\n",
    "```The sales department wants to find lower priced products that sell well. Find product IDs that were sold at least twice (in two different purchases at least)  and have an average sales price of at least $3. Your output should contain the product ID and its corresponding brand.```"
   ],
   "id": "6ec7d309dbc6bc9"
  },
  {
   "metadata": {
    "SqlCellData": {
     "variableName$1": "df_sql9"
    }
   },
   "cell_type": "code",
   "outputs": [],
   "execution_count": null,
   "source": [
    "%%sql\n",
    "WITH filtered_product_by_avg_price AS (SELECT product_id\n",
    "                                       FROM online_orders\n",
    "                                       GROUP BY product_id\n",
    "                                       HAVING AVG(cost_in_dollars) >= 3),\n",
    "     filtered_product_by_count AS (SELECT product_id\n",
    "                                   FROM online_orders\n",
    "                                   GROUP BY product_id\n",
    "                                   HAVING COUNT(product_id) >= 2)\n",
    "SELECT DISTINCT op.product_id, brand_name\n",
    "FROM online_orders AS oo\n",
    "         JOIN online_products AS op ON oo.product_id = op.product_id\n",
    "WHERE op.product_id IN (SELECT product_id FROM filtered_product_by_count)\n",
    "  AND op.product_id IN (SELECT product_id FROM filtered_product_by_avg_price)"
   ],
   "id": "a33961497d9d2e85"
  },
  {
   "metadata": {},
   "cell_type": "code",
   "outputs": [],
   "execution_count": null,
   "source": [
    "df = online_orders\n",
    "lists_df = df.groupby('product_id', as_index=False).agg(avg_price=('cost_in_dollars', 'mean'),\n",
    "                                                        cnt_product=('product_id', 'count'))\n",
    "filtered_product_by_avg_price = lists_df.query('avg_price >= 3')['product_id'].to_list()\n",
    "filtered_product_by_count = lists_df.query('cnt_product >= 2')['product_id'].to_list()\n",
    "\n",
    "df.query('product_id.isin(@filtered_product_by_avg_price) & product_id.isin(@filtered_product_by_count)').merge(\n",
    "    online_products, how='inner', on='product_id')[['product_id', 'brand_name']].drop_duplicates()"
   ],
   "id": "9ce2e1618beed8ea"
  },
  {
   "metadata": {},
   "cell_type": "markdown",
   "source": [
    "#### ID 2069\n",
    "\n",
    "```The marketing manager wants you to evaluate how well the previously ran advertising campaigns are working. Particularly, they are interested in the promotion IDs from the online_promotions table. Find the percentage of orders with promotion IDs from the online_promotions table applied.```"
   ],
   "id": "c13abcc260ccb4b"
  },
  {
   "metadata": {
    "SqlCellData": {
     "variableName$1": "df_sql8"
    }
   },
   "cell_type": "code",
   "outputs": [],
   "execution_count": null,
   "source": [
    "%%sql\n",
    "SELECT SUM(CASE\n",
    "               WHEN promotion_id IN (SELECT promotion_id\n",
    "                                     FROM online_promotions) THEN 1\n",
    "               ELSE 0 END) * 100.0 / COUNT(*) AS percentage\n",
    "FROM online_orders"
   ],
   "id": "987f6dc9d08c36a3"
  },
  {
   "metadata": {},
   "cell_type": "code",
   "outputs": [],
   "execution_count": null,
   "source": [
    "promotion_list = online_promotions['promotion_id'].to_list()\n",
    "df = online_orders\n",
    "cnt_all_promotions = df['promotion_id'].count()\n",
    "cnt_filtered_promotions = df.query('promotion_id.isin(@promotion_list)')['promotion_id'].count()\n",
    "\n",
    "result = cnt_filtered_promotions * 100 / cnt_all_promotions"
   ],
   "id": "ce157ab8f4db2089"
  },
  {
   "metadata": {},
   "cell_type": "markdown",
   "source": [
    "#### ID 2070\n",
    "\n",
    "```The marketing department wants to launch a new promotion for the most successful product classes. Find the top 3 product classes according to their number of sales. In the event of a tie, output all results.```"
   ],
   "id": "b08e3a0236c35fa3"
  },
  {
   "metadata": {
    "SqlCellData": {
     "variableName$1": "df_sql5"
    }
   },
   "cell_type": "code",
   "outputs": [],
   "execution_count": null,
   "source": [
    "%%sql\n",
    "SELECT product_class\n",
    "FROM (SELECT product_class, RANK() OVER (ORDER BY total_sales DESC) AS rnk\n",
    "      FROM (SELECT product_class, COUNT(units_sold) AS total_sales\n",
    "            FROM online_orders\n",
    "                     LEFT JOIN online_products USING (product_id)\n",
    "            GROUP BY product_class) t1) t2\n",
    "WHERE rnk <= 3"
   ],
   "id": "178caf8676ee00c9"
  },
  {
   "metadata": {},
   "cell_type": "code",
   "outputs": [],
   "execution_count": null,
   "source": [
    "df = pd.merge(online_orders, online_products, how='left', on='product_id')\n",
    "\n",
    "df.groupby('product_class').agg(total_sales=('units_sold', 'count')).reset_index().nlargest(3, 'total_sales',\n",
    "                                                                                            keep='all')[\n",
    "    ['product_class']]"
   ],
   "id": "1801aba3b1669da3"
  },
  {
   "metadata": {},
   "cell_type": "markdown",
   "source": [
    "#### ID 2071\n",
    "\n",
    "```The marketing department is aiming its next promotion at customers who have purchased products from two particular brands: Fort West and Golden. You have been asked to prepare a list of customers who purchased products from both brands.```"
   ],
   "id": "cb8c59ad9e0f3c1f"
  },
  {
   "metadata": {
    "SqlCellData": {
     "variableName$1": "df_sql10"
    }
   },
   "cell_type": "code",
   "outputs": [],
   "execution_count": null,
   "source": [
    "%%sql\n",
    "WITH all_customers AS (SELECT customer_id, brand_name\n",
    "                       FROM online_orders AS oo\n",
    "                                JOIN online_products AS op ON oo.product_id = op.product_id)\n",
    "SELECT customer_id\n",
    "FROM all_customers\n",
    "WHERE brand_name IN ('Fort West')\n",
    "INTERSECT\n",
    "SELECT customer_id\n",
    "FROM all_customers\n",
    "WHERE brand_name IN ('Golden')"
   ],
   "id": "57c460e9593305b7"
  },
  {
   "metadata": {},
   "cell_type": "code",
   "outputs": [],
   "execution_count": null,
   "source": [
    "df = pd.merge(online_orders, online_products, how='inner', on='product_id')[['brand_name', 'customer_id']]\n",
    "\n",
    "fw_df = df.query('brand_name == \"Fort West\"')\n",
    "gd_df = df.query('brand_name == \"Golden\"')\n",
    "\n",
    "result = pd.merge(fw_df, gd_df, how='inner', on='customer_id')['customer_id'].unique()"
   ],
   "id": "883a5543e146b2e5"
  },
  {
   "metadata": {},
   "cell_type": "markdown",
   "source": [
    "#### ID 2072\n",
    "\n",
    "```For each platform (e.g. Windows, iPhone, iPad etc.), calculate the number of users. Consider unique users and not individual sessions. Output the name of the platform with the corresponding number of users.```"
   ],
   "id": "69c31cb81f541639"
  },
  {
   "metadata": {
    "SqlCellData": {
     "variableName$1": "df_sql7"
    }
   },
   "cell_type": "code",
   "outputs": [],
   "execution_count": null,
   "source": [
    "%%sql\n",
    "SELECT platform, COUNT(DISTINCT user_id) AS n_users\n",
    "FROM user_sessions\n",
    "GROUP BY platform"
   ],
   "id": "16bdc8c10c6fc0e0"
  },
  {
   "metadata": {},
   "cell_type": "code",
   "outputs": [],
   "execution_count": null,
   "source": [
    "df = user_sessions\n",
    "df.groupby('platform', as_index=False).agg(n_users=('user_id', 'nunique'))"
   ],
   "id": "eb168aa1b2ad3d18"
  },
  {
   "metadata": {},
   "cell_type": "markdown",
   "source": [
    "#### ID 2074\n",
    "\n",
    "```Calculate the churn rate of September 2021 in percentages. The churn rate is the difference between the number of customers on the first day of the month and on the last day of the month, divided by the number of customers on the first day of a month. Assume that if customer's contract_end is NULL, their contract is still active. Additionally, if a customer started or finished their contract on a certain day, they should still be counted as a customer on that day.```"
   ],
   "id": "6a73478ede305af9"
  },
  {
   "metadata": {
    "SqlCellData": {
     "variableName$1": "df_sql11"
    }
   },
   "cell_type": "code",
   "outputs": [],
   "execution_count": null,
   "source": [
    "%%sql\n",
    "WITH start_users AS (SELECT COUNT(DISTINCT user_id) AS cnt_start_period\n",
    "                     FROM natera_subscriptions\n",
    "                     WHERE contract_start <= '2021-09-01'\n",
    "                       AND (contract_end >= '2021-09-01' OR contract_end IS NULL)),\n",
    "     churned_users AS (SELECT COUNT(DISTINCT user_id) AS cnt_end_period\n",
    "                       FROM natera_subscriptions\n",
    "                       WHERE\n",
    "                           contract_start <= '2021-09-30' AND contract_end >= '2021-09-30'\n",
    "                          OR contract_end IS NULL)\n",
    "SELECT (cnt_start_period - cnt_end_period) * 100.0 / cnt_start_period AS churn_rate\n",
    "FROM start_users,\n",
    "     churned_users"
   ],
   "id": "914c450a47a6f033"
  },
  {
   "metadata": {},
   "cell_type": "code",
   "outputs": [],
   "execution_count": null,
   "source": [
    "df = natera_subscriptions\n",
    "\n",
    "users_in_start_period = \\\n",
    "df.query('contract_start <= \"2021-09-01\" & (contract_end >= \"2021-09-01\" | contract_end.isnull())')['user_id'].nunique()\n",
    "\n",
    "users_in_end_period = \\\n",
    "df.query('contract_start <= \"2021-09-30\" & (contract_end >= \"2021-09-30\" | contract_end.isnull())')['user_id'].nunique()\n",
    "\n",
    "monthly_churn_rate = (users_in_start_period - users_in_end_period) * 100 / users_in_start_period"
   ],
   "id": "1368ea4325245e26"
  },
  {
   "metadata": {},
   "cell_type": "markdown",
   "source": [
    "#### ID 2075\n",
    "\n",
    "```Given the homework results of a group of students, calculate the average grade and the completion rate of each student. A homework is considered not completed if no grade has been assigned. Output first name of a student, their average grade, and completion rate in percentages. Note that it's possible for several students to have the same first name but their results should still be shown separately.```"
   ],
   "id": "31d3b8ee0604971"
  },
  {
   "metadata": {
    "SqlCellData": {
     "variableName$1": "df_sql6"
    }
   },
   "cell_type": "code",
   "outputs": [],
   "execution_count": null,
   "source": [
    "%%sql\n",
    "WITH cte AS (SELECT student_id,\n",
    "                    AVG(grade)                  AS avg_grade,\n",
    "                    COUNT(DISTINCT homework_id) FILTER (WHERE grade IS NOT NULL) * 100.0 /\n",
    "                    COUNT(DISTINCT homework_id) AS completion_rate\n",
    "             FROM allstate_homework ah\n",
    "             GROUP BY student_id)\n",
    "SELECT student_firstname, avg_grade, completion_rate\n",
    "FROM cte\n",
    "         LEFT JOIN allstate_students ast ON cte.student_id = ast.student_id"
   ],
   "id": "5c635b1916f6ab73"
  },
  {
   "metadata": {},
   "cell_type": "code",
   "outputs": [],
   "execution_count": null,
   "source": [
    "df = allstate_homework\n",
    "\n",
    "\n",
    "def custom_func(x):\n",
    "    return 100.0 * x.count() / x.shape[0]\n",
    "\n",
    "\n",
    "df.groupby('student_id', as_index=False).agg(avg_grade=('grade', 'mean'), completion_rate=('grade', custom_func)).merge(\n",
    "    allstate_students, how='left', on='student_id')[['student_firstname', 'avg_grade', 'completion_rate']]"
   ],
   "id": "13376e1527bd5ae2"
  }
 ],
 "metadata": {
  "kernelspec": {
   "display_name": "Python 3",
   "language": "python",
   "name": "python3"
  },
  "language_info": {
   "codemirror_mode": {
    "name": "ipython",
    "version": 2
   },
   "file_extension": ".py",
   "mimetype": "text/x-python",
   "name": "python",
   "nbconvert_exporter": "python",
   "pygments_lexer": "ipython2",
   "version": "2.7.6"
  }
 },
 "nbformat": 4,
 "nbformat_minor": 5
}
