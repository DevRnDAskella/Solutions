{
 "cells": [
  {
   "metadata": {},
   "cell_type": "markdown",
   "source": [
    "#### ID 9691\n",
    "\n",
    "```Find all facilities with the zip code 90049, 90034, or 90045.```"
   ],
   "id": "4572357159997fbe"
  },
  {
   "metadata": {
    "SqlCellData": {
     "variableName$1": "df_sql"
    }
   },
   "cell_type": "code",
   "outputs": [],
   "execution_count": null,
   "source": [
    "%%sql\n",
    "SELECT DISTINCT facility_name\n",
    "FROM los_angeles_restaurant_health_inspections\n",
    "WHERE facility_zip IN ('90049', '90034', '90045')"
   ],
   "id": "ba38043edd9e6eaf"
  },
  {
   "metadata": {},
   "cell_type": "code",
   "outputs": [],
   "execution_count": null,
   "source": [
    "df = los_angeles_restaurant_health_inspections\n",
    "\n",
    "df[df['facility_zip'].isin([\"90049\", \"90034\", \"90045\"])]['facility_name'].drop_duplicates()"
   ],
   "id": "c4cfd98fa4e25435"
  }
 ],
 "metadata": {
  "kernelspec": {
   "display_name": "Python 3",
   "language": "python",
   "name": "python3"
  },
  "language_info": {
   "codemirror_mode": {
    "name": "ipython",
    "version": 2
   },
   "file_extension": ".py",
   "mimetype": "text/x-python",
   "name": "python",
   "nbconvert_exporter": "python",
   "pygments_lexer": "ipython2",
   "version": "2.7.6"
  }
 },
 "nbformat": 4,
 "nbformat_minor": 5
}
