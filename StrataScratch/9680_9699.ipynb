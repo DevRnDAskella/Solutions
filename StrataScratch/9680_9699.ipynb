{
 "cells": [
  {
   "metadata": {},
   "cell_type": "markdown",
   "source": [
    "#### ID 9691\n",
    "\n",
    "```Find all facilities with the zip code 90049, 90034, or 90045.```"
   ],
   "id": "4572357159997fbe"
  },
  {
   "metadata": {
    "SqlCellData": {
     "variableName$1": "df_sql"
    }
   },
   "cell_type": "code",
   "outputs": [],
   "execution_count": null,
   "source": [
    "%%sql\n",
    "SELECT DISTINCT facility_name\n",
    "FROM los_angeles_restaurant_health_inspections\n",
    "WHERE facility_zip IN ('90049', '90034', '90045')"
   ],
   "id": "ba38043edd9e6eaf"
  },
  {
   "metadata": {},
   "cell_type": "code",
   "outputs": [],
   "execution_count": null,
   "source": [
    "df = los_angeles_restaurant_health_inspections\n",
    "\n",
    "df[df['facility_zip'].isin([\"90049\", \"90034\", \"90045\"])]['facility_name'].drop_duplicates()"
   ],
   "id": "c4cfd98fa4e25435"
  },
  {
   "metadata": {},
   "cell_type": "markdown",
   "source": [
    "#### ID 9693\n",
    "\n",
    "```Find the average score for grades A, B, and C. Output the results along with the corresponding grade (ex: 'A', avg(score)).```"
   ],
   "id": "51c24f7b379e3e31"
  },
  {
   "metadata": {
    "SqlCellData": {
     "variableName$1": "df_sql3"
    }
   },
   "cell_type": "code",
   "outputs": [],
   "execution_count": null,
   "source": [
    "%%sql\n",
    "SELECT grade, AVG(score) AS avg_score\n",
    "FROM los_angeles_restaurant_health_inspections\n",
    "GROUP BY grade"
   ],
   "id": "a3e74eea7052deae"
  },
  {
   "metadata": {},
   "cell_type": "code",
   "outputs": [],
   "execution_count": null,
   "source": [
    "df = los_angeles_restaurant_health_inspections\n",
    "\n",
    "df.groupby('grade', as_index=False).agg(avg_score=('score', 'mean'))"
   ],
   "id": "ca2d0d724a94f251"
  },
  {
   "metadata": {},
   "cell_type": "markdown",
   "source": [
    "#### ID 9696\n",
    "\n",
    "```Check if record_id is unique for every row. Output the total record ids and total unique record ids for comparison.```"
   ],
   "id": "7a4cba36f6038335"
  },
  {
   "metadata": {
    "SqlCellData": {
     "variableName$1": "df_sql1"
    }
   },
   "cell_type": "code",
   "outputs": [],
   "execution_count": null,
   "source": [
    "%%sql\n",
    "SELECT COUNT(record_id) AS c1, COUNT(DISTINCT record_id) AS c2\n",
    "FROM los_angeles_restaurant_health_inspections"
   ],
   "id": "281780d6e5b4a512"
  },
  {
   "metadata": {},
   "cell_type": "code",
   "outputs": [],
   "execution_count": null,
   "source": [
    "df = los_angeles_restaurant_health_inspections\n",
    "\n",
    "pd.DataFrame({'c1': [df['record_id'].count()], 'c2': [df['record_id'].nunique()]})"
   ],
   "id": "7d996a55337ec4a"
  },
  {
   "metadata": {},
   "cell_type": "markdown",
   "source": [
    "#### ID 9697\n",
    "\n",
    "```Find the owner_name and the pe_description of facilities owned by 'BAKERY' where low-risk cases have been reported.```"
   ],
   "id": "9e136f62d67fc98b"
  },
  {
   "metadata": {
    "SqlCellData": {
     "variableName$1": "df_sql2"
    }
   },
   "cell_type": "code",
   "outputs": [],
   "execution_count": null,
   "source": [
    "%%sql\n",
    "SELECT DISTINCT owner_name, pe_description\n",
    "FROM los_angeles_restaurant_health_inspections\n",
    "WHERE LOWER(pe_description) ~ 'low risk'\n",
    "  AND LOWER(owner_name) ~ 'bakery'"
   ],
   "id": "28599c0e009a1c82"
  },
  {
   "metadata": {},
   "cell_type": "code",
   "outputs": [],
   "execution_count": null,
   "source": [
    "df = los_angeles_restaurant_health_inspections\n",
    "\n",
    "df[df['owner_name'].str.contains('BAKERY') & df['pe_description'].str.contains('LOW RISK')][\n",
    "    ['owner_name', 'pe_description']].drop_duplicates()"
   ],
   "id": "1dc5d847dc7538aa"
  }
 ],
 "metadata": {
  "kernelspec": {
   "display_name": "Python 3",
   "language": "python",
   "name": "python3"
  },
  "language_info": {
   "codemirror_mode": {
    "name": "ipython",
    "version": 2
   },
   "file_extension": ".py",
   "mimetype": "text/x-python",
   "name": "python",
   "nbconvert_exporter": "python",
   "pygments_lexer": "ipython2",
   "version": "2.7.6"
  }
 },
 "nbformat": 4,
 "nbformat_minor": 5
}
