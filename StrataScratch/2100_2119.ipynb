{
 "cells": [
  {
   "metadata": {},
   "cell_type": "markdown",
   "source": [
    "#### ID 2100\n",
    "\n",
    "```Given the education levels and salaries of a group of individuals, find what is the average salary for each level of education.```"
   ],
   "id": "3aee8c147281ff59"
  },
  {
   "metadata": {
    "SqlCellData": {
     "variableName$1": "df_sql"
    }
   },
   "cell_type": "code",
   "outputs": [],
   "execution_count": null,
   "source": [
    "%%sql\n",
    "SELECT education, AVG(salary) AS avg_salary\n",
    "FROM google_salaries\n",
    "GROUP BY education"
   ],
   "id": "cf0360c5e490a558"
  },
  {
   "metadata": {},
   "cell_type": "code",
   "outputs": [],
   "execution_count": null,
   "source": [
    "df = google_salaries\n",
    "\n",
    "df.groupby('education', as_index=False).agg(avg_salary=('salary', 'mean'))"
   ],
   "id": "1e3353f25cc235a5"
  },
  {
   "metadata": {},
   "cell_type": "markdown",
   "source": [
    "#### ID 2107\n",
    "\n",
    "```Write a query to return all Customers (cust_id) who are violating primary key constraints in the Customer Dimension (dim_customer) i.e. those Customers who are present more than once in the Customer Dimension. For example if cust_id 'C123' is present thrice then the query should return 'C123' | '3' as output.```"
   ],
   "id": "3b8598734d3385ed"
  },
  {
   "metadata": {
    "SqlCellData": {
     "variableName$1": "df_sql2"
    }
   },
   "cell_type": "code",
   "outputs": [],
   "execution_count": null,
   "source": [
    "%%sql\n",
    "SELECT cust_id, count(cust_id) AS n_occurences\n",
    "FROM dim_customer\n",
    "GROUP BY cust_id\n",
    "HAVING count(cust_id) >= 2"
   ],
   "id": "6d747f390be4cd27"
  },
  {
   "metadata": {},
   "cell_type": "code",
   "outputs": [],
   "execution_count": null,
   "source": [
    "df = dim_customer\n",
    "\n",
    "df.groupby('cust_id', as_index=False).agg(n_occurences=('cust_id', 'count')).query('n_occurences >= 2')"
   ],
   "id": "fe51bde33b11786b"
  },
  {
   "metadata": {},
   "cell_type": "markdown",
   "source": [
    "#### ID 2108\n",
    "\n",
    "```Each Employee is assigned one territory and is responsible for the Customers from this territory. There may be multiple employees assigned to the same territory. Write a query to get the Employees who are responsible for the maximum number of Customers. Output the Employee ID and the number of Customers.```"
   ],
   "id": "ab0f5ae60703756f"
  },
  {
   "metadata": {
    "SqlCellData": {
     "variableName$1": "df_sql3"
    }
   },
   "cell_type": "code",
   "outputs": [],
   "execution_count": null,
   "source": [
    "%%sql\n",
    "WITH cte AS (SELECT empl_id, COUNT(*) OVER (PARTITION BY empl_id) AS n_customers\n",
    "             FROM map_employee_territory et\n",
    "                      JOIN map_customer_territory ct USING (territory_id)\n",
    "             ORDER BY empl_id)\n",
    "SELECT DISTINCT empl_id, n_customers\n",
    "FROM cte\n",
    "WHERE n_customers = (SELECT MAX(n_customers) FROM cte)"
   ],
   "id": "bb99a975160fd29b"
  },
  {
   "metadata": {},
   "cell_type": "code",
   "outputs": [],
   "execution_count": null,
   "source": [
    "df = pd.merge(map_customer_territory, map_employee_territory, how='inner', on='territory_id')\n",
    "\n",
    "df_grouped = df.groupby('empl_id', as_index=False).agg(n_customers=('cust_id', 'count'))\n",
    "\n",
    "max_n_customers = df_grouped.nlargest(1, 'n_customers')['n_customers'].to_list()\n",
    "\n",
    "df_grouped.query('n_customers == @max_n_customers')"
   ],
   "id": "2090a65d108f6043"
  },
  {
   "metadata": {},
   "cell_type": "markdown",
   "source": [
    "#### ID 2109\n",
    "\n",
    "```Write a query to get a list of products that have not had any sales. Output the ID and market name of these products.```"
   ],
   "id": "9d52712736b1fd16"
  },
  {
   "metadata": {
    "SqlCellData": {
     "variableName$1": "df_sql1"
    }
   },
   "cell_type": "code",
   "outputs": [],
   "execution_count": null,
   "source": [
    "%%sql\n",
    "SELECT dp.prod_sku_id, dp.market_name\n",
    "FROM dim_product AS dp\n",
    "         LEFT JOIN fct_customer_sales AS cs ON dp.prod_sku_id = cs.prod_sku_id\n",
    "WHERE cs.prod_sku_id IS NULL"
   ],
   "id": "c7195d97344ea73"
  },
  {
   "metadata": {},
   "cell_type": "code",
   "outputs": [],
   "execution_count": null,
   "source": [
    "df = pd.merge(dim_product, fct_customer_sales, how='left', left_on='prod_sku_id', right_on='prod_sku_id').query(\n",
    "    'cust_id.isnull()')[['prod_sku_id', 'market_name']]"
   ],
   "id": "244852e9c2573019"
  }
 ],
 "metadata": {
  "kernelspec": {
   "display_name": "Python 3",
   "language": "python",
   "name": "python3"
  },
  "language_info": {
   "codemirror_mode": {
    "name": "ipython",
    "version": 2
   },
   "file_extension": ".py",
   "mimetype": "text/x-python",
   "name": "python",
   "nbconvert_exporter": "python",
   "pygments_lexer": "ipython2",
   "version": "2.7.6"
  }
 },
 "nbformat": 4,
 "nbformat_minor": 5
}
