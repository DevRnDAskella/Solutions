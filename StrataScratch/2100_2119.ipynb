{
 "cells": [
  {
   "metadata": {},
   "cell_type": "markdown",
   "source": [
    "#### ID 2100\n",
    "\n",
    "```Given the education levels and salaries of a group of individuals, find what is the average salary for each level of education.```"
   ],
   "id": "3aee8c147281ff59"
  },
  {
   "metadata": {
    "SqlCellData": {
     "variableName$1": "df_sql"
    }
   },
   "cell_type": "code",
   "outputs": [],
   "execution_count": null,
   "source": [
    "%%sql\n",
    "SELECT education, AVG(salary) AS avg_salary\n",
    "FROM google_salaries\n",
    "GROUP BY education"
   ],
   "id": "cf0360c5e490a558"
  },
  {
   "metadata": {},
   "cell_type": "code",
   "outputs": [],
   "execution_count": null,
   "source": [
    "df = google_salaries\n",
    "\n",
    "df.groupby('education', as_index=False).agg(avg_salary=('salary', 'mean'))"
   ],
   "id": "1e3353f25cc235a5"
  },
  {
   "metadata": {},
   "cell_type": "markdown",
   "source": [
    "#### ID 2101\n",
    "\n",
    "```Given a single column of numbers, consider all possible permutations of two numbers assuming that pairs of numbers (x,y) and (y,x) are two different permutations. Then, for each permutation, find the maximum of the two numbers. Output three columns: the first number, the second number and the maximum of the two.```"
   ],
   "id": "b55bb0fd6a44a781"
  },
  {
   "metadata": {
    "SqlCellData": {
     "variableName$1": "df_sql7"
    }
   },
   "cell_type": "code",
   "outputs": [],
   "execution_count": null,
   "source": [
    "%%sql\n",
    "SELECT t1.number                      AS number1,\n",
    "       t2.number                      AS number2,\n",
    "       GREATEST(t1.number, t2.number) AS max_number\n",
    "FROM deloitte_numbers AS t1\n",
    "         CROSS JOIN\n",
    "     deloitte_numbers AS t2\n",
    "GROUP BY t1.number,\n",
    "         t2.number"
   ],
   "id": "2f73c7339b296caa"
  },
  {
   "metadata": {},
   "cell_type": "code",
   "outputs": [],
   "execution_count": null,
   "source": [
    "df = pd.merge(deloitte_numbers, deloitte_numbers, how='cross', suffixes=('1', '2'))\n",
    "\n",
    "df['max_number'] = df[['number1', 'number2']].max(axis=1)\n",
    "\n",
    "df"
   ],
   "id": "222a0266876e6dfb"
  },
  {
   "metadata": {},
   "cell_type": "markdown",
   "source": [
    "#### ID 2106\n",
    "\n",
    "```The data engineering team at YouTube want to clean the dataset user_flags. In particular, they want to examine rows that have missing values in more than one column. List these rows.```"
   ],
   "id": "9469d84dfa72d8a6"
  },
  {
   "metadata": {
    "SqlCellData": {
     "variableName$1": "df_sql5"
    }
   },
   "cell_type": "code",
   "outputs": [],
   "execution_count": null,
   "source": [
    "%%sql\n",
    "WITH cte AS (SELECT user_firstname,\n",
    "                    user_lastname,\n",
    "                    video_id,\n",
    "                    flag_id,\n",
    "                    ARRAY_LENGTH(ARRAY_REMOVE(\n",
    "                                         ARRAY [user_firstname, user_lastname, video_id, flag_id],\n",
    "                                         NULL), 1) AS arr_len\n",
    "             FROM user_flags)\n",
    "SELECT user_firstname, user_lastname, video_id, flag_id\n",
    "FROM cte\n",
    "WHERE arr_len <= 2;\n",
    "\n",
    "-- \n",
    "SELECT user_firstname,\n",
    "       user_lastname,\n",
    "       video_id,\n",
    "       flag_id\n",
    "FROM user_flags\n",
    "WHERE num_nulls(user_firstname, user_lastname, video_id, flag_id) >= 2"
   ],
   "id": "eba1f18c78c1bb18"
  },
  {
   "metadata": {},
   "cell_type": "code",
   "outputs": [],
   "execution_count": null,
   "source": [
    "df = user_flags\n",
    "\n",
    "df[df.isnull().sum(axis=1) >= 2]"
   ],
   "id": "969378b0194ca667"
  },
  {
   "metadata": {},
   "cell_type": "markdown",
   "source": [
    "#### ID 2107\n",
    "\n",
    "```Write a query to return all Customers (cust_id) who are violating primary key constraints in the Customer Dimension (dim_customer) i.e. those Customers who are present more than once in the Customer Dimension. For example if cust_id 'C123' is present thrice then the query should return 'C123' | '3' as output.```"
   ],
   "id": "3b8598734d3385ed"
  },
  {
   "metadata": {
    "SqlCellData": {
     "variableName$1": "df_sql2"
    }
   },
   "cell_type": "code",
   "outputs": [],
   "execution_count": null,
   "source": [
    "%%sql\n",
    "SELECT cust_id, count(cust_id) AS n_occurences\n",
    "FROM dim_customer\n",
    "GROUP BY cust_id\n",
    "HAVING count(cust_id) >= 2"
   ],
   "id": "6d747f390be4cd27"
  },
  {
   "metadata": {},
   "cell_type": "code",
   "outputs": [],
   "execution_count": null,
   "source": [
    "df = dim_customer\n",
    "\n",
    "df.groupby('cust_id', as_index=False).agg(n_occurences=('cust_id', 'count')).query('n_occurences >= 2')"
   ],
   "id": "fe51bde33b11786b"
  },
  {
   "metadata": {},
   "cell_type": "markdown",
   "source": [
    "#### ID 2108\n",
    "\n",
    "```Each Employee is assigned one territory and is responsible for the Customers from this territory. There may be multiple employees assigned to the same territory. Write a query to get the Employees who are responsible for the maximum number of Customers. Output the Employee ID and the number of Customers.```"
   ],
   "id": "ab0f5ae60703756f"
  },
  {
   "metadata": {
    "SqlCellData": {
     "variableName$1": "df_sql3"
    }
   },
   "cell_type": "code",
   "outputs": [],
   "execution_count": null,
   "source": [
    "%%sql\n",
    "WITH cte AS (SELECT empl_id, COUNT(*) OVER (PARTITION BY empl_id) AS n_customers\n",
    "             FROM map_employee_territory et\n",
    "                      JOIN map_customer_territory ct USING (territory_id)\n",
    "             ORDER BY empl_id)\n",
    "SELECT DISTINCT empl_id, n_customers\n",
    "FROM cte\n",
    "WHERE n_customers = (SELECT MAX(n_customers) FROM cte)"
   ],
   "id": "bb99a975160fd29b"
  },
  {
   "metadata": {},
   "cell_type": "code",
   "outputs": [],
   "execution_count": null,
   "source": [
    "df = pd.merge(map_customer_territory, map_employee_territory, how='inner', on='territory_id')\n",
    "\n",
    "df_grouped = df.groupby('empl_id', as_index=False).agg(n_customers=('cust_id', 'count'))\n",
    "\n",
    "max_n_customers = df_grouped.nlargest(1, 'n_customers')['n_customers'].to_list()\n",
    "\n",
    "df_grouped.query('n_customers == @max_n_customers')"
   ],
   "id": "2090a65d108f6043"
  },
  {
   "metadata": {},
   "cell_type": "markdown",
   "source": [
    "#### ID 2109\n",
    "\n",
    "```Write a query to get a list of products that have not had any sales. Output the ID and market name of these products.```"
   ],
   "id": "9d52712736b1fd16"
  },
  {
   "metadata": {
    "SqlCellData": {
     "variableName$1": "df_sql1"
    }
   },
   "cell_type": "code",
   "outputs": [],
   "execution_count": null,
   "source": [
    "%%sql\n",
    "SELECT dp.prod_sku_id, dp.market_name\n",
    "FROM dim_product AS dp\n",
    "         LEFT JOIN fct_customer_sales AS cs ON dp.prod_sku_id = cs.prod_sku_id\n",
    "WHERE cs.prod_sku_id IS NULL"
   ],
   "id": "c7195d97344ea73"
  },
  {
   "metadata": {},
   "cell_type": "code",
   "outputs": [],
   "execution_count": null,
   "source": [
    "df = pd.merge(dim_product, fct_customer_sales, how='left', left_on='prod_sku_id', right_on='prod_sku_id').query(\n",
    "    'cust_id.isnull()')[['prod_sku_id', 'market_name']]"
   ],
   "id": "244852e9c2573019"
  },
  {
   "metadata": {},
   "cell_type": "markdown",
   "source": [
    "#### ID 2110\n",
    "\n",
    "```Write a query to get the list of managers whose salary is less than twice the average salary of employees reporting to them. For these managers, output their ID, salary and the average salary of employees reporting to them.```"
   ],
   "id": "1d99c94c05760ed8"
  },
  {
   "metadata": {
    "SqlCellData": {
     "variableName$1": "df_sql4"
    }
   },
   "cell_type": "code",
   "outputs": [],
   "execution_count": null,
   "source": [
    "%%sql\n",
    "WITH cte AS (SELECT eh.manager_empl_id,\n",
    "                    de.empl_id,\n",
    "                    manager_salary,\n",
    "                    AVG(de.salary)\n",
    "                    OVER (PARTITION BY eh.manager_empl_id) AS avg_employee_salary\n",
    "             FROM map_employee_hierarchy eh\n",
    "                      JOIN\n",
    "                  dim_employee de\n",
    "                  ON\n",
    "                      de.empl_id = eh.empl_id\n",
    "                      JOIN\n",
    "                  (SELECT empl_id,\n",
    "                          salary AS manager_salary\n",
    "                   FROM dim_employee) AS sq\n",
    "                  ON\n",
    "                      sq.empl_id = eh.manager_empl_id)\n",
    "SELECT DISTINCT manager_empl_id, manager_salary, avg_employee_salary\n",
    "FROM cte\n",
    "WHERE manager_salary <= 2 * avg_employee_salary"
   ],
   "id": "2f3107f60aa29a05"
  },
  {
   "metadata": {},
   "cell_type": "code",
   "outputs": [],
   "execution_count": null,
   "source": [
    "sq = dim_employee[['empl_id', 'salary']].rename(columns={'salary': 'manager_salary'})\n",
    "\n",
    "df = map_employee_hierarchy.merge(dim_employee, on='empl_id') \\\n",
    "    .merge(sq, left_on='manager_empl_id', right_on='empl_id', suffixes=('', '_manager'))\n",
    "\n",
    "df['avg_employee_salary'] = df.groupby('manager_empl_id')['salary'].transform('mean')\n",
    "\n",
    "df[['manager_empl_id', 'manager_salary', 'avg_employee_salary']].drop_duplicates().query(\n",
    "    'manager_salary <=  2 * avg_employee_salary')"
   ],
   "id": "10990d05adcca0ce"
  },
  {
   "metadata": {},
   "cell_type": "markdown",
   "source": [
    "#### ID 2113\n",
    "\n",
    "```To remain competitive, the company you work with must reduce the number of extremely late deliveries. A delivery is flagged as extremely late if the actual delivery time is more than 20 minutes (not inclusive) after the predicted delivery time. You have been asked to calculate the percentage of orders that arrive extremely late each month. Your output should include the month in the format 'YYYY-MM' and the percentage of extremely late orders as a percentage of all orders placed in that month.```"
   ],
   "id": "a46bef863074d08b"
  },
  {
   "metadata": {
    "SqlCellData": {
     "variableName$1": "df_sql8"
    }
   },
   "cell_type": "code",
   "outputs": [],
   "execution_count": null,
   "source": [
    "%%sql\n",
    "SELECT TO_CHAR(order_placed_time, 'YYYY-MM') AS year_month,\n",
    "       COUNT(delivery_id) FILTER (WHERE\n",
    "           EXTRACT(EPOCH FROM (actual_delivery_time - predicted_delivery_time)) / 60.0 >\n",
    "           20 ) * 100.0 / COUNT(delivery_id) AS perc_extremely_delayed\n",
    "FROM delivery_orders\n",
    "WHERE actual_delivery_time IS NOT NULL\n",
    "GROUP BY year_month"
   ],
   "id": "46e3975cdb18e6bf"
  },
  {
   "metadata": {},
   "cell_type": "code",
   "outputs": [],
   "execution_count": null,
   "source": "",
   "id": "883b3144cea81c87"
  },
  {
   "metadata": {},
   "cell_type": "markdown",
   "source": [
    "#### ID 2116\n",
    "\n",
    "```How many orders were shipped by Speedy Express in total?```"
   ],
   "id": "b8cf8702afeb9252"
  },
  {
   "metadata": {
    "SqlCellData": {
     "variableName$1": "df_sql6"
    }
   },
   "cell_type": "code",
   "outputs": [],
   "execution_count": null,
   "source": [
    "%%sql\n",
    "SELECT COUNT(order_id) AS n_shipped\n",
    "FROM shopify_orders so\n",
    "         JOIN shopify_carriers sc ON so.carrier_id = sc.id\n",
    "WHERE name = 'Speedy Express'"
   ],
   "id": "5a0c4fb58d47bc93"
  },
  {
   "metadata": {},
   "cell_type": "code",
   "outputs": [],
   "execution_count": null,
   "source": [
    "df = pd.merge(shopify_orders, shopify_carriers, how='inner', left_on='carrier_id', right_on='id')\n",
    "\n",
    "df.query('name == \"Speedy Express\"')['order_id'].count()"
   ],
   "id": "1a73aa0892d6bc39"
  },
  {
   "metadata": {},
   "cell_type": "markdown",
   "source": [
    "#### ID 2117\n",
    "\n",
    "```What is the last name of the employee or employees who are responsible for the most orders?```"
   ],
   "id": "3ab50c2ec4f5af4f"
  },
  {
   "metadata": {
    "SqlCellData": {
     "variableName$1": "df_sql9"
    }
   },
   "cell_type": "code",
   "outputs": [],
   "execution_count": null,
   "source": [
    "%%sql\n",
    "WITH cte AS (SELECT resp_employee_id,\n",
    "                    COUNT(order_id)                                   AS n_orders,\n",
    "                    DENSE_RANK() OVER (ORDER BY COUNT(order_id) DESC) AS rnk\n",
    "             FROM shopify_orders\n",
    "             GROUP BY resp_employee_id)\n",
    "SELECT last_name\n",
    "FROM cte\n",
    "         JOIN shopify_employees AS se ON cte.resp_employee_id = se.id\n",
    "WHERE rnk = 1"
   ],
   "id": "90e6d16f01a3b565"
  },
  {
   "metadata": {},
   "cell_type": "code",
   "outputs": [],
   "execution_count": null,
   "source": [
    "df = shopify_orders\n",
    "\n",
    "df.groupby('resp_employee_id', as_index=False).agg(n_orders=('order_id', 'count')).nlargest(1, 'n_orders',\n",
    "                                                                                            keep='all').merge(\n",
    "    shopify_employees, how='inner', left_on='resp_employee_id', right_on='id')['last_name']"
   ],
   "id": "971f9def15b9c627"
  }
 ],
 "metadata": {
  "kernelspec": {
   "display_name": "Python 3",
   "language": "python",
   "name": "python3"
  },
  "language_info": {
   "codemirror_mode": {
    "name": "ipython",
    "version": 2
   },
   "file_extension": ".py",
   "mimetype": "text/x-python",
   "name": "python",
   "nbconvert_exporter": "python",
   "pygments_lexer": "ipython2",
   "version": "2.7.6"
  }
 },
 "nbformat": 4,
 "nbformat_minor": 5
}
