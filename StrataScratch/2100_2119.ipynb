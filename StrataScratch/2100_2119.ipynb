{
 "cells": [
  {
   "metadata": {},
   "cell_type": "markdown",
   "source": [
    "#### ID 2100\n",
    "\n",
    "```Given the education levels and salaries of a group of individuals, find what is the average salary for each level of education.```"
   ],
   "id": "3aee8c147281ff59"
  },
  {
   "metadata": {
    "SqlCellData": {
     "variableName$1": "df_sql"
    }
   },
   "cell_type": "code",
   "outputs": [],
   "execution_count": null,
   "source": [
    "%%sql\n",
    "SELECT education, AVG(salary) AS avg_salary\n",
    "FROM google_salaries\n",
    "GROUP BY education"
   ],
   "id": "cf0360c5e490a558"
  },
  {
   "metadata": {},
   "cell_type": "code",
   "outputs": [],
   "execution_count": null,
   "source": [
    "df = google_salaries\n",
    "\n",
    "df.groupby('education', as_index=False).agg(avg_salary=('salary', 'mean'))"
   ],
   "id": "1e3353f25cc235a5"
  }
 ],
 "metadata": {
  "kernelspec": {
   "display_name": "Python 3",
   "language": "python",
   "name": "python3"
  },
  "language_info": {
   "codemirror_mode": {
    "name": "ipython",
    "version": 2
   },
   "file_extension": ".py",
   "mimetype": "text/x-python",
   "name": "python",
   "nbconvert_exporter": "python",
   "pygments_lexer": "ipython2",
   "version": "2.7.6"
  }
 },
 "nbformat": 4,
 "nbformat_minor": 5
}
