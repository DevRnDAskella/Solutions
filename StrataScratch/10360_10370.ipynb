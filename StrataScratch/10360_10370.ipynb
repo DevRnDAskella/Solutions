{
 "cells": [
  {
   "metadata": {},
   "cell_type": "markdown",
   "source": [
    "**ID 10360**\n",
    "\n",
    "```As a data scientist at Amazon Prime Video, you are tasked with enhancing the in-flight entertainment experience for Amazon’s airline partners. Your challenge is to develop a feature that suggests individual movies from Amazon's content database that fit within a given flight's duration. For flight 101, find movies whose runtime is less than or equal to the flight's duration. The output should list suggested movies for the flight, including 'flight_id', 'movie_id', and 'movie_duration'.\"```"
   ],
   "id": "6a00aea23902fc03"
  },
  {
   "metadata": {
    "SqlCellData": {
     "variableName$1": "df_sql16"
    }
   },
   "cell_type": "code",
   "outputs": [],
   "execution_count": null,
   "source": [
    "%%sql\n",
    "select \n",
    "    fs.flight_id,\n",
    "    ec.movie_id,\n",
    "    ec.duration as movie_duration\n",
    "from flight_schedule as fs JOIN entertainment_catalog as ec ON \n",
    "    ec.duration <= fs.flight_duration \n",
    "where \n",
    "    fs.flight_id = 101\n",
    "ORDER BY ec.duration ASC"
   ],
   "id": "5c5b6f6e48ecb953"
  },
  {
   "metadata": {},
   "cell_type": "code",
   "outputs": [],
   "execution_count": null,
   "source": "df = pd.merge(entertainment_catalog, flight_schedule.query('flight_id == 101'), how='cross').query('duration <= flight_duration')[['flight_id', 'movie_id', 'duration']]",
   "id": "9e6935533109dc9c"
  },
  {
   "metadata": {},
   "cell_type": "markdown",
   "source": [
    "**ID 10362**\n",
    "\n",
    "```You are provided with a transactional dataset from Amazon that contains detailed information about sales across different products and marketplaces. Your task is to list the top 3 sellers in each product category for January. The output should contain 'seller_id' , 'total_sales' ,'product_category' , 'market_place', and 'month'.```"
   ],
   "id": "c570a340f42796cd"
  },
  {
   "metadata": {
    "SqlCellData": {
     "variableName$1": "df_sql18"
    }
   },
   "cell_type": "code",
   "outputs": [],
   "execution_count": null,
   "source": [
    "%%sql\n",
    "WITH ranked AS (SELECT *,\n",
    "                    DENSE_RANK()\n",
    "                    OVER (PARTITION BY product_category ORDER BY total_sales DESC) AS rnk\n",
    "             FROM sales_data\n",
    "             WHERE month = '2024-01')\n",
    "SELECT seller_id,\n",
    "       total_sales,\n",
    "       product_category,\n",
    "       market_place,\n",
    "       month\n",
    "FROM ranked\n",
    "WHERE rnk <= 3"
   ],
   "id": "3c9e84b00fd2d515"
  },
  {
   "metadata": {},
   "cell_type": "code",
   "outputs": [],
   "execution_count": null,
   "source": [
    "df = sales_data\n",
    "df['str_month'] = df['month'].dt.strftime('%Y-%m')\n",
    "filtered_df = df.query('str_month == \"2024-01\"')\n",
    "\n",
    "filtered_df['rnk'] = filtered_df.groupby('product_category')['total_sales'].rank(method='dense',ascending=False)\n",
    "\n",
    "filtered_df[filtered_df['rnk'].isin([1, 2, 3])].loc[:, ~filtered_df.columns.isin(['rnk', 'str_month'])].sort_values(['product_category','total_sales'], ascending =(True,False))"
   ],
   "id": "391fe671449d10f5"
  },
  {
   "metadata": {},
   "cell_type": "markdown",
   "source": [
    "**ID 10363**\n",
    "\n",
    "```For each week, find the total number of orders. Include only the orders that are from the first quarter of 2023. The output should contain 'week' and 'quantity'.```"
   ],
   "id": "a99a0b8c03f7af79"
  },
  {
   "metadata": {
    "SqlCellData": {
     "variableName$1": "df_sql15"
    }
   },
   "cell_type": "code",
   "outputs": [],
   "execution_count": null,
   "source": [
    "%%sql\n",
    "SELECT week,\n",
    "       quantity\n",
    "FROM orders_analysis\n",
    "WHERE EXTRACT(QUARTER FROM week) = 1\n",
    "  AND EXTRACT(YEAR FROM week) = 2023\n",
    "ORDER BY EXTRACT(WEEK FROM week) ASC"
   ],
   "id": "77b097a41e053e15"
  },
  {
   "metadata": {},
   "cell_type": "code",
   "outputs": [],
   "execution_count": null,
   "source": [
    "df = orders_analysis\n",
    "df.query('week.dt.quarter == 1 & week.dt.year == 2023').sort_values('week')[['week', 'quantity']]"
   ],
   "id": "220f24b610eb19d6"
  },
  {
   "metadata": {},
   "cell_type": "markdown",
   "source": [
    "**ID 10364**\n",
    "\n",
    "```You have access to Facebook's database which includes several tables relevant to user interactions. For this task, you are particularly interested in tables that store data about user posts, friendships, and likes. Calculate the total number of likes made on friend posts on Friday. The output should contain two different columns 'likes' and 'date'.```"
   ],
   "id": "cbda9bcd523a26a7"
  },
  {
   "metadata": {
    "SqlCellData": {
     "variableName$1": "df_sql17"
    }
   },
   "cell_type": "code",
   "outputs": [],
   "execution_count": null,
   "source": [
    "%%sql\n",
    "WITH filtered_likes AS (SELECT post_id,\n",
    "                               user_name,\n",
    "                               date_liked\n",
    "                        FROM likes\n",
    "                        WHERE DATE_PART('dow', date_liked) = 5),\n",
    "     result_table AS (SELECT up.post_id,\n",
    "                      up.user_name AS host_name,\n",
    "                      fl.user_name AS guest_name,\n",
    "                      up.date_posted,\n",
    "                      fl.date_liked\n",
    "               FROM user_posts AS up\n",
    "                        JOIN filtered_likes AS fl ON up.post_id = fl.post_id\n",
    "               WHERE up.user_name || ' ' || fl.user_name IN\n",
    "                     (SELECT f.user_name1 || ' ' || f.user_name2\n",
    "                      FROM friendships AS f)\n",
    "                  OR up.user_name || ' ' || fl.user_name IN\n",
    "                     (SELECT f.user_name2 || ' ' || f.user_name1\n",
    "                      FROM friendships AS f))\n",
    "SELECT date_liked, \n",
    "       COUNT(*) AS likes\n",
    "FROM result_table\n",
    "GROUP BY date_liked"
   ],
   "id": "34c7e146afaa3247"
  },
  {
   "metadata": {},
   "cell_type": "code",
   "outputs": [],
   "execution_count": null,
   "source": "",
   "id": "51bd408a1b27a88b"
  },
  {
   "metadata": {},
   "cell_type": "markdown",
   "source": [
    "**ID 10365**\n",
    "\n",
    "```You are analyzing a social network dataset at Google. Your task is to find mutual friends between two users, Karl and Hans. There is only one user named Karl and one named Hans in the dataset. The output should contain 'user_id' and 'user_name' columns.```"
   ],
   "id": "68c10db73bc85500"
  },
  {
   "metadata": {
    "SqlCellData": {
     "variableName$1": "df_sql13"
    }
   },
   "cell_type": "code",
   "outputs": [],
   "execution_count": null,
   "source": [
    "%%sql\n",
    "WITH cte AS (SELECT *\n",
    "             FROM (SELECT friend_id\n",
    "                   FROM friends\n",
    "                   WHERE user_id IN (SELECT user_id\n",
    "                                     FROM users\n",
    "                                     WHERE user_name = 'Karl')) AS t1\n",
    "             INTERSECT\n",
    "             SELECT *\n",
    "             FROM (SELECT friend_id\n",
    "                   FROM friends\n",
    "                   WHERE user_id IN (SELECT user_id\n",
    "                                     FROM users\n",
    "                                     WHERE user_name = 'Hans')) AS t2)\n",
    "SELECT user_id, user_name\n",
    "FROM users\n",
    "WHERE user_id IN (SELECT * FROM cte)"
   ],
   "id": "eab2ff09aa09007e"
  },
  {
   "metadata": {},
   "cell_type": "markdown",
   "source": [
    "**ID 10366**\n",
    "\n",
    "```Capital One's marketing team is working on a project to analyze customer feedback from their feedback surveys. The team sorted the words from the feedback into three different categories: short_comments, mid_length_comments, long_comments. The team wants to find comments that are not short and that come from social media. The output should include 'feedback_id,' 'feedback_text,' 'source_channel,' and a calculated category```"
   ],
   "id": "f8f8a3c7d6a6666b"
  },
  {
   "metadata": {
    "SqlCellData": {
     "variableName$1": "df_sql12"
    }
   },
   "cell_type": "code",
   "outputs": [],
   "execution_count": null,
   "source": [
    "%%sql\n",
    "SELECT DISTINCT feedback_id,\n",
    "                feedback_text,\n",
    "                source_channel,\n",
    "                comment_category\n",
    "FROM customer_feedback\n",
    "WHERE comment_category != 'short_comments'\n",
    "  AND source_channel IN ('social_media')"
   ],
   "id": "d80a7aa0a53be43e"
  },
  {
   "metadata": {},
   "cell_type": "code",
   "outputs": [],
   "execution_count": null,
   "source": [
    "df = customer_feedback\n",
    "\n",
    "df.query('source_channel.isin([\"social_media\"]) & comment_category != \"short_comments\"').drop_duplicates()"
   ],
   "id": "bb34071db0dca0b3"
  },
  {
   "metadata": {},
   "cell_type": "markdown",
   "source": [
    "**ID 10367**\n",
    "\n",
    "```You're tasked with analyzing a Spotify-like dataset that captures user listening habits. For each user, calculate the total listening time and the count of unique songs they've listened to. In the database duration values are displayed in seconds. Round the total listening duration to the nearest whole minute. The output should contain three columns: 'user_id', 'total_listen_duration', and 'unique_song_count'.```"
   ],
   "id": "5aa273e0483a91f3"
  },
  {
   "metadata": {
    "SqlCellData": {
     "variableName$1": "df_sql14"
    }
   },
   "cell_type": "code",
   "outputs": [],
   "execution_count": null,
   "source": [
    "%%sql\n",
    "SELECT user_id,\n",
    "       ROUND(SUM(listen_duration) / 60) AS total_listen_duration,\n",
    "       COUNT(DISTINCT song_id)          AS unique_song_count\n",
    "FROM listening_habits\n",
    "GROUP BY user_id"
   ],
   "id": "74c3d99895138d49"
  },
  {
   "metadata": {},
   "cell_type": "code",
   "outputs": [],
   "execution_count": null,
   "source": [
    "df = listening_habits\n",
    "result = df.groupby('user_id', as_index=False).agg(total_listen_duration=('listen_duration', 'sum'), unique_song_count = ('song_id', 'nunique'))\n",
    "result['total_listen_duration'] = result['total_listen_duration'].apply(lambda x: round(x / 60))\n",
    "result"
   ],
   "id": "1e1adcf03de7258a"
  },
  {
   "metadata": {},
   "cell_type": "markdown",
   "source": [
    "**ID 10368**\n",
    "\n",
    "```You are working on a data analysis project at Deloitte where you need to analyze a dataset containing information about various cities. Your task is to calculate the population density of these cities, rounded to the nearest integer, and identify the cities with the minimum and maximum densities. The population density should be calculated as (Population / Area). The output should contain 'city', 'country', 'density'.```"
   ],
   "id": "12f750f3a0430914"
  },
  {
   "metadata": {
    "SqlCellData": {
     "variableName$1": "df_sql11"
    }
   },
   "cell_type": "code",
   "outputs": [],
   "execution_count": null,
   "source": [
    "%%sql\n",
    "WITH cte AS (SELECT city,\n",
    "                    country,\n",
    "                    population / NULLIF(area, 0)                               AS density,\n",
    "                    RANK() OVER (ORDER BY (population / NULLIF(area, 0)))      AS low_rnk,\n",
    "                    RANK() OVER (ORDER BY (population / NULLIF(area, 0)) DESC) AS high_rnk\n",
    "             FROM cities_population\n",
    "             WHERE area > 0)\n",
    "SELECT city,\n",
    "       country,\n",
    "       density\n",
    "FROM cte\n",
    "WHERE low_rnk = 1\n",
    "   OR high_rnk = 1"
   ],
   "id": "601f6c09ac8ec6a2"
  },
  {
   "metadata": {},
   "cell_type": "code",
   "outputs": [],
   "execution_count": null,
   "source": [
    "df = cities_population\n",
    "df = df.query('area > 0')\n",
    "\n",
    "df['density'] = df['population'] / df['area']\n",
    "df['low_rank'] = df['density'].rank(method='min')\n",
    "df['high_rank'] = df['density'].rank(method='min', ascending=False)\n",
    "df.query('low_rank == 1 | high_rank == 1')[['city', 'country', 'density']]"
   ],
   "id": "c26ce994e102d64c"
  }
 ],
 "metadata": {
  "kernelspec": {
   "display_name": "Python 3",
   "language": "python",
   "name": "python3"
  },
  "language_info": {
   "codemirror_mode": {
    "name": "ipython",
    "version": 2
   },
   "file_extension": ".py",
   "mimetype": "text/x-python",
   "name": "python",
   "nbconvert_exporter": "python",
   "pygments_lexer": "ipython2",
   "version": "2.7.6"
  }
 },
 "nbformat": 4,
 "nbformat_minor": 5
}
