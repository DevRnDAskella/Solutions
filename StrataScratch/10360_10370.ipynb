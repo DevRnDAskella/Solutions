{
 "cells": [
  {
   "metadata": {},
   "cell_type": "markdown",
   "source": [
    "**ID 10365**\n",
    "\n",
    "```You are analyzing a social network dataset at Google. Your task is to find mutual friends between two users, Karl and Hans. There is only one user named Karl and one named Hans in the dataset. The output should contain 'user_id' and 'user_name' columns.```"
   ],
   "id": "68c10db73bc85500"
  },
  {
   "metadata": {
    "SqlCellData": {
     "variableName$1": "df_sql13"
    }
   },
   "cell_type": "code",
   "outputs": [],
   "execution_count": null,
   "source": [
    "%%sql\n",
    "WITH cte AS (SELECT *\n",
    "             FROM (SELECT friend_id\n",
    "                   FROM friends\n",
    "                   WHERE user_id IN (SELECT user_id\n",
    "                                     FROM users\n",
    "                                     WHERE user_name = 'Karl')) AS t1\n",
    "             INTERSECT\n",
    "             SELECT *\n",
    "             FROM (SELECT friend_id\n",
    "                   FROM friends\n",
    "                   WHERE user_id IN (SELECT user_id\n",
    "                                     FROM users\n",
    "                                     WHERE user_name = 'Hans')) AS t2)\n",
    "SELECT user_id, user_name\n",
    "FROM users\n",
    "WHERE user_id IN (SELECT * FROM cte)"
   ],
   "id": "eab2ff09aa09007e"
  },
  {
   "metadata": {},
   "cell_type": "markdown",
   "source": [
    "**ID 10366**\n",
    "\n",
    "```Capital One's marketing team is working on a project to analyze customer feedback from their feedback surveys. The team sorted the words from the feedback into three different categories: short_comments, mid_length_comments, long_comments. The team wants to find comments that are not short and that come from social media. The output should include 'feedback_id,' 'feedback_text,' 'source_channel,' and a calculated category```"
   ],
   "id": "f8f8a3c7d6a6666b"
  },
  {
   "metadata": {
    "SqlCellData": {
     "variableName$1": "df_sql12"
    }
   },
   "cell_type": "code",
   "outputs": [],
   "execution_count": null,
   "source": [
    "%%sql\n",
    "SELECT DISTINCT feedback_id,\n",
    "                feedback_text,\n",
    "                source_channel,\n",
    "                comment_category\n",
    "FROM customer_feedback\n",
    "WHERE comment_category != 'short_comments'\n",
    "  AND source_channel IN ('social_media')"
   ],
   "id": "d80a7aa0a53be43e"
  },
  {
   "metadata": {},
   "cell_type": "code",
   "outputs": [],
   "execution_count": null,
   "source": [
    "df = customer_feedback\n",
    "\n",
    "df.query('source_channel.isin([\"social_media\"]) & comment_category != \"short_comments\"').drop_duplicates()"
   ],
   "id": "bb34071db0dca0b3"
  },
  {
   "metadata": {},
   "cell_type": "markdown",
   "source": [
    "**ID 10368**\n",
    "\n",
    "```You are working on a data analysis project at Deloitte where you need to analyze a dataset containing information about various cities. Your task is to calculate the population density of these cities, rounded to the nearest integer, and identify the cities with the minimum and maximum densities. The population density should be calculated as (Population / Area). The output should contain 'city', 'country', 'density'.```"
   ],
   "id": "12f750f3a0430914"
  },
  {
   "metadata": {
    "SqlCellData": {
     "variableName$1": "df_sql11"
    }
   },
   "cell_type": "code",
   "outputs": [],
   "execution_count": null,
   "source": [
    "%%sql\n",
    "WITH cte AS (SELECT city,\n",
    "                    country,\n",
    "                    population / NULLIF(area, 0)                               AS density,\n",
    "                    RANK() OVER (ORDER BY (population / NULLIF(area, 0)))      AS low_rnk,\n",
    "                    RANK() OVER (ORDER BY (population / NULLIF(area, 0)) DESC) AS high_rnk\n",
    "             FROM cities_population\n",
    "             WHERE area > 0)\n",
    "SELECT city,\n",
    "       country,\n",
    "       density\n",
    "FROM cte\n",
    "WHERE low_rnk = 1\n",
    "   OR high_rnk = 1"
   ],
   "id": "601f6c09ac8ec6a2"
  },
  {
   "metadata": {},
   "cell_type": "code",
   "outputs": [],
   "execution_count": null,
   "source": [
    "df = cities_population\n",
    "df = df.query('area > 0')\n",
    "\n",
    "df['density'] = df['population'] / df['area']\n",
    "df['low_rank'] = df['density'].rank(method='min')\n",
    "df['high_rank'] = df['density'].rank(method='min', ascending=False)\n",
    "df.query('low_rank == 1 | high_rank == 1')[['city', 'country', 'density']]"
   ],
   "id": "c26ce994e102d64c"
  }
 ],
 "metadata": {
  "kernelspec": {
   "display_name": "Python 3",
   "language": "python",
   "name": "python3"
  },
  "language_info": {
   "codemirror_mode": {
    "name": "ipython",
    "version": 2
   },
   "file_extension": ".py",
   "mimetype": "text/x-python",
   "name": "python",
   "nbconvert_exporter": "python",
   "pygments_lexer": "ipython2",
   "version": "2.7.6"
  }
 },
 "nbformat": 4,
 "nbformat_minor": 5
}
