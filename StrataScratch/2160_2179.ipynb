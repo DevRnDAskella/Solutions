{
 "cells": [
  {
   "metadata": {},
   "cell_type": "markdown",
   "source": [
    "#### ID 2163\n",
    "\n",
    "```You have been asked to sort movies according to their duration in descending order. Your output should contain all columns sorted by the movie duration in the given dataset.```"
   ],
   "id": "ef23045f9e54b9c5"
  },
  {
   "metadata": {
    "SqlCellData": {
     "variableName$1": "df_sql"
    }
   },
   "cell_type": "code",
   "outputs": [],
   "execution_count": null,
   "source": [
    "%%sql\n",
    "SELECT show_id, title, release_year, rating, duration\n",
    "FROM movie_catalogue\n",
    "ORDER BY SPLIT_PART(duration, ' ', 1)::INT DESC"
   ],
   "id": "c68b87be3cc5377b"
  },
  {
   "metadata": {},
   "cell_type": "code",
   "outputs": [],
   "execution_count": null,
   "source": [
    "df = movie_catalogue\n",
    "\n",
    "df['durat'] = df['duration'].apply(lambda x: int(x.split(' ')[0]))\n",
    "\n",
    "df.sort_values('durat', ascending=False).drop(columns='durat')"
   ],
   "id": "6ed8221c4682ef91"
  }
 ],
 "metadata": {
  "kernelspec": {
   "display_name": "Python 3",
   "language": "python",
   "name": "python3"
  },
  "language_info": {
   "codemirror_mode": {
    "name": "ipython",
    "version": 2
   },
   "file_extension": ".py",
   "mimetype": "text/x-python",
   "name": "python",
   "nbconvert_exporter": "python",
   "pygments_lexer": "ipython2",
   "version": "2.7.6"
  }
 },
 "nbformat": 4,
 "nbformat_minor": 5
}
