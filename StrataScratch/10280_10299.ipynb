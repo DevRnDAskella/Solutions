{
 "cells": [
  {
   "metadata": {},
   "cell_type": "markdown",
   "source": [
    "#### ID 10285\n",
    "\n",
    "```What is the overall friend acceptance rate by date? Your output should have the rate of acceptances by the date the request was sent. Order by the earliest date to latest. Assume that each friend request starts by a user sending (i.e., user_id_sender) a friend request to another user (i.e., user_id_receiver) that's logged in the table with action = 'sent'. If the request is accepted, the table logs action = 'accepted'. If the request is not accepted, no record of action = 'accepted' is logged.```"
   ],
   "id": "a44068ffd8ca4ebc"
  },
  {
   "metadata": {
    "SqlCellData": {
     "variableName$1": "df_sql"
    }
   },
   "cell_type": "code",
   "outputs": [],
   "execution_count": null,
   "source": [
    "%%sql\n",
    "SELECT a.date, COUNT(b.action) * 1.0 / COUNT(a.action) AS percentage_acceptance\n",
    "FROM fb_friend_requests AS a\n",
    "         LEFT JOIN fb_friend_requests AS b ON a.user_id_sender = b.user_id_sender AND\n",
    "                                              a.user_id_receiver = b.user_id_receiver AND\n",
    "                                              b.action = 'accepted'\n",
    "WHERE a.action = 'sent'\n",
    "GROUP BY a.date"
   ],
   "id": "89789dd0282fa35b"
  },
  {
   "metadata": {},
   "cell_type": "code",
   "outputs": [],
   "execution_count": null,
   "source": [
    "df = fb_friend_requests\n",
    "\n",
    "df_sent = df[df['action'] == 'sent']\n",
    "df_accept = df[df['action'] == 'accepted']\n",
    "\n",
    "df_final = pd.merge(df_sent, df_accept, how='left', on=['user_id_sender', 'user_id_receiver'],\n",
    "                    suffixes=['_sent', '_accept']).groupby('date_sent', as_index=False).count()\n",
    "\n",
    "df_final['acceptance_rate'] = df_final['action_accept'] / df_final['action_sent']\n",
    "df_final[['date_sent', 'acceptance_rate']]"
   ],
   "id": "9c94d188bb9e763d"
  }
 ],
 "metadata": {
  "kernelspec": {
   "display_name": "Python 3",
   "language": "python",
   "name": "python3"
  },
  "language_info": {
   "codemirror_mode": {
    "name": "ipython",
    "version": 2
   },
   "file_extension": ".py",
   "mimetype": "text/x-python",
   "name": "python",
   "nbconvert_exporter": "python",
   "pygments_lexer": "ipython2",
   "version": "2.7.6"
  }
 },
 "nbformat": 4,
 "nbformat_minor": 5
}
