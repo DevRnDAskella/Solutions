{
 "cells": [
  {
   "metadata": {},
   "cell_type": "markdown",
   "source": [
    "#### ID 10028\n",
    "\n",
    "```Find the number of wines each taster tasted within the variation. Output the tester's name, variety, and the number of tastings. Order records by taster name and the variety in ascending order and by the number of tasting in descending order.```"
   ],
   "id": "546339c6562399a3"
  },
  {
   "metadata": {
    "SqlCellData": {
     "variableName$1": "df_sql"
    }
   },
   "cell_type": "code",
   "outputs": [],
   "execution_count": null,
   "source": [
    "%%sql\n",
    "SELECT DISTINCT taster_name, variety, COUNT(id) AS n_tastings\n",
    "FROM winemag_p2\n",
    "WHERE taster_name IS NOT NULL\n",
    "GROUP BY taster_name, variety\n",
    "ORDER BY taster_name, variety, n_tastings DESC"
   ],
   "id": "85be8511585c3aa2"
  },
  {
   "metadata": {},
   "cell_type": "code",
   "outputs": [],
   "execution_count": null,
   "source": [
    "df = winemag_p2\n",
    "\n",
    "df.query('~taster_name.isnull()').groupby(['taster_name', 'variety'], as_index=False).agg(\n",
    "    n_tastings=('id', 'count')).drop_duplicates(subset=['taster_name', 'variety']).sort_values(\n",
    "    ['taster_name', 'variety', 'n_tastings'], ascending=[True, True, False])"
   ],
   "id": "ed7f8d0ece67ba3c"
  }
 ],
 "metadata": {
  "kernelspec": {
   "display_name": "Python 3",
   "language": "python",
   "name": "python3"
  },
  "language_info": {
   "codemirror_mode": {
    "name": "ipython",
    "version": 2
   },
   "file_extension": ".py",
   "mimetype": "text/x-python",
   "name": "python",
   "nbconvert_exporter": "python",
   "pygments_lexer": "ipython2",
   "version": "2.7.6"
  }
 },
 "nbformat": 4,
 "nbformat_minor": 5
}
