{
 "cells": [
  {
   "metadata": {},
   "cell_type": "markdown",
   "source": [
    "#### ID 10302\n",
    "\n",
    "```You’re given a dataset of uber rides with the traveling distance (‘distance_to_travel’) and cost (‘monetary_cost’) for each ride. First, find the difference between the distance-per-dollar for each date and the average distance-per-dollar for that year-month. Distance-per-dollar is defined as the distance traveled divided by the cost of the ride. Use the calculated difference on each date to calculate absolute average difference in distance-per-dollar metric on monthly basis (year-month). --The output should include the year-month (YYYY-MM) and the absolute average difference in distance-per-dollar (Absolute value to be rounded to the 2nd decimal). You should also count both success and failed request_status as the distance and cost values are populated for all ride requests. Also, assume that all dates are unique in the dataset. Order your results by earliest request date first.```"
   ],
   "id": "ca55a4b08027ff1c"
  },
  {
   "metadata": {
    "SqlCellData": {
     "variableName$1": "df_sql"
    }
   },
   "cell_type": "code",
   "outputs": [],
   "execution_count": null,
   "source": [
    "%%sql\n",
    "WITH distance_per_dollar AS (SELECT request_date,\n",
    "                                    TO_CHAR(request_date, 'YYYY-MM')   AS request_mnth,\n",
    "                                    distance_to_travel / monetary_cost AS distance_per_dollar\n",
    "                             FROM uber_request_logs),\n",
    "     daily_diff AS (SELECT request_mnth,\n",
    "                           ABS(distance_per_dollar - AVG(distance_per_dollar)\n",
    "                                                     OVER (PARTITION BY request_mnth)) AS difference\n",
    "                    FROM distance_per_dollar)\n",
    "select request_mnth, round(avg(difference)::decimal, 2) as difference\n",
    "from daily_diff\n",
    "group by request_mnth \n",
    "order by request_mnth"
   ],
   "id": "7e7f46fa63afcad1"
  },
  {
   "metadata": {},
   "cell_type": "code",
   "outputs": [],
   "execution_count": null,
   "source": [
    "df = uber_request_logs\n",
    "\n",
    "df['request_mnth'] = df['request_date'].dt.strftime('%Y-%m')\n",
    "\n",
    "df['distance_per_dollar'] = df['distance_to_travel'] / df['monetary_cost']\n",
    "\n",
    "df['avg_distance_per_dollar'] = df.groupby('request_mnth')['distance_per_dollar'].transform('mean')\n",
    "\n",
    "df['difference'] = (df['distance_per_dollar'] - df['avg_distance_per_dollar']).abs()\n",
    "\n",
    "df.groupby('request_mnth').agg(abs_difference=('difference', lambda x: x.mean().round(2))).reset_index().sort_values(\n",
    "    'request_mnth')"
   ],
   "id": "3d013e302f8aa8c3"
  },
  {
   "metadata": {},
   "cell_type": "markdown",
   "source": [
    "#### ID 10313\n",
    "\n",
    "```Some forecasting methods are extremely simple and surprisingly effective. Naïve forecast is one of them; we simply set all forecasts to be the value of the last observation. Our goal is to develop a naïve forecast for a new metric called \"distance per dollar\" defined as the (distance_to_travel/monetary_cost) in our dataset and measure its accuracy. To develop this forecast,  sum \"distance to travel\"  and \"monetary cost\" values at a monthly level before calculating \"distance per dollar\". This value becomes your actual value for the current month. The next step is to populate the forecasted value for each month. This can be achieved simply by getting the previous month's value in a separate column. Now, we have actual and forecasted values. This is your naïve forecast. Let’s evaluate our model by calculating an error matrix called root mean squared error (RMSE). RMSE is defined as sqrt(mean(square(actual - forecast)). Report out the RMSE rounded to the 2nd decimal spot.```"
   ],
   "id": "b8b2930035cfa0f1"
  },
  {
   "metadata": {
    "SqlCellData": {
     "variableName$1": "df_sql1"
    }
   },
   "cell_type": "code",
   "outputs": [],
   "execution_count": null,
   "source": [
    "%%sql\n",
    "WITH monthly_dist_per_dollar AS (SELECT TO_CHAR(request_date, 'YYYY-MM')             AS request_mnth,\n",
    "                    SUM(distance_to_travel) / SUM(monetary_cost) AS monthly_dist_per_dollar\n",
    "             FROM uber_request_logs\n",
    "             GROUP BY request_mnth),\n",
    "\n",
    "     prev_monthly_dist_per_dollar AS (SELECT request_mnth,\n",
    "                      monthly_dist_per_dollar,\n",
    "                      LAG(monthly_dist_per_dollar, 1)\n",
    "                      OVER (ORDER BY request_mnth) AS prev_monthly_dist_per_dollar\n",
    "               FROM monthly_dist_per_dollar\n",
    "               ORDER BY request_mnth),\n",
    "\n",
    "     power AS (SELECT request_mnth,\n",
    "                      monthly_dist_per_dollar,\n",
    "                      prev_monthly_dist_per_dollar,\n",
    "                      POWER(prev_monthly_dist_per_dollar - monthly_dist_per_dollar,\n",
    "                            2) AS power\n",
    "               FROM prev_monthly_dist_per_dollar)\n",
    "\n",
    "SELECT ROUND(SQRT(AVG(power))::DECIMAL, 2) AS rmse\n",
    "FROM power"
   ],
   "id": "c8046d6a2b58f8ad"
  },
  {
   "metadata": {},
   "cell_type": "code",
   "outputs": [],
   "execution_count": null,
   "source": [
    "df = uber_request_logs\n",
    "\n",
    "df['request_mnth'] = df['request_date'].dt.to_period('m')\n",
    "\n",
    "df_grouped = df.groupby('request_mnth', as_index=False).apply(\n",
    "    lambda x: x['distance_to_travel'].sum() / x['monetary_cost'].sum())\n",
    "df_grouped.columns = ['request_mnth', 'monthly_dist_per_dollar']\n",
    "\n",
    "df_grouped['prev_monthly_dist_per_dollar'] = df_grouped.sort_values('request_mnth')['monthly_dist_per_dollar'].shift(1)\n",
    "\n",
    "df_grouped['power'] = (df_grouped['prev_monthly_dist_per_dollar'] - df_grouped['monthly_dist_per_dollar']) ** 2\n",
    "\n",
    "sqrt(df_grouped['power'].mean()).round(2)"
   ],
   "id": "5b67381b5044c4ae"
  }
 ],
 "metadata": {
  "kernelspec": {
   "display_name": "Python 3",
   "language": "python",
   "name": "python3"
  },
  "language_info": {
   "codemirror_mode": {
    "name": "ipython",
    "version": 2
   },
   "file_extension": ".py",
   "mimetype": "text/x-python",
   "name": "python",
   "nbconvert_exporter": "python",
   "pygments_lexer": "ipython2",
   "version": "2.7.6"
  }
 },
 "nbformat": 4,
 "nbformat_minor": 5
}
