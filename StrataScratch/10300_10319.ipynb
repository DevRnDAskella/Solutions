{
 "cells": [
  {
   "metadata": {},
   "cell_type": "markdown",
   "source": [
    "#### ID 10302\n",
    "\n",
    "```You’re given a dataset of uber rides with the traveling distance (‘distance_to_travel’) and cost (‘monetary_cost’) for each ride. First, find the difference between the distance-per-dollar for each date and the average distance-per-dollar for that year-month. Distance-per-dollar is defined as the distance traveled divided by the cost of the ride. Use the calculated difference on each date to calculate absolute average difference in distance-per-dollar metric on monthly basis (year-month). --The output should include the year-month (YYYY-MM) and the absolute average difference in distance-per-dollar (Absolute value to be rounded to the 2nd decimal). You should also count both success and failed request_status as the distance and cost values are populated for all ride requests. Also, assume that all dates are unique in the dataset. Order your results by earliest request date first.```"
   ],
   "id": "ca55a4b08027ff1c"
  },
  {
   "metadata": {
    "SqlCellData": {
     "variableName$1": "df_sql"
    }
   },
   "cell_type": "code",
   "outputs": [],
   "execution_count": null,
   "source": [
    "%%sql\n",
    "WITH distance_per_dollar AS (SELECT request_date,\n",
    "                                    TO_CHAR(request_date, 'YYYY-MM')   AS request_mnth,\n",
    "                                    distance_to_travel / monetary_cost AS distance_per_dollar\n",
    "                             FROM uber_request_logs),\n",
    "     daily_diff AS (SELECT request_mnth,\n",
    "                           ABS(distance_per_dollar - AVG(distance_per_dollar)\n",
    "                                                     OVER (PARTITION BY request_mnth)) AS difference\n",
    "                    FROM distance_per_dollar)\n",
    "select request_mnth, round(avg(difference)::decimal, 2) as difference\n",
    "from daily_diff\n",
    "group by request_mnth \n",
    "order by request_mnth"
   ],
   "id": "7e7f46fa63afcad1"
  },
  {
   "metadata": {},
   "cell_type": "code",
   "outputs": [],
   "execution_count": null,
   "source": [
    "df = uber_request_logs\n",
    "\n",
    "df['request_mnth'] = df['request_date'].dt.strftime('%Y-%m')\n",
    "\n",
    "df['distance_per_dollar'] = df['distance_to_travel'] / df['monetary_cost']\n",
    "\n",
    "df['avg_distance_per_dollar'] = df.groupby('request_mnth')['distance_per_dollar'].transform('mean')\n",
    "\n",
    "df['difference'] = (df['distance_per_dollar'] - df['avg_distance_per_dollar']).abs()\n",
    "\n",
    "df.groupby('request_mnth').agg(abs_difference=('difference', lambda x: x.mean().round(2))).reset_index().sort_values(\n",
    "    'request_mnth')"
   ],
   "id": "3d013e302f8aa8c3"
  }
 ],
 "metadata": {
  "kernelspec": {
   "display_name": "Python 3",
   "language": "python",
   "name": "python3"
  },
  "language_info": {
   "codemirror_mode": {
    "name": "ipython",
    "version": 2
   },
   "file_extension": ".py",
   "mimetype": "text/x-python",
   "name": "python",
   "nbconvert_exporter": "python",
   "pygments_lexer": "ipython2",
   "version": "2.7.6"
  }
 },
 "nbformat": 4,
 "nbformat_minor": 5
}
