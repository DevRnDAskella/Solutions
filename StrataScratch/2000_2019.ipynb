{
 "cells": [
  {
   "metadata": {},
   "cell_type": "markdown",
   "source": [
    "#### ID 2000\n",
    "\n",
    "```Write a query that returns binary description of rate type per loan_id. The results should have one row per loan_id and two columns: for fixed and variable type.```"
   ],
   "id": "ad5144064b1dc199"
  },
  {
   "metadata": {
    "SqlCellData": {
     "variableName$1": "df_sql"
    }
   },
   "cell_type": "code",
   "outputs": [],
   "execution_count": null,
   "source": [
    "%%sql\n",
    "SELECT loan_id,\n",
    "       CASE WHEN rate_type = 'fixed' THEN 1 ELSE 0 END    AS fixed,\n",
    "       CASE WHEN rate_type = 'variable' THEN 1 ELSE 0 END AS variable\n",
    "FROM submissions;"
   ],
   "id": "113628abdf437a54"
  },
  {
   "metadata": {},
   "cell_type": "code",
   "outputs": [],
   "execution_count": null,
   "source": [
    "df = submissions\n",
    "pd.get_dummies(df[['loan_id','rate_type']], prefix='', prefix_sep='')"
   ],
   "id": "d2baaae00c85f405"
  },
  {
   "metadata": {},
   "cell_type": "markdown",
   "source": [
    "#### ID 2002\n",
    "\n",
    "```Write a query that returns the user ID of all users that have created at least one ‘Refinance’ submission and at least one ‘InSchool’ submission.```"
   ],
   "id": "38880d09d9843505"
  },
  {
   "metadata": {
    "SqlCellData": {
     "variableName$1": "df_sql1"
    }
   },
   "cell_type": "code",
   "outputs": [],
   "execution_count": null,
   "source": [
    "%%sql\n",
    "SELECT DISTINCT user_id\n",
    "FROM loans\n",
    "WHERE user_id IN (SELECT user_id FROM loans WHERE type IN ('Refinance'))\n",
    "  AND user_id IN (SELECT user_id FROM loans WHERE type IN ('InSchool'))"
   ],
   "id": "f08387a59296b906"
  },
  {
   "metadata": {},
   "cell_type": "code",
   "outputs": [],
   "execution_count": null,
   "source": [
    "df_ref = loans.query('type == \"Refinance\"')['user_id'].drop_duplicates()\n",
    "df_sch = loans.query('type == \"InSchool\"')['user_id'].drop_duplicates()\n",
    "df = pd.merge(df_ref, df_sch, on='user_id')"
   ],
   "id": "2d13e96f69982558"
  }
 ],
 "metadata": {
  "kernelspec": {
   "display_name": "Python 3",
   "language": "python",
   "name": "python3"
  },
  "language_info": {
   "codemirror_mode": {
    "name": "ipython",
    "version": 2
   },
   "file_extension": ".py",
   "mimetype": "text/x-python",
   "name": "python",
   "nbconvert_exporter": "python",
   "pygments_lexer": "ipython2",
   "version": "2.7.6"
  }
 },
 "nbformat": 4,
 "nbformat_minor": 5
}
