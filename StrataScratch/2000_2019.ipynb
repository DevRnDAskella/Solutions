{
 "cells": [
  {
   "metadata": {},
   "cell_type": "markdown",
   "source": [
    "#### ID 2000\n",
    "\n",
    "```Write a query that returns binary description of rate type per loan_id. The results should have one row per loan_id and two columns: for fixed and variable type.```"
   ],
   "id": "ad5144064b1dc199"
  },
  {
   "metadata": {
    "SqlCellData": {
     "variableName$1": "df_sql"
    }
   },
   "cell_type": "code",
   "outputs": [],
   "execution_count": null,
   "source": [
    "%%sql\n",
    "SELECT loan_id,\n",
    "       CASE WHEN rate_type = 'fixed' THEN 1 ELSE 0 END    AS fixed,\n",
    "       CASE WHEN rate_type = 'variable' THEN 1 ELSE 0 END AS variable\n",
    "FROM submissions;"
   ],
   "id": "113628abdf437a54"
  },
  {
   "metadata": {},
   "cell_type": "code",
   "outputs": [],
   "execution_count": null,
   "source": [
    "df = submissions\n",
    "pd.get_dummies(df[['loan_id','rate_type']], prefix='', prefix_sep='')"
   ],
   "id": "d2baaae00c85f405"
  },
  {
   "metadata": {},
   "cell_type": "markdown",
   "source": [
    "#### ID 2002\n",
    "\n",
    "```Write a query that returns the user ID of all users that have created at least one ‘Refinance’ submission and at least one ‘InSchool’ submission.```"
   ],
   "id": "38880d09d9843505"
  },
  {
   "metadata": {
    "SqlCellData": {
     "variableName$1": "df_sql1"
    }
   },
   "cell_type": "code",
   "outputs": [],
   "execution_count": null,
   "source": [
    "%%sql\n",
    "SELECT DISTINCT user_id\n",
    "FROM loans\n",
    "WHERE user_id IN (SELECT user_id FROM loans WHERE type IN ('Refinance'))\n",
    "  AND user_id IN (SELECT user_id FROM loans WHERE type IN ('InSchool'))"
   ],
   "id": "f08387a59296b906"
  },
  {
   "metadata": {},
   "cell_type": "code",
   "outputs": [],
   "execution_count": null,
   "source": [
    "df_ref = loans.query('type == \"Refinance\"')['user_id'].drop_duplicates()\n",
    "df_sch = loans.query('type == \"InSchool\"')['user_id'].drop_duplicates()\n",
    "df = pd.merge(df_ref, df_sch, on='user_id')"
   ],
   "id": "2d13e96f69982558"
  },
  {
   "metadata": {},
   "cell_type": "markdown",
   "source": [
    "#### ID 2010\n",
    "\n",
    "```List the top 10 users who accumulated the most sessions where they had more streaming sessions than viewing. Return the user_id, number of streaming sessions, and number of viewing sessions.```"
   ],
   "id": "40e0c615ffeae9ae"
  },
  {
   "metadata": {
    "SqlCellData": {
     "variableName$1": "df_sql2"
    }
   },
   "cell_type": "code",
   "outputs": [],
   "execution_count": null,
   "source": [
    "%%sql\n",
    "WITH filtered AS (SELECT user_id,\n",
    "                    COUNT(CASE WHEN session_type = 'streamer' THEN 1 ELSE NULL END) AS streaming_sessions,\n",
    "                    COUNT(CASE WHEN session_type = 'viewer' THEN 1 ELSE NULL END)   AS viewing_sessions\n",
    "             FROM twitch_sessions\n",
    "             GROUP BY user_id\n",
    "             HAVING COUNT(CASE WHEN session_type = 'streamer' THEN 1 ELSE NULL END) >\n",
    "                    COUNT(CASE WHEN session_type = 'viewer' THEN 1 ELSE NULL END)),\n",
    "     ranked AS (SELECT user_id,\n",
    "                       streaming_sessions,\n",
    "                       viewing_sessions,\n",
    "                      DENSE_RANK()\n",
    "                      OVER (ORDER BY (streaming_sessions + viewing_sessions) DESC) AS rnk\n",
    "               FROM filtered)\n",
    "SELECT user_id, streaming_sessions, viewing_sessions\n",
    "FROM ranked\n",
    "WHERE rnk <= 10"
   ],
   "id": "238451798ea75152"
  },
  {
   "metadata": {},
   "cell_type": "code",
   "outputs": [],
   "execution_count": null,
   "source": "# TODO",
   "id": "c88e010b5cd0af16"
  },
  {
   "metadata": {},
   "cell_type": "markdown",
   "source": [
    "#### ID 2016\n",
    "\n",
    "```Which partners have ‘pizza’ in their name and are located in Boston? And what is the average order amount? Output the partner name and the average order amount.```"
   ],
   "id": "33a8b4d6ca3996a6"
  },
  {
   "metadata": {
    "SqlCellData": {
     "variableName$1": "df_sql3"
    }
   },
   "cell_type": "code",
   "outputs": [],
   "execution_count": null,
   "source": [
    "%%sql\n",
    "SELECT pp.name, AVG(po.amount) AS avg\n",
    "FROM postmates_orders po\n",
    "         LEFT JOIN postmates_markets pm ON po.city_id = pm.id\n",
    "         LEFT JOIN postmates_partners pp ON po.seller_id = pp.id\n",
    "WHERE pm.name = 'Boston'\n",
    "  AND pp.name ILIKE '%pizza%'\n",
    "GROUP BY pp.name"
   ],
   "id": "e7e03859d29f8276"
  },
  {
   "metadata": {},
   "cell_type": "code",
   "outputs": [],
   "execution_count": null,
   "source": [
    "df = pd.merge(pd.merge(postmates_orders, postmates_markets, how='left', left_on='city_id', right_on='id'), postmates_partners, how='left', left_on='seller_id', right_on='id')\n",
    "df.query('name_x == \"Boston\" & name_y.str.contains(\"pizza\", case=False)').groupby('name_y', as_index=False).agg(avg=('amount', 'mean'))"
   ],
   "id": "308c7b8e335e48fb"
  }
 ],
 "metadata": {
  "kernelspec": {
   "display_name": "Python 3",
   "language": "python",
   "name": "python3"
  },
  "language_info": {
   "codemirror_mode": {
    "name": "ipython",
    "version": 2
   },
   "file_extension": ".py",
   "mimetype": "text/x-python",
   "name": "python",
   "nbconvert_exporter": "python",
   "pygments_lexer": "ipython2",
   "version": "2.7.6"
  }
 },
 "nbformat": 4,
 "nbformat_minor": 5
}
