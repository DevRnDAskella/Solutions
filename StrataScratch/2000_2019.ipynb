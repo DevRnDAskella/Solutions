{
 "cells": [
  {
   "metadata": {},
   "cell_type": "markdown",
   "source": [
    "#### ID 2000\n",
    "\n",
    "```Write a query that returns binary description of rate type per loan_id. The results should have one row per loan_id and two columns: for fixed and variable type.```"
   ],
   "id": "ad5144064b1dc199"
  },
  {
   "metadata": {
    "SqlCellData": {
     "variableName$1": "df_sql"
    }
   },
   "cell_type": "code",
   "outputs": [],
   "execution_count": null,
   "source": [
    "%%sql\n",
    "SELECT loan_id,\n",
    "       CASE WHEN rate_type = 'fixed' THEN 1 ELSE 0 END    AS fixed,\n",
    "       CASE WHEN rate_type = 'variable' THEN 1 ELSE 0 END AS variable\n",
    "FROM submissions;"
   ],
   "id": "113628abdf437a54"
  },
  {
   "metadata": {},
   "cell_type": "code",
   "outputs": [],
   "execution_count": null,
   "source": [
    "df = submissions\n",
    "pd.get_dummies(df[['loan_id','rate_type']], prefix='', prefix_sep='')"
   ],
   "id": "d2baaae00c85f405"
  },
  {
   "metadata": {},
   "cell_type": "markdown",
   "source": [
    "#### ID 2001\n",
    "\n",
    "```Write a query that returns the rate_type, loan_id, loan balance , and a column that shows with what percentage the loan's balance contributes to the total balance among the loans of the same rate type```"
   ],
   "id": "9554b4bf8380823c"
  },
  {
   "metadata": {
    "SqlCellData": {
     "variableName$1": "df_sql4"
    }
   },
   "cell_type": "code",
   "outputs": [],
   "execution_count": null,
   "source": [
    "%%sql\n",
    "SELECT rate_type,\n",
    "       loan_id,\n",
    "       SUM(balance) OVER (PARTITION BY loan_id)                     AS balance,\n",
    "       balance * 100.0 / SUM(balance) OVER (PARTITION BY rate_type) AS balance_share\n",
    "FROM submissions;"
   ],
   "id": "eeed0cf7ce11cc2a"
  },
  {
   "metadata": {},
   "cell_type": "code",
   "outputs": [],
   "execution_count": null,
   "source": [
    "df = submissions\n",
    "df.groupby('loan_id', as_index=False).agg(balance=('balance', 'sum'))\n",
    "df = pd.merge(pd.merge(df, df.groupby('rate_type', as_index=False).agg(balance_by_type=('balance', 'sum')), on='rate_type').drop(columns='balance'), df.groupby('loan_id', as_index=False).agg(balance=('balance', 'sum')), on='loan_id')\n",
    "df['balance_share'] = df['balance'] * 100 / df['balance_by_type']\n",
    "df[['loan_id', 'rate_type', 'balance', 'balance_share']]"
   ],
   "id": "ebe97bd43037508f"
  },
  {
   "metadata": {},
   "cell_type": "markdown",
   "source": [
    "#### ID 2002\n",
    "\n",
    "```Write a query that returns the user ID of all users that have created at least one ‘Refinance’ submission and at least one ‘InSchool’ submission.```"
   ],
   "id": "38880d09d9843505"
  },
  {
   "metadata": {
    "SqlCellData": {
     "variableName$1": "df_sql1"
    }
   },
   "cell_type": "code",
   "outputs": [],
   "execution_count": null,
   "source": [
    "%%sql\n",
    "SELECT DISTINCT user_id\n",
    "FROM loans\n",
    "WHERE user_id IN (SELECT user_id FROM loans WHERE type IN ('Refinance'))\n",
    "  AND user_id IN (SELECT user_id FROM loans WHERE type IN ('InSchool'))"
   ],
   "id": "f08387a59296b906"
  },
  {
   "metadata": {},
   "cell_type": "code",
   "outputs": [],
   "execution_count": null,
   "source": [
    "df_ref = loans.query('type == \"Refinance\"')['user_id'].drop_duplicates()\n",
    "df_sch = loans.query('type == \"InSchool\"')['user_id'].drop_duplicates()\n",
    "df = pd.merge(df_ref, df_sch, on='user_id')"
   ],
   "id": "2d13e96f69982558"
  },
  {
   "metadata": {},
   "cell_type": "markdown",
   "source": [
    "#### ID 2003\n",
    "\n",
    "```Write a query that joins this submissions table to the loans table and returns the total loan balance on each user’s most recent ‘Refinance’ submission. Return all users and the balance for each of them.```"
   ],
   "id": "689c5a933c4d8ee6"
  },
  {
   "metadata": {
    "SqlCellData": {
     "variableName$1": "df_sql6"
    }
   },
   "cell_type": "code",
   "outputs": [],
   "execution_count": null,
   "source": [
    "%%sql\n",
    "WITH cte AS (SELECT user_id,\n",
    "                    balance,\n",
    "                    DENSE_RANK()\n",
    "                    OVER (PARTITION BY user_id ORDER BY created_at DESC) AS rnk\n",
    "             FROM loans l\n",
    "                      JOIN submissions s ON l.id = s.loan_id\n",
    "             WHERE type = 'Refinance')\n",
    "SELECT user_id, balance\n",
    "FROM cte\n",
    "WHERE rnk = 1"
   ],
   "id": "ed6eb798220ba51c"
  },
  {
   "metadata": {},
   "cell_type": "code",
   "outputs": [],
   "execution_count": null,
   "source": [
    "df = pd.merge(loans.query('type == \"Refinance\"'), submissions, how='inner', left_on='id', right_on='loan_id')\n",
    "df['rnk'] = df.groupby('user_id')['created_at'].rank(method='first', ascending=False)\n",
    "df.query('rnk == 1')[['user_id', 'balance']]"
   ],
   "id": "91e28774cff994fa"
  },
  {
   "metadata": {},
   "cell_type": "markdown",
   "source": [
    "#### ID 2004\n",
    "\n",
    "```Return the total number of comments received for each user in the 30 or less days before 2020-02-10. Don't output users who haven't received any comment in the defined time period.```"
   ],
   "id": "2eac5d2e2701fd8b"
  },
  {
   "metadata": {
    "SqlCellData": {
     "variableName$1": "df_sql7"
    }
   },
   "cell_type": "code",
   "outputs": [],
   "execution_count": null,
   "source": [
    "%%sql\n",
    "SELECT user_id,\n",
    "       SUM(number_of_comments) AS number_of_comments\n",
    "FROM fb_comments_count\n",
    "WHERE ('2020-02-10' - created_at) BETWEEN 0 AND 30\n",
    "GROUP BY user_id"
   ],
   "id": "76c8693d5add1ba9"
  },
  {
   "metadata": {},
   "cell_type": "code",
   "outputs": [],
   "execution_count": null,
   "source": [
    "df = fb_comments_count\n",
    "df[(pd.to_datetime('2020-02-10') - df['created_at']).dt.days.between(0, 30)].groupby('user_id', as_index=False).agg(n_comments=('number_of_comments', 'sum'))"
   ],
   "id": "a7637d7c621563d1"
  },
  {
   "metadata": {},
   "cell_type": "markdown",
   "source": [
    "#### ID 2006\n",
    "\n",
    "```Return a distribution of users activity per day of the month. By distribution we mean the number of posts per day of the month.```"
   ],
   "id": "4cf4033038ed3ea6"
  },
  {
   "metadata": {
    "SqlCellData": {
     "variableName$1": "df_sql8"
    }
   },
   "cell_type": "code",
   "outputs": [],
   "execution_count": null,
   "source": [
    "%%sql\n",
    "SELECT EXTRACT(DAY FROM post_date), COUNT(post_text)\n",
    "FROM facebook_posts\n",
    "GROUP BY EXTRACT(DAY FROM post_date)"
   ],
   "id": "ea6470f213541d01"
  },
  {
   "metadata": {},
   "cell_type": "code",
   "outputs": [],
   "execution_count": null,
   "source": [
    "df = facebook_posts\n",
    "df.groupby(df['post_date'].dt.day, as_index=False).agg(count=('post_text', 'count')).to_frame('user_activity')"
   ],
   "id": "f1543dcfe2818283"
  },
  {
   "metadata": {},
   "cell_type": "markdown",
   "source": [
    "#### ID 2009\n",
    "\n",
    "```Find users who are both a viewer and streamer.```"
   ],
   "id": "fa81b0091543fae3"
  },
  {
   "metadata": {
    "SqlCellData": {
     "variableName$1": "df_sql5"
    }
   },
   "cell_type": "code",
   "outputs": [],
   "execution_count": null,
   "source": [
    "%%sql\n",
    "SELECT DISTINCT user_id\n",
    "FROM twitch_sessions\n",
    "WHERE user_id IN (SELECT user_id FROM twitch_sessions WHERE session_type = 'viewer')\n",
    "  AND user_id IN (SELECT user_id FROM twitch_sessions WHERE session_type = 'streamer')"
   ],
   "id": "6254fff86ed10234"
  },
  {
   "metadata": {},
   "cell_type": "code",
   "outputs": [],
   "execution_count": null,
   "source": "df = pd.merge(twitch_sessions, twitch_sessions, how='inner', on='user_id', suffixes=('_user1', '_user2')).query('session_type_user1 == \"streamer\" & session_type_user2 == \"viewer\"')['user_id'].drop_duplicates().sort_values().reset_index(drop=True)",
   "id": "d83d2985b1142b3"
  },
  {
   "metadata": {},
   "cell_type": "markdown",
   "source": [
    "#### ID 2010\n",
    "\n",
    "```List the top 10 users who accumulated the most sessions where they had more streaming sessions than viewing. Return the user_id, number of streaming sessions, and number of viewing sessions.```"
   ],
   "id": "40e0c615ffeae9ae"
  },
  {
   "metadata": {
    "SqlCellData": {
     "variableName$1": "df_sql2"
    }
   },
   "cell_type": "code",
   "outputs": [],
   "execution_count": null,
   "source": [
    "%%sql\n",
    "WITH filtered AS (SELECT user_id,\n",
    "                    COUNT(CASE WHEN session_type = 'streamer' THEN 1 ELSE NULL END) AS streaming_sessions,\n",
    "                    COUNT(CASE WHEN session_type = 'viewer' THEN 1 ELSE NULL END)   AS viewing_sessions\n",
    "             FROM twitch_sessions\n",
    "             GROUP BY user_id\n",
    "             HAVING COUNT(CASE WHEN session_type = 'streamer' THEN 1 ELSE NULL END) >\n",
    "                    COUNT(CASE WHEN session_type = 'viewer' THEN 1 ELSE NULL END)),\n",
    "     ranked AS (SELECT user_id,\n",
    "                       streaming_sessions,\n",
    "                       viewing_sessions,\n",
    "                      DENSE_RANK()\n",
    "                      OVER (ORDER BY (streaming_sessions + viewing_sessions) DESC) AS rnk\n",
    "               FROM filtered)\n",
    "SELECT user_id, streaming_sessions, viewing_sessions\n",
    "FROM ranked\n",
    "WHERE rnk <= 10"
   ],
   "id": "238451798ea75152"
  },
  {
   "metadata": {},
   "cell_type": "code",
   "outputs": [],
   "execution_count": null,
   "source": "# TODO",
   "id": "c88e010b5cd0af16"
  },
  {
   "metadata": {},
   "cell_type": "markdown",
   "source": [
    "#### ID 2011\n",
    "\n",
    "```Calculate the average session duration for each session type?```"
   ],
   "id": "8a55a584c101ff43"
  },
  {
   "metadata": {
    "SqlCellData": {
     "variableName$1": "df_sql9"
    }
   },
   "cell_type": "code",
   "outputs": [],
   "execution_count": null,
   "source": [
    "%%sql\n",
    "SELECT session_type, AVG(session_end - session_start) AS duration\n",
    "FROM twitch_sessions\n",
    "GROUP BY session_type"
   ],
   "id": "82224f2c5c12a630"
  },
  {
   "metadata": {},
   "cell_type": "code",
   "outputs": [],
   "execution_count": null,
   "source": [
    "df = twitch_sessions\n",
    "df['duration'] = df['session_end'] - df['session_start']\n",
    "df.groupby('session_type', as_index=False).agg(duration=('duration', 'mean'))"
   ],
   "id": "69f9f0eb93f89aba"
  },
  {
   "metadata": {},
   "cell_type": "markdown",
   "source": [
    "#### ID 2016\n",
    "\n",
    "```Which partners have ‘pizza’ in their name and are located in Boston? And what is the average order amount? Output the partner name and the average order amount.```"
   ],
   "id": "33a8b4d6ca3996a6"
  },
  {
   "metadata": {
    "SqlCellData": {
     "variableName$1": "df_sql3"
    }
   },
   "cell_type": "code",
   "outputs": [],
   "execution_count": null,
   "source": [
    "%%sql\n",
    "SELECT pp.name, AVG(po.amount) AS avg\n",
    "FROM postmates_orders po\n",
    "         LEFT JOIN postmates_markets pm ON po.city_id = pm.id\n",
    "         LEFT JOIN postmates_partners pp ON po.seller_id = pp.id\n",
    "WHERE pm.name = 'Boston'\n",
    "  AND pp.name ILIKE '%pizza%'\n",
    "GROUP BY pp.name"
   ],
   "id": "e7e03859d29f8276"
  },
  {
   "metadata": {},
   "cell_type": "code",
   "outputs": [],
   "execution_count": null,
   "source": [
    "df = pd.merge(pd.merge(postmates_orders, postmates_markets, how='left', left_on='city_id', right_on='id'), postmates_partners, how='left', left_on='seller_id', right_on='id')\n",
    "df.query('name_x == \"Boston\" & name_y.str.contains(\"pizza\", case=False)').groupby('name_y', as_index=False).agg(avg=('amount', 'mean'))"
   ],
   "id": "308c7b8e335e48fb"
  }
 ],
 "metadata": {
  "kernelspec": {
   "display_name": "Python 3",
   "language": "python",
   "name": "python3"
  },
  "language_info": {
   "codemirror_mode": {
    "name": "ipython",
    "version": 2
   },
   "file_extension": ".py",
   "mimetype": "text/x-python",
   "name": "python",
   "nbconvert_exporter": "python",
   "pygments_lexer": "ipython2",
   "version": "2.7.6"
  }
 },
 "nbformat": 4,
 "nbformat_minor": 5
}
