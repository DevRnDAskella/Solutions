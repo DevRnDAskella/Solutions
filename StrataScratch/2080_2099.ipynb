{
 "cells": [
  {
   "metadata": {},
   "cell_type": "markdown",
   "source": [
    "#### ID 2080\n",
    "\n",
    "```Count the number of unique users per day who logged in from both a mobile device and web. Output the date and the corresponding number of users.```"
   ],
   "id": "de7f4bb7707b7fcf"
  },
  {
   "metadata": {
    "SqlCellData": {
     "variableName$1": "df_sql"
    }
   },
   "cell_type": "code",
   "outputs": [],
   "execution_count": null,
   "source": [
    "%%sql\n",
    "SELECT ml.date, COUNT(DISTINCT ml.user_id) AS cnt\n",
    "FROM mobile_logs AS ml\n",
    "         JOIN web_logs AS wl ON ml.user_id = wl.user_id AND ml.date = wl.date\n",
    "GROUP BY ml.date"
   ],
   "id": "cf34bf1145dc7fcb"
  },
  {
   "metadata": {},
   "cell_type": "code",
   "outputs": [],
   "execution_count": null,
   "source": [
    "df = pd.merge(mobile_logs, web_logs, how='inner', left_on=['user_id', 'date'], right_on=['user_id', 'date'])\n",
    "\n",
    "df.groupby('date', as_index=False).agg(cnt=('user_id', 'nunique'))"
   ],
   "id": "54f05d2e6d7f52a5"
  },
  {
   "metadata": {},
   "cell_type": "markdown",
   "source": [
    "#### ID 2083\n",
    "\n",
    "```Count how many claims submitted in December 2021 are still pending. A claim is pending when it has neither an acceptance nor rejection date.```"
   ],
   "id": "a5775c4f7b8f2cb6"
  },
  {
   "metadata": {
    "SqlCellData": {
     "variableName$1": "df_sql1"
    }
   },
   "cell_type": "code",
   "outputs": [],
   "execution_count": null,
   "source": [
    "%%sql\n",
    "SELECT COUNT(claim_id) AS n_claims\n",
    "FROM cvs_claims\n",
    "WHERE (EXTRACT(YEAR FROM date_submitted) = 2021 AND\n",
    "       EXTRACT(MONTH FROM date_submitted) = 12)\n",
    "  AND (date_accepted IS NULL AND date_rejected IS NULL)"
   ],
   "id": "9e226df07e84f83c"
  },
  {
   "metadata": {},
   "cell_type": "code",
   "outputs": [],
   "execution_count": null,
   "source": [
    "df = cvs_claims\n",
    "df['year'] = df['date_submitted'].dt.year\n",
    "df['month'] = df['date_submitted'].dt.month\n",
    "\n",
    "df.query('year == 2021 & month == 12 & date_accepted.isnull() & date_rejected.isnull()')['claim_id'].count()"
   ],
   "id": "acc8b14dd68cbbaa"
  }
 ],
 "metadata": {
  "kernelspec": {
   "display_name": "Python 3",
   "language": "python",
   "name": "python3"
  },
  "language_info": {
   "codemirror_mode": {
    "name": "ipython",
    "version": 2
   },
   "file_extension": ".py",
   "mimetype": "text/x-python",
   "name": "python",
   "nbconvert_exporter": "python",
   "pygments_lexer": "ipython2",
   "version": "2.7.6"
  }
 },
 "nbformat": 4,
 "nbformat_minor": 5
}
