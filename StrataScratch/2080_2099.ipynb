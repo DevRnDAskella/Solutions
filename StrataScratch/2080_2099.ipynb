{
 "cells": [
  {
   "metadata": {},
   "cell_type": "markdown",
   "source": [
    "#### ID 2080\n",
    "\n",
    "```Count the number of unique users per day who logged in from both a mobile device and web. Output the date and the corresponding number of users.```"
   ],
   "id": "de7f4bb7707b7fcf"
  },
  {
   "metadata": {
    "SqlCellData": {
     "variableName$1": "df_sql"
    }
   },
   "cell_type": "code",
   "outputs": [],
   "execution_count": null,
   "source": [
    "%%sql\n",
    "SELECT ml.date, COUNT(DISTINCT ml.user_id) AS cnt\n",
    "FROM mobile_logs AS ml\n",
    "         JOIN web_logs AS wl ON ml.user_id = wl.user_id AND ml.date = wl.date\n",
    "GROUP BY ml.date"
   ],
   "id": "cf34bf1145dc7fcb"
  },
  {
   "metadata": {},
   "cell_type": "code",
   "outputs": [],
   "execution_count": null,
   "source": [
    "df = pd.merge(mobile_logs, web_logs, how='inner', left_on=['user_id', 'date'], right_on=['user_id', 'date'])\n",
    "\n",
    "df.groupby('date', as_index=False).agg(cnt=('user_id', 'nunique'))"
   ],
   "id": "54f05d2e6d7f52a5"
  },
  {
   "metadata": {},
   "cell_type": "markdown",
   "source": [
    "#### ID 2083\n",
    "\n",
    "```Count how many claims submitted in December 2021 are still pending. A claim is pending when it has neither an acceptance nor rejection date.```"
   ],
   "id": "a5775c4f7b8f2cb6"
  },
  {
   "metadata": {
    "SqlCellData": {
     "variableName$1": "df_sql1"
    }
   },
   "cell_type": "code",
   "outputs": [],
   "execution_count": null,
   "source": [
    "%%sql\n",
    "SELECT COUNT(claim_id) AS n_claims\n",
    "FROM cvs_claims\n",
    "WHERE (EXTRACT(YEAR FROM date_submitted) = 2021 AND\n",
    "       EXTRACT(MONTH FROM date_submitted) = 12)\n",
    "  AND (date_accepted IS NULL AND date_rejected IS NULL)"
   ],
   "id": "9e226df07e84f83c"
  },
  {
   "metadata": {},
   "cell_type": "code",
   "outputs": [],
   "execution_count": null,
   "source": [
    "df = cvs_claims\n",
    "df['year'] = df['date_submitted'].dt.year\n",
    "df['month'] = df['date_submitted'].dt.month\n",
    "\n",
    "df.query('year == 2021 & month == 12 & date_accepted.isnull() & date_rejected.isnull()')['claim_id'].count()"
   ],
   "id": "acc8b14dd68cbbaa"
  },
  {
   "metadata": {},
   "cell_type": "markdown",
   "source": [
    "#### ID 2084\n",
    "\n",
    "```You are given a table of users who have been blocked from Facebook, together with the date, duration, and the reason for the blocking. The duration is expressed as the number of days after blocking date and if this field is empty, this means that a user is blocked permanently. For each blocking reason, count how many users were blocked in December 2021. Include both the users who were blocked in December 2021 and those who were blocked before but remained blocked for at least a part of December 2021.```"
   ],
   "id": "7f24c870582e2bf5"
  },
  {
   "metadata": {
    "SqlCellData": {
     "variableName$1": "df_sql7"
    }
   },
   "cell_type": "code",
   "outputs": [],
   "execution_count": null,
   "source": [
    "%%sql\n",
    "SELECT block_reason, COUNT(DISTINCT user_id) AS n_users\n",
    "FROM fb_blocked_users\n",
    "WHERE DATE_TRUNC('month', block_date) = '2021-12-01'\n",
    "   OR (block_date < '2021-12-01' AND\n",
    "       ((block_date + INTERVAL '1' DAY * block_duration) >= '2021-12-01' OR\n",
    "        block_duration IS NULL))\n",
    "GROUP BY block_reason;"
   ],
   "id": "fd8a245c42c279c2"
  },
  {
   "metadata": {},
   "cell_type": "code",
   "outputs": [],
   "execution_count": null,
   "source": [
    "df = fb_blocked_users\n",
    "\n",
    "df['end_period'] = df['block_date'] + pd.to_timedelta(df['block_duration'], unit='d')\n",
    "\n",
    "filtered_df = df[(df['block_date'].dt.to_period('M') == '2021-12') | (\n",
    "            (df['block_date'] < '2021-12-01') & ((df['end_period'].isnull()) | (df['end_period'] >= '2021-12-01')))]\n",
    "\n",
    "result = filtered_df.groupby('block_reason', as_index=False).agg(n_users=('user_id', 'nunique'))"
   ],
   "id": "31d9592b46c38da6"
  },
  {
   "metadata": {},
   "cell_type": "markdown",
   "source": [
    "#### ID 2086\n",
    "\n",
    "```Count the total number of distinct conversations on WhatsApp. Two users share a conversation if there is at least 1 message between them. Multiple messages between the same pair of users are considered a single conversation.```"
   ],
   "id": "a4c4def69fe9883b"
  },
  {
   "metadata": {
    "SqlCellData": {
     "variableName$1": "df_sql6"
    }
   },
   "cell_type": "code",
   "outputs": [],
   "execution_count": null,
   "source": [
    "%%sql\n",
    "SELECT DISTINCT COUNT(*)\n",
    "FROM (SELECT message_sender_id, message_receiver_id\n",
    "      FROM whatsapp_messages\n",
    "      UNION\n",
    "      SELECT message_receiver_id AS message_sender_id,\n",
    "             message_sender_id   AS message_receiver_id\n",
    "      FROM whatsapp_messages) t1\n",
    "WHERE message_sender_id < message_receiver_id;"
   ],
   "id": "8601f8ee4592dec9"
  },
  {
   "metadata": {},
   "cell_type": "code",
   "outputs": [],
   "execution_count": null,
   "source": [
    "df1 = whatsapp_messages.rename(columns={'message_sender_id': 'user_1', 'message_receiver_id': 'user_2'})[\n",
    "    ['user_1', 'user_2']]\n",
    "df2 = whatsapp_messages.rename(columns={'message_sender_id': 'user_2', 'message_receiver_id': 'user_1'})[\n",
    "    ['user_1', 'user_2']]\n",
    "\n",
    "df = pd.concat([df1, df2]).drop_duplicates().reset_index(drop=True)\n",
    "\n",
    "df.query('user_1 > user_2').count().values[0]"
   ],
   "id": "4b91ea2618e8a597"
  },
  {
   "metadata": {},
   "cell_type": "markdown",
   "source": [
    "#### ID 2091\n",
    "\n",
    "```For each video game player, find the latest date when they logged in.```"
   ],
   "id": "ad3ae6dde0d3f574"
  },
  {
   "metadata": {
    "SqlCellData": {
     "variableName$1": "df_sql3"
    }
   },
   "cell_type": "code",
   "outputs": [],
   "execution_count": null,
   "source": [
    "%%sql\n",
    "SELECT player_id, MAX(login_date) AS last_date\n",
    "FROM players_logins\n",
    "GROUP BY player_id"
   ],
   "id": "d009ff9bc6fd0efd"
  },
  {
   "metadata": {},
   "cell_type": "code",
   "outputs": [],
   "execution_count": null,
   "source": [
    "df = players_logins\n",
    "df.groupby('player_id', as_index=False).agg(max_date=('login_date', 'max'))"
   ],
   "id": "938fcb738c178692"
  },
  {
   "metadata": {},
   "cell_type": "markdown",
   "source": [
    "#### ID 2092\n",
    "\n",
    "```You have been asked to find the top 3 merchants for each day with the highest number of orders on that day. In the event of a tie, multiple merchants may share the same spot, but each day at least one merchant must be in first, second, and third place. Your output should include the date in the format YYYY-MM-DD, the name of the merchant, and their place in the daily ranking.```"
   ],
   "id": "75b2b4670808a7e8"
  },
  {
   "metadata": {
    "SqlCellData": {
     "variableName$1": "df_sql4"
    }
   },
   "cell_type": "code",
   "outputs": [],
   "execution_count": null,
   "source": [
    "%%sql\n",
    "WITH cnt_orders_by_date_merchant AS (SELECT order_timestamp::DATE AS order_day,\n",
    "                                            merchant_id,\n",
    "                                            COUNT(id)             AS cnt_orders\n",
    "                                     FROM order_details\n",
    "                                     GROUP BY order_day, merchant_id),\n",
    "     ranked_cnt_orders_by_date_merchant AS (SELECT order_day,\n",
    "                                                   name,\n",
    "                                                   DENSE_RANK()\n",
    "                                                   OVER (PARTITION BY order_day ORDER BY cnt_orders DESC) AS ranking\n",
    "                                            FROM cnt_orders_by_date_merchant\n",
    "                                                     JOIN merchant_details AS md\n",
    "                                                          ON cnt_orders_by_date_merchant.merchant_id = md.id)\n",
    "SELECT order_day, name, ranking\n",
    "FROM ranked_cnt_orders_by_date_merchant\n",
    "WHERE ranking <= 3"
   ],
   "id": "baa88f49552a5e6f"
  },
  {
   "metadata": {},
   "cell_type": "code",
   "outputs": [],
   "execution_count": null,
   "source": [
    "df['date'] = df['order_timestamp'].dt.strftime('%Y-%m-%d')\n",
    "\n",
    "grouped = df.groupby(['date', 'merchant_id'], as_index=False).agg(n_orders=('id', 'count'))\n",
    "\n",
    "grouped['ranking'] = grouped.groupby('date')['n_orders'].rank(method='dense', ascending=False)\n",
    "\n",
    "grouped.query('ranking <= 3').merge(merchant_details, how='left', left_on='merchant_id', right_on='id')[\n",
    "    ['date', 'name', 'ranking']]"
   ],
   "id": "e5c5b38df1d3cf46"
  },
  {
   "metadata": {},
   "cell_type": "markdown",
   "source": [
    "#### ID 2096\n",
    "\n",
    "```Find the number of actions that ClassPass workers did for tasks completed in January 2022. The completed tasks are these rows in the asana_actions table with 'action_name' equal to CompleteTask. Note that each row in the dataset indicates how many actions of a certain type one user has performed in one day and the number of actions is stored in the 'num_actions' column. Output the ID of the user and a total number of actions they performed for tasks they completed. If a user from this company did not complete any tasks in the given period of time, you should still output their ID and the number 0 in the second column.```"
   ],
   "id": "2191b6d5feec3a41"
  },
  {
   "metadata": {
    "SqlCellData": {
     "variableName$1": "df_sql2"
    }
   },
   "cell_type": "code",
   "outputs": [],
   "execution_count": null,
   "source": [
    "%%sql\n",
    "SELECT aa.user_id,\n",
    "       SUM(CASE\n",
    "               WHEN action_name = 'CompleteTask' THEN num_actions\n",
    "               ELSE 0 END) AS n_completed_tasks\n",
    "FROM asana_actions aa\n",
    "         JOIN asana_users au ON aa.user_id = au.user_id\n",
    "WHERE DATE_PART('year', date) = 2022\n",
    "  AND DATE_PART('month', date) = 1\n",
    "  AND company = 'ClassPass'\n",
    "GROUP BY aa.user_id"
   ],
   "id": "44caff0ea2f0acb5"
  },
  {
   "metadata": {},
   "cell_type": "code",
   "outputs": [],
   "execution_count": null,
   "source": [
    "df = pd.merge(asana_actions, asana_users, how='inner', on='user_id')\n",
    "df['year'] = df['date'].dt.year\n",
    "df['month'] = df['date'].dt.month\n",
    "\n",
    "df.query('company == \"ClassPass\" & month == 1 & year == 2022').groupby('user_id', as_index=False).agg(\n",
    "    num_actions=('num_actions', lambda x: x[df['action_name'] == 'CompleteTask'].sum()))"
   ],
   "id": "862aad8780c3a7e9"
  },
  {
   "metadata": {},
   "cell_type": "markdown",
   "source": [
    "#### ID 2098\n",
    "\n",
    "```A group of travelers embark on world tours starting with their home cities. Each traveler has an undecided itinerary that evolves over the course of the tour. Some travelers decide to abruptly end their journey mid-travel and live in their last destination. Given the dataset of dates on which they travelled between different pairs of cities, can you find out how many travellers ended back in their home city? For simplicity, you can assume that each traveler made at most one trip between two cities in a day.```"
   ],
   "id": "e3092719ce759c9c"
  },
  {
   "metadata": {
    "SqlCellData": {
     "variableName$1": "df_sql8"
    }
   },
   "cell_type": "code",
   "outputs": [],
   "execution_count": null,
   "source": [
    "%%sql\n",
    "WITH cte AS (SELECT traveler,\n",
    "                    FIRST_VALUE(start_city)\n",
    "                    OVER (PARTITION BY traveler ORDER BY date)      AS home_city_start,\n",
    "                    FIRST_VALUE(end_city)\n",
    "                    OVER (PARTITION BY traveler ORDER BY date DESC) AS home_city_end\n",
    "             FROM travel_history\n",
    "             ORDER BY traveler, date)\n",
    "SELECT COUNT(DISTINCT traveler) AS n_travelers_returned\n",
    "FROM cte\n",
    "WHERE home_city_start = home_city_end"
   ],
   "id": "52bf2ab7c8c0a5ad"
  },
  {
   "metadata": {},
   "cell_type": "code",
   "outputs": [],
   "execution_count": null,
   "source": [
    "df = travel_history\n",
    "\n",
    "df['home_city_start'] = df.sort_values('date').groupby('traveler')['start_city'].transform('first')\n",
    "\n",
    "df['home_city_end'] = df.sort_values('date', ascending=False).groupby('traveler')['end_city'].transform('first')\n",
    "\n",
    "df.query('home_city_start == home_city_end')['traveler'].nunique()"
   ],
   "id": "91a2907972f05c3f"
  },
  {
   "metadata": {},
   "cell_type": "markdown",
   "source": [
    "#### ID 2099\n",
    "\n",
    "```The election is conducted in a city and everyone can vote for one or more candidates, or choose not to vote at all. Each person has 1 vote so if they vote for multiple candidates, their vote gets equally split across these candidates. For example, if a person votes for 2 candidates, these candidates receive an equivalent of 0.5 vote each. Find out who got the most votes and won the election. Output the name of the candidate or multiple names in case of a tie. To avoid issues with a floating-point error you can round the number of votes received by a candidate to 3 decimal places.```"
   ],
   "id": "f2ebff1ec533cb26"
  },
  {
   "metadata": {
    "SqlCellData": {
     "variableName$1": "df_sql5"
    }
   },
   "cell_type": "code",
   "outputs": [],
   "execution_count": null,
   "source": [
    "%%sql\n",
    "WITH cnt_votes_by_voter AS (SELECT voter, COUNT(candidate) cnt_votes\n",
    "                            FROM voting_results\n",
    "                            GROUP BY voter),\n",
    "     calc_weight_votes AS (SELECT cnt_votes_by_voter.voter,\n",
    "                                  1.0 /\n",
    "                                  (CASE WHEN cnt_votes != 0 THEN cnt_votes ELSE NULL END) AS vote_weight,\n",
    "                                  candidate\n",
    "                           FROM cnt_votes_by_voter\n",
    "                                    JOIN voting_results AS vr\n",
    "                                         ON cnt_votes_by_voter.voter = vr.voter),\n",
    "     total_votes_by_candidate AS (SELECT candidate,\n",
    "                                         SUM(vote_weight),\n",
    "                                         DENSE_RANK() OVER (ORDER BY SUM(vote_weight) DESC) AS rnk\n",
    "                                  FROM calc_weight_votes\n",
    "                                  GROUP BY candidate)\n",
    "SELECT candidate\n",
    "FROM total_votes_by_candidate\n",
    "WHERE rnk = 1"
   ],
   "id": "5d0157801bcc1d7a"
  },
  {
   "metadata": {},
   "cell_type": "code",
   "outputs": [],
   "execution_count": null,
   "source": [
    "df = voting_results\n",
    "\n",
    "cnt_votes_by_voter = df.groupby('voter', as_index=False).agg(cnt_votes=('candidate', 'count'))\n",
    "\n",
    "cnt_votes_by_voter['vote_weight'] = 1 / cnt_votes_by_voter['cnt_votes']\n",
    "\n",
    "all_date = pd.merge(cnt_votes_by_voter, voting_results, how='inner', on='voter')\n",
    "\n",
    "all_date.groupby('candidate', as_index=False).agg(total_votes=('vote_weight', 'sum')).nlargest(1, 'total_votes',\n",
    "                                                                                               keep='all')['candidate']"
   ],
   "id": "409d238f67a86b14"
  }
 ],
 "metadata": {
  "kernelspec": {
   "display_name": "Python 3",
   "language": "python",
   "name": "python3"
  },
  "language_info": {
   "codemirror_mode": {
    "name": "ipython",
    "version": 2
   },
   "file_extension": ".py",
   "mimetype": "text/x-python",
   "name": "python",
   "nbconvert_exporter": "python",
   "pygments_lexer": "ipython2",
   "version": "2.7.6"
  }
 },
 "nbformat": 4,
 "nbformat_minor": 5
}
