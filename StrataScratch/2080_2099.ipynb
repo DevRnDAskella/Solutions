{
 "cells": [
  {
   "metadata": {},
   "cell_type": "markdown",
   "source": [
    "#### ID 2080\n",
    "\n",
    "```Count the number of unique users per day who logged in from both a mobile device and web. Output the date and the corresponding number of users.```"
   ],
   "id": "de7f4bb7707b7fcf"
  },
  {
   "metadata": {
    "SqlCellData": {
     "variableName$1": "df_sql"
    }
   },
   "cell_type": "code",
   "outputs": [],
   "execution_count": null,
   "source": [
    "%%sql\n",
    "SELECT ml.date, COUNT(DISTINCT ml.user_id) AS cnt\n",
    "FROM mobile_logs AS ml\n",
    "         JOIN web_logs AS wl ON ml.user_id = wl.user_id AND ml.date = wl.date\n",
    "GROUP BY ml.date"
   ],
   "id": "cf34bf1145dc7fcb"
  },
  {
   "metadata": {},
   "cell_type": "code",
   "outputs": [],
   "execution_count": null,
   "source": [
    "df = pd.merge(mobile_logs, web_logs, how='inner', left_on=['user_id', 'date'], right_on=['user_id', 'date'])\n",
    "\n",
    "df.groupby('date', as_index=False).agg(cnt=('user_id', 'nunique'))"
   ],
   "id": "54f05d2e6d7f52a5"
  },
  {
   "metadata": {},
   "cell_type": "markdown",
   "source": [
    "#### ID 2083\n",
    "\n",
    "```Count how many claims submitted in December 2021 are still pending. A claim is pending when it has neither an acceptance nor rejection date.```"
   ],
   "id": "a5775c4f7b8f2cb6"
  },
  {
   "metadata": {
    "SqlCellData": {
     "variableName$1": "df_sql1"
    }
   },
   "cell_type": "code",
   "outputs": [],
   "execution_count": null,
   "source": [
    "%%sql\n",
    "SELECT COUNT(claim_id) AS n_claims\n",
    "FROM cvs_claims\n",
    "WHERE (EXTRACT(YEAR FROM date_submitted) = 2021 AND\n",
    "       EXTRACT(MONTH FROM date_submitted) = 12)\n",
    "  AND (date_accepted IS NULL AND date_rejected IS NULL)"
   ],
   "id": "9e226df07e84f83c"
  },
  {
   "metadata": {},
   "cell_type": "code",
   "outputs": [],
   "execution_count": null,
   "source": [
    "df = cvs_claims\n",
    "df['year'] = df['date_submitted'].dt.year\n",
    "df['month'] = df['date_submitted'].dt.month\n",
    "\n",
    "df.query('year == 2021 & month == 12 & date_accepted.isnull() & date_rejected.isnull()')['claim_id'].count()"
   ],
   "id": "acc8b14dd68cbbaa"
  },
  {
   "metadata": {},
   "cell_type": "markdown",
   "source": [
    "#### ID 2091\n",
    "\n",
    "```For each video game player, find the latest date when they logged in.```"
   ],
   "id": "ad3ae6dde0d3f574"
  },
  {
   "metadata": {
    "SqlCellData": {
     "variableName$1": "df_sql3"
    }
   },
   "cell_type": "code",
   "outputs": [],
   "execution_count": null,
   "source": [
    "%%sql\n",
    "SELECT player_id, MAX(login_date) AS last_date\n",
    "FROM players_logins\n",
    "GROUP BY player_id"
   ],
   "id": "d009ff9bc6fd0efd"
  },
  {
   "metadata": {},
   "cell_type": "code",
   "outputs": [],
   "execution_count": null,
   "source": [
    "df = players_logins\n",
    "df.groupby('player_id', as_index=False).agg(max_date=('login_date', 'max'))"
   ],
   "id": "938fcb738c178692"
  },
  {
   "metadata": {},
   "cell_type": "markdown",
   "source": [
    "#### ID 2092\n",
    "\n",
    "```You have been asked to find the top 3 merchants for each day with the highest number of orders on that day. In the event of a tie, multiple merchants may share the same spot, but each day at least one merchant must be in first, second, and third place. Your output should include the date in the format YYYY-MM-DD, the name of the merchant, and their place in the daily ranking.```"
   ],
   "id": "75b2b4670808a7e8"
  },
  {
   "metadata": {
    "SqlCellData": {
     "variableName$1": "df_sql4"
    }
   },
   "cell_type": "code",
   "outputs": [],
   "execution_count": null,
   "source": [
    "%%sql\n",
    "WITH cnt_orders_by_date_merchant AS (SELECT order_timestamp::DATE AS order_day,\n",
    "                                            merchant_id,\n",
    "                                            COUNT(id)             AS cnt_orders\n",
    "                                     FROM order_details\n",
    "                                     GROUP BY order_day, merchant_id),\n",
    "     ranked_cnt_orders_by_date_merchant AS (SELECT order_day,\n",
    "                                                   name,\n",
    "                                                   DENSE_RANK()\n",
    "                                                   OVER (PARTITION BY order_day ORDER BY cnt_orders DESC) AS ranking\n",
    "                                            FROM cnt_orders_by_date_merchant\n",
    "                                                     JOIN merchant_details AS md\n",
    "                                                          ON cnt_orders_by_date_merchant.merchant_id = md.id)\n",
    "SELECT order_day, name, ranking\n",
    "FROM ranked_cnt_orders_by_date_merchant\n",
    "WHERE ranking <= 3"
   ],
   "id": "baa88f49552a5e6f"
  },
  {
   "metadata": {},
   "cell_type": "code",
   "outputs": [],
   "execution_count": null,
   "source": [
    "df['date'] = df['order_timestamp'].dt.strftime('%Y-%m-%d')\n",
    "\n",
    "grouped = df.groupby(['date', 'merchant_id'], as_index=False).agg(n_orders=('id', 'count'))\n",
    "\n",
    "grouped['ranking'] = grouped.groupby('date')['n_orders'].rank(method='dense', ascending=False)\n",
    "\n",
    "grouped.query('ranking <= 3').merge(merchant_details, how='left', left_on='merchant_id', right_on='id')[['date', 'name', 'ranking']]"
   ],
   "id": "e5c5b38df1d3cf46"
  },
  {
   "metadata": {},
   "cell_type": "markdown",
   "source": [
    "#### ID 2096\n",
    "\n",
    "```Find the number of actions that ClassPass workers did for tasks completed in January 2022. The completed tasks are these rows in the asana_actions table with 'action_name' equal to CompleteTask. Note that each row in the dataset indicates how many actions of a certain type one user has performed in one day and the number of actions is stored in the 'num_actions' column. Output the ID of the user and a total number of actions they performed for tasks they completed. If a user from this company did not complete any tasks in the given period of time, you should still output their ID and the number 0 in the second column.```"
   ],
   "id": "2191b6d5feec3a41"
  },
  {
   "metadata": {
    "SqlCellData": {
     "variableName$1": "df_sql2"
    }
   },
   "cell_type": "code",
   "outputs": [],
   "execution_count": null,
   "source": [
    "%%sql\n",
    "SELECT aa.user_id,\n",
    "       SUM(CASE\n",
    "               WHEN action_name = 'CompleteTask' THEN num_actions\n",
    "               ELSE 0 END) AS n_completed_tasks\n",
    "FROM asana_actions aa\n",
    "         JOIN asana_users au ON aa.user_id = au.user_id\n",
    "WHERE DATE_PART('year', date) = 2022\n",
    "  AND DATE_PART('month', date) = 1\n",
    "  AND company = 'ClassPass'\n",
    "GROUP BY aa.user_id"
   ],
   "id": "44caff0ea2f0acb5"
  },
  {
   "metadata": {},
   "cell_type": "code",
   "outputs": [],
   "execution_count": null,
   "source": [
    "df = pd.merge(asana_actions, asana_users, how='inner', on='user_id')\n",
    "df['year'] = df['date'].dt.year\n",
    "df['month'] = df['date'].dt.month\n",
    "\n",
    "df.query('company == \"ClassPass\" & month == 1 & year == 2022').groupby('user_id', as_index=False).agg(\n",
    "    num_actions=('num_actions', lambda x: x[df['action_name'] == 'CompleteTask'].sum()))"
   ],
   "id": "862aad8780c3a7e9"
  }
 ],
 "metadata": {
  "kernelspec": {
   "display_name": "Python 3",
   "language": "python",
   "name": "python3"
  },
  "language_info": {
   "codemirror_mode": {
    "name": "ipython",
    "version": 2
   },
   "file_extension": ".py",
   "mimetype": "text/x-python",
   "name": "python",
   "nbconvert_exporter": "python",
   "pygments_lexer": "ipython2",
   "version": "2.7.6"
  }
 },
 "nbformat": 4,
 "nbformat_minor": 5
}
