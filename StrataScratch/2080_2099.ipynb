{
 "cells": [
  {
   "metadata": {},
   "cell_type": "markdown",
   "source": [
    "#### ID 2080\n",
    "\n",
    "```Count the number of unique users per day who logged in from both a mobile device and web. Output the date and the corresponding number of users.```"
   ],
   "id": "de7f4bb7707b7fcf"
  },
  {
   "metadata": {
    "SqlCellData": {
     "variableName$1": "df_sql"
    }
   },
   "cell_type": "code",
   "outputs": [],
   "execution_count": null,
   "source": [
    "%%sql\n",
    "SELECT ml.date, COUNT(DISTINCT ml.user_id) AS cnt\n",
    "FROM mobile_logs AS ml\n",
    "         JOIN web_logs AS wl ON ml.user_id = wl.user_id AND ml.date = wl.date\n",
    "GROUP BY ml.date"
   ],
   "id": "cf34bf1145dc7fcb"
  },
  {
   "metadata": {},
   "cell_type": "code",
   "outputs": [],
   "execution_count": null,
   "source": [
    "df = pd.merge(mobile_logs, web_logs, how='inner', left_on=['user_id', 'date'], right_on=['user_id', 'date'])\n",
    "\n",
    "df.groupby('date', as_index=False).agg(cnt=('user_id', 'nunique'))"
   ],
   "id": "54f05d2e6d7f52a5"
  }
 ],
 "metadata": {
  "kernelspec": {
   "display_name": "Python 3",
   "language": "python",
   "name": "python3"
  },
  "language_info": {
   "codemirror_mode": {
    "name": "ipython",
    "version": 2
   },
   "file_extension": ".py",
   "mimetype": "text/x-python",
   "name": "python",
   "nbconvert_exporter": "python",
   "pygments_lexer": "ipython2",
   "version": "2.7.6"
  }
 },
 "nbformat": 4,
 "nbformat_minor": 5
}
